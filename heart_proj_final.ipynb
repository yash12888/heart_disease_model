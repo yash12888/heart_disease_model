{
 "cells": [
  {
   "cell_type": "code",
   "execution_count": 208,
   "id": "1d1183ba",
   "metadata": {},
   "outputs": [],
   "source": [
    "import numpy as np\n",
    "import pandas as pd\n",
    "import matplotlib.pyplot as plt\n",
    "import seaborn as sns\n",
    "from sklearn.preprocessing import MinMaxScaler, LabelEncoder\n",
    "from sklearn.model_selection import train_test_split\n",
    "import warnings\n",
    "warnings.filterwarnings('ignore')"
   ]
  },
  {
   "cell_type": "code",
   "execution_count": 209,
   "id": "e47ac735",
   "metadata": {},
   "outputs": [
    {
     "data": {
      "text/html": [
       "<div>\n",
       "<style scoped>\n",
       "    .dataframe tbody tr th:only-of-type {\n",
       "        vertical-align: middle;\n",
       "    }\n",
       "\n",
       "    .dataframe tbody tr th {\n",
       "        vertical-align: top;\n",
       "    }\n",
       "\n",
       "    .dataframe thead th {\n",
       "        text-align: right;\n",
       "    }\n",
       "</style>\n",
       "<table border=\"1\" class=\"dataframe\">\n",
       "  <thead>\n",
       "    <tr style=\"text-align: right;\">\n",
       "      <th></th>\n",
       "      <th>HeartDisease</th>\n",
       "      <th>BMI</th>\n",
       "      <th>Smoking</th>\n",
       "      <th>AlcoholDrinking</th>\n",
       "      <th>Stroke</th>\n",
       "      <th>PhysicalHealth</th>\n",
       "      <th>MentalHealth</th>\n",
       "      <th>DiffWalking</th>\n",
       "      <th>Sex</th>\n",
       "      <th>AgeCategory</th>\n",
       "      <th>Race</th>\n",
       "      <th>Diabetic</th>\n",
       "      <th>PhysicalActivity</th>\n",
       "      <th>GenHealth</th>\n",
       "      <th>SleepTime</th>\n",
       "      <th>Asthma</th>\n",
       "      <th>KidneyDisease</th>\n",
       "      <th>SkinCancer</th>\n",
       "    </tr>\n",
       "  </thead>\n",
       "  <tbody>\n",
       "    <tr>\n",
       "      <th>0</th>\n",
       "      <td>No</td>\n",
       "      <td>16.60</td>\n",
       "      <td>Yes</td>\n",
       "      <td>No</td>\n",
       "      <td>No</td>\n",
       "      <td>3.0</td>\n",
       "      <td>30.0</td>\n",
       "      <td>No</td>\n",
       "      <td>Female</td>\n",
       "      <td>55-59</td>\n",
       "      <td>White</td>\n",
       "      <td>Yes</td>\n",
       "      <td>Yes</td>\n",
       "      <td>Very good</td>\n",
       "      <td>5.0</td>\n",
       "      <td>Yes</td>\n",
       "      <td>No</td>\n",
       "      <td>Yes</td>\n",
       "    </tr>\n",
       "    <tr>\n",
       "      <th>1</th>\n",
       "      <td>No</td>\n",
       "      <td>20.34</td>\n",
       "      <td>No</td>\n",
       "      <td>No</td>\n",
       "      <td>Yes</td>\n",
       "      <td>0.0</td>\n",
       "      <td>0.0</td>\n",
       "      <td>No</td>\n",
       "      <td>Female</td>\n",
       "      <td>80 or older</td>\n",
       "      <td>White</td>\n",
       "      <td>No</td>\n",
       "      <td>Yes</td>\n",
       "      <td>Very good</td>\n",
       "      <td>7.0</td>\n",
       "      <td>No</td>\n",
       "      <td>No</td>\n",
       "      <td>No</td>\n",
       "    </tr>\n",
       "    <tr>\n",
       "      <th>2</th>\n",
       "      <td>No</td>\n",
       "      <td>26.58</td>\n",
       "      <td>Yes</td>\n",
       "      <td>No</td>\n",
       "      <td>No</td>\n",
       "      <td>20.0</td>\n",
       "      <td>30.0</td>\n",
       "      <td>No</td>\n",
       "      <td>Male</td>\n",
       "      <td>65-69</td>\n",
       "      <td>White</td>\n",
       "      <td>Yes</td>\n",
       "      <td>Yes</td>\n",
       "      <td>Fair</td>\n",
       "      <td>8.0</td>\n",
       "      <td>Yes</td>\n",
       "      <td>No</td>\n",
       "      <td>No</td>\n",
       "    </tr>\n",
       "    <tr>\n",
       "      <th>3</th>\n",
       "      <td>No</td>\n",
       "      <td>24.21</td>\n",
       "      <td>No</td>\n",
       "      <td>No</td>\n",
       "      <td>No</td>\n",
       "      <td>0.0</td>\n",
       "      <td>0.0</td>\n",
       "      <td>No</td>\n",
       "      <td>Female</td>\n",
       "      <td>75-79</td>\n",
       "      <td>White</td>\n",
       "      <td>No</td>\n",
       "      <td>No</td>\n",
       "      <td>Good</td>\n",
       "      <td>6.0</td>\n",
       "      <td>No</td>\n",
       "      <td>No</td>\n",
       "      <td>Yes</td>\n",
       "    </tr>\n",
       "    <tr>\n",
       "      <th>4</th>\n",
       "      <td>No</td>\n",
       "      <td>23.71</td>\n",
       "      <td>No</td>\n",
       "      <td>No</td>\n",
       "      <td>No</td>\n",
       "      <td>28.0</td>\n",
       "      <td>0.0</td>\n",
       "      <td>Yes</td>\n",
       "      <td>Female</td>\n",
       "      <td>40-44</td>\n",
       "      <td>White</td>\n",
       "      <td>No</td>\n",
       "      <td>Yes</td>\n",
       "      <td>Very good</td>\n",
       "      <td>8.0</td>\n",
       "      <td>No</td>\n",
       "      <td>No</td>\n",
       "      <td>No</td>\n",
       "    </tr>\n",
       "    <tr>\n",
       "      <th>...</th>\n",
       "      <td>...</td>\n",
       "      <td>...</td>\n",
       "      <td>...</td>\n",
       "      <td>...</td>\n",
       "      <td>...</td>\n",
       "      <td>...</td>\n",
       "      <td>...</td>\n",
       "      <td>...</td>\n",
       "      <td>...</td>\n",
       "      <td>...</td>\n",
       "      <td>...</td>\n",
       "      <td>...</td>\n",
       "      <td>...</td>\n",
       "      <td>...</td>\n",
       "      <td>...</td>\n",
       "      <td>...</td>\n",
       "      <td>...</td>\n",
       "      <td>...</td>\n",
       "    </tr>\n",
       "    <tr>\n",
       "      <th>319790</th>\n",
       "      <td>Yes</td>\n",
       "      <td>27.41</td>\n",
       "      <td>Yes</td>\n",
       "      <td>No</td>\n",
       "      <td>No</td>\n",
       "      <td>7.0</td>\n",
       "      <td>0.0</td>\n",
       "      <td>Yes</td>\n",
       "      <td>Male</td>\n",
       "      <td>60-64</td>\n",
       "      <td>Hispanic</td>\n",
       "      <td>Yes</td>\n",
       "      <td>No</td>\n",
       "      <td>Fair</td>\n",
       "      <td>6.0</td>\n",
       "      <td>Yes</td>\n",
       "      <td>No</td>\n",
       "      <td>No</td>\n",
       "    </tr>\n",
       "    <tr>\n",
       "      <th>319791</th>\n",
       "      <td>No</td>\n",
       "      <td>29.84</td>\n",
       "      <td>Yes</td>\n",
       "      <td>No</td>\n",
       "      <td>No</td>\n",
       "      <td>0.0</td>\n",
       "      <td>0.0</td>\n",
       "      <td>No</td>\n",
       "      <td>Male</td>\n",
       "      <td>35-39</td>\n",
       "      <td>Hispanic</td>\n",
       "      <td>No</td>\n",
       "      <td>Yes</td>\n",
       "      <td>Very good</td>\n",
       "      <td>5.0</td>\n",
       "      <td>Yes</td>\n",
       "      <td>No</td>\n",
       "      <td>No</td>\n",
       "    </tr>\n",
       "    <tr>\n",
       "      <th>319792</th>\n",
       "      <td>No</td>\n",
       "      <td>24.24</td>\n",
       "      <td>No</td>\n",
       "      <td>No</td>\n",
       "      <td>No</td>\n",
       "      <td>0.0</td>\n",
       "      <td>0.0</td>\n",
       "      <td>No</td>\n",
       "      <td>Female</td>\n",
       "      <td>45-49</td>\n",
       "      <td>Hispanic</td>\n",
       "      <td>No</td>\n",
       "      <td>Yes</td>\n",
       "      <td>Good</td>\n",
       "      <td>6.0</td>\n",
       "      <td>No</td>\n",
       "      <td>No</td>\n",
       "      <td>No</td>\n",
       "    </tr>\n",
       "    <tr>\n",
       "      <th>319793</th>\n",
       "      <td>No</td>\n",
       "      <td>32.81</td>\n",
       "      <td>No</td>\n",
       "      <td>No</td>\n",
       "      <td>No</td>\n",
       "      <td>0.0</td>\n",
       "      <td>0.0</td>\n",
       "      <td>No</td>\n",
       "      <td>Female</td>\n",
       "      <td>25-29</td>\n",
       "      <td>Hispanic</td>\n",
       "      <td>No</td>\n",
       "      <td>No</td>\n",
       "      <td>Good</td>\n",
       "      <td>12.0</td>\n",
       "      <td>No</td>\n",
       "      <td>No</td>\n",
       "      <td>No</td>\n",
       "    </tr>\n",
       "    <tr>\n",
       "      <th>319794</th>\n",
       "      <td>No</td>\n",
       "      <td>46.56</td>\n",
       "      <td>No</td>\n",
       "      <td>No</td>\n",
       "      <td>No</td>\n",
       "      <td>0.0</td>\n",
       "      <td>0.0</td>\n",
       "      <td>No</td>\n",
       "      <td>Female</td>\n",
       "      <td>80 or older</td>\n",
       "      <td>Hispanic</td>\n",
       "      <td>No</td>\n",
       "      <td>Yes</td>\n",
       "      <td>Good</td>\n",
       "      <td>8.0</td>\n",
       "      <td>No</td>\n",
       "      <td>No</td>\n",
       "      <td>No</td>\n",
       "    </tr>\n",
       "  </tbody>\n",
       "</table>\n",
       "<p>319795 rows × 18 columns</p>\n",
       "</div>"
      ],
      "text/plain": [
       "       HeartDisease    BMI Smoking AlcoholDrinking Stroke  PhysicalHealth  \\\n",
       "0                No  16.60     Yes              No     No             3.0   \n",
       "1                No  20.34      No              No    Yes             0.0   \n",
       "2                No  26.58     Yes              No     No            20.0   \n",
       "3                No  24.21      No              No     No             0.0   \n",
       "4                No  23.71      No              No     No            28.0   \n",
       "...             ...    ...     ...             ...    ...             ...   \n",
       "319790          Yes  27.41     Yes              No     No             7.0   \n",
       "319791           No  29.84     Yes              No     No             0.0   \n",
       "319792           No  24.24      No              No     No             0.0   \n",
       "319793           No  32.81      No              No     No             0.0   \n",
       "319794           No  46.56      No              No     No             0.0   \n",
       "\n",
       "        MentalHealth DiffWalking     Sex  AgeCategory      Race Diabetic  \\\n",
       "0               30.0          No  Female        55-59     White      Yes   \n",
       "1                0.0          No  Female  80 or older     White       No   \n",
       "2               30.0          No    Male        65-69     White      Yes   \n",
       "3                0.0          No  Female        75-79     White       No   \n",
       "4                0.0         Yes  Female        40-44     White       No   \n",
       "...              ...         ...     ...          ...       ...      ...   \n",
       "319790           0.0         Yes    Male        60-64  Hispanic      Yes   \n",
       "319791           0.0          No    Male        35-39  Hispanic       No   \n",
       "319792           0.0          No  Female        45-49  Hispanic       No   \n",
       "319793           0.0          No  Female        25-29  Hispanic       No   \n",
       "319794           0.0          No  Female  80 or older  Hispanic       No   \n",
       "\n",
       "       PhysicalActivity  GenHealth  SleepTime Asthma KidneyDisease SkinCancer  \n",
       "0                   Yes  Very good        5.0    Yes            No        Yes  \n",
       "1                   Yes  Very good        7.0     No            No         No  \n",
       "2                   Yes       Fair        8.0    Yes            No         No  \n",
       "3                    No       Good        6.0     No            No        Yes  \n",
       "4                   Yes  Very good        8.0     No            No         No  \n",
       "...                 ...        ...        ...    ...           ...        ...  \n",
       "319790               No       Fair        6.0    Yes            No         No  \n",
       "319791              Yes  Very good        5.0    Yes            No         No  \n",
       "319792              Yes       Good        6.0     No            No         No  \n",
       "319793               No       Good       12.0     No            No         No  \n",
       "319794              Yes       Good        8.0     No            No         No  \n",
       "\n",
       "[319795 rows x 18 columns]"
      ]
     },
     "execution_count": 209,
     "metadata": {},
     "output_type": "execute_result"
    }
   ],
   "source": [
    "df=pd.read_csv('heart_2020_cleaned.csv')\n",
    "df"
   ]
  },
  {
   "cell_type": "code",
   "execution_count": 210,
   "id": "1a573967",
   "metadata": {},
   "outputs": [
    {
     "data": {
      "text/plain": [
       "HeartDisease        0\n",
       "BMI                 0\n",
       "Smoking             0\n",
       "AlcoholDrinking     0\n",
       "Stroke              0\n",
       "PhysicalHealth      0\n",
       "MentalHealth        0\n",
       "DiffWalking         0\n",
       "Sex                 0\n",
       "AgeCategory         0\n",
       "Race                0\n",
       "Diabetic            0\n",
       "PhysicalActivity    0\n",
       "GenHealth           0\n",
       "SleepTime           0\n",
       "Asthma              0\n",
       "KidneyDisease       0\n",
       "SkinCancer          0\n",
       "dtype: int64"
      ]
     },
     "execution_count": 210,
     "metadata": {},
     "output_type": "execute_result"
    }
   ],
   "source": [
    "#checking for null values in the dataset\n",
    "\n",
    "df.isnull().sum()"
   ]
  },
  {
   "cell_type": "code",
   "execution_count": 211,
   "id": "0dd76033",
   "metadata": {},
   "outputs": [
    {
     "data": {
      "text/html": [
       "<div>\n",
       "<style scoped>\n",
       "    .dataframe tbody tr th:only-of-type {\n",
       "        vertical-align: middle;\n",
       "    }\n",
       "\n",
       "    .dataframe tbody tr th {\n",
       "        vertical-align: top;\n",
       "    }\n",
       "\n",
       "    .dataframe thead th {\n",
       "        text-align: right;\n",
       "    }\n",
       "</style>\n",
       "<table border=\"1\" class=\"dataframe\">\n",
       "  <thead>\n",
       "    <tr style=\"text-align: right;\">\n",
       "      <th></th>\n",
       "      <th>HeartDisease</th>\n",
       "      <th>BMI</th>\n",
       "      <th>Smoking</th>\n",
       "      <th>AlcoholDrinking</th>\n",
       "      <th>Stroke</th>\n",
       "      <th>PhysicalHealth</th>\n",
       "      <th>MentalHealth</th>\n",
       "      <th>DiffWalking</th>\n",
       "      <th>Sex</th>\n",
       "      <th>AgeCategory</th>\n",
       "      <th>Race</th>\n",
       "      <th>Diabetic</th>\n",
       "      <th>PhysicalActivity</th>\n",
       "      <th>GenHealth</th>\n",
       "      <th>SleepTime</th>\n",
       "      <th>Asthma</th>\n",
       "      <th>KidneyDisease</th>\n",
       "      <th>SkinCancer</th>\n",
       "    </tr>\n",
       "  </thead>\n",
       "  <tbody>\n",
       "    <tr>\n",
       "      <th>0</th>\n",
       "      <td>No</td>\n",
       "      <td>16.60</td>\n",
       "      <td>Yes</td>\n",
       "      <td>No</td>\n",
       "      <td>No</td>\n",
       "      <td>3.0</td>\n",
       "      <td>30.0</td>\n",
       "      <td>No</td>\n",
       "      <td>Female</td>\n",
       "      <td>55-59</td>\n",
       "      <td>White</td>\n",
       "      <td>Yes</td>\n",
       "      <td>Yes</td>\n",
       "      <td>Very good</td>\n",
       "      <td>5.0</td>\n",
       "      <td>Yes</td>\n",
       "      <td>No</td>\n",
       "      <td>Yes</td>\n",
       "    </tr>\n",
       "    <tr>\n",
       "      <th>1</th>\n",
       "      <td>No</td>\n",
       "      <td>20.34</td>\n",
       "      <td>No</td>\n",
       "      <td>No</td>\n",
       "      <td>Yes</td>\n",
       "      <td>0.0</td>\n",
       "      <td>0.0</td>\n",
       "      <td>No</td>\n",
       "      <td>Female</td>\n",
       "      <td>80 or older</td>\n",
       "      <td>White</td>\n",
       "      <td>No</td>\n",
       "      <td>Yes</td>\n",
       "      <td>Very good</td>\n",
       "      <td>7.0</td>\n",
       "      <td>No</td>\n",
       "      <td>No</td>\n",
       "      <td>No</td>\n",
       "    </tr>\n",
       "    <tr>\n",
       "      <th>2</th>\n",
       "      <td>No</td>\n",
       "      <td>26.58</td>\n",
       "      <td>Yes</td>\n",
       "      <td>No</td>\n",
       "      <td>No</td>\n",
       "      <td>20.0</td>\n",
       "      <td>30.0</td>\n",
       "      <td>No</td>\n",
       "      <td>Male</td>\n",
       "      <td>65-69</td>\n",
       "      <td>White</td>\n",
       "      <td>Yes</td>\n",
       "      <td>Yes</td>\n",
       "      <td>Fair</td>\n",
       "      <td>8.0</td>\n",
       "      <td>Yes</td>\n",
       "      <td>No</td>\n",
       "      <td>No</td>\n",
       "    </tr>\n",
       "    <tr>\n",
       "      <th>3</th>\n",
       "      <td>No</td>\n",
       "      <td>24.21</td>\n",
       "      <td>No</td>\n",
       "      <td>No</td>\n",
       "      <td>No</td>\n",
       "      <td>0.0</td>\n",
       "      <td>0.0</td>\n",
       "      <td>No</td>\n",
       "      <td>Female</td>\n",
       "      <td>75-79</td>\n",
       "      <td>White</td>\n",
       "      <td>No</td>\n",
       "      <td>No</td>\n",
       "      <td>Good</td>\n",
       "      <td>6.0</td>\n",
       "      <td>No</td>\n",
       "      <td>No</td>\n",
       "      <td>Yes</td>\n",
       "    </tr>\n",
       "    <tr>\n",
       "      <th>4</th>\n",
       "      <td>No</td>\n",
       "      <td>23.71</td>\n",
       "      <td>No</td>\n",
       "      <td>No</td>\n",
       "      <td>No</td>\n",
       "      <td>28.0</td>\n",
       "      <td>0.0</td>\n",
       "      <td>Yes</td>\n",
       "      <td>Female</td>\n",
       "      <td>40-44</td>\n",
       "      <td>White</td>\n",
       "      <td>No</td>\n",
       "      <td>Yes</td>\n",
       "      <td>Very good</td>\n",
       "      <td>8.0</td>\n",
       "      <td>No</td>\n",
       "      <td>No</td>\n",
       "      <td>No</td>\n",
       "    </tr>\n",
       "  </tbody>\n",
       "</table>\n",
       "</div>"
      ],
      "text/plain": [
       "  HeartDisease    BMI Smoking AlcoholDrinking Stroke  PhysicalHealth  \\\n",
       "0           No  16.60     Yes              No     No             3.0   \n",
       "1           No  20.34      No              No    Yes             0.0   \n",
       "2           No  26.58     Yes              No     No            20.0   \n",
       "3           No  24.21      No              No     No             0.0   \n",
       "4           No  23.71      No              No     No            28.0   \n",
       "\n",
       "   MentalHealth DiffWalking     Sex  AgeCategory   Race Diabetic  \\\n",
       "0          30.0          No  Female        55-59  White      Yes   \n",
       "1           0.0          No  Female  80 or older  White       No   \n",
       "2          30.0          No    Male        65-69  White      Yes   \n",
       "3           0.0          No  Female        75-79  White       No   \n",
       "4           0.0         Yes  Female        40-44  White       No   \n",
       "\n",
       "  PhysicalActivity  GenHealth  SleepTime Asthma KidneyDisease SkinCancer  \n",
       "0              Yes  Very good        5.0    Yes            No        Yes  \n",
       "1              Yes  Very good        7.0     No            No         No  \n",
       "2              Yes       Fair        8.0    Yes            No         No  \n",
       "3               No       Good        6.0     No            No        Yes  \n",
       "4              Yes  Very good        8.0     No            No         No  "
      ]
     },
     "execution_count": 211,
     "metadata": {},
     "output_type": "execute_result"
    }
   ],
   "source": [
    "#checking top 5 rows of the dataset\n",
    "\n",
    "df.head()"
   ]
  },
  {
   "cell_type": "code",
   "execution_count": 212,
   "id": "aeb149c2",
   "metadata": {},
   "outputs": [
    {
     "data": {
      "text/plain": [
       "Index(['HeartDisease', 'BMI', 'Smoking', 'AlcoholDrinking', 'Stroke',\n",
       "       'PhysicalHealth', 'MentalHealth', 'DiffWalking', 'Sex', 'AgeCategory',\n",
       "       'Race', 'Diabetic', 'PhysicalActivity', 'GenHealth', 'SleepTime',\n",
       "       'Asthma', 'KidneyDisease', 'SkinCancer'],\n",
       "      dtype='object')"
      ]
     },
     "execution_count": 212,
     "metadata": {},
     "output_type": "execute_result"
    }
   ],
   "source": [
    "# checking names of all the columns in the dataset\n",
    "\n",
    "df.columns"
   ]
  },
  {
   "cell_type": "code",
   "execution_count": 213,
   "id": "1977b0df",
   "metadata": {},
   "outputs": [
    {
     "data": {
      "text/plain": [
       "(319795, 18)"
      ]
     },
     "execution_count": 213,
     "metadata": {},
     "output_type": "execute_result"
    }
   ],
   "source": [
    "df.shape\n",
    "\n",
    "#this shows 319K+ rows and 18 columns"
   ]
  },
  {
   "cell_type": "code",
   "execution_count": 214,
   "id": "1b1a90aa",
   "metadata": {},
   "outputs": [
    {
     "data": {
      "text/plain": [
       "HeartDisease         object\n",
       "BMI                 float64\n",
       "Smoking              object\n",
       "AlcoholDrinking      object\n",
       "Stroke               object\n",
       "PhysicalHealth      float64\n",
       "MentalHealth        float64\n",
       "DiffWalking          object\n",
       "Sex                  object\n",
       "AgeCategory          object\n",
       "Race                 object\n",
       "Diabetic             object\n",
       "PhysicalActivity     object\n",
       "GenHealth            object\n",
       "SleepTime           float64\n",
       "Asthma               object\n",
       "KidneyDisease        object\n",
       "SkinCancer           object\n",
       "dtype: object"
      ]
     },
     "execution_count": 214,
     "metadata": {},
     "output_type": "execute_result"
    }
   ],
   "source": [
    "# 4 numerical columns and rest all categorical\n",
    "\n",
    "df.dtypes"
   ]
  },
  {
   "cell_type": "code",
   "execution_count": 215,
   "id": "e2725deb",
   "metadata": {},
   "outputs": [
    {
     "data": {
      "text/plain": [
       "<bound method DataFrame.info of        HeartDisease    BMI Smoking AlcoholDrinking Stroke  PhysicalHealth  \\\n",
       "0                No  16.60     Yes              No     No             3.0   \n",
       "1                No  20.34      No              No    Yes             0.0   \n",
       "2                No  26.58     Yes              No     No            20.0   \n",
       "3                No  24.21      No              No     No             0.0   \n",
       "4                No  23.71      No              No     No            28.0   \n",
       "...             ...    ...     ...             ...    ...             ...   \n",
       "319790          Yes  27.41     Yes              No     No             7.0   \n",
       "319791           No  29.84     Yes              No     No             0.0   \n",
       "319792           No  24.24      No              No     No             0.0   \n",
       "319793           No  32.81      No              No     No             0.0   \n",
       "319794           No  46.56      No              No     No             0.0   \n",
       "\n",
       "        MentalHealth DiffWalking     Sex  AgeCategory      Race Diabetic  \\\n",
       "0               30.0          No  Female        55-59     White      Yes   \n",
       "1                0.0          No  Female  80 or older     White       No   \n",
       "2               30.0          No    Male        65-69     White      Yes   \n",
       "3                0.0          No  Female        75-79     White       No   \n",
       "4                0.0         Yes  Female        40-44     White       No   \n",
       "...              ...         ...     ...          ...       ...      ...   \n",
       "319790           0.0         Yes    Male        60-64  Hispanic      Yes   \n",
       "319791           0.0          No    Male        35-39  Hispanic       No   \n",
       "319792           0.0          No  Female        45-49  Hispanic       No   \n",
       "319793           0.0          No  Female        25-29  Hispanic       No   \n",
       "319794           0.0          No  Female  80 or older  Hispanic       No   \n",
       "\n",
       "       PhysicalActivity  GenHealth  SleepTime Asthma KidneyDisease SkinCancer  \n",
       "0                   Yes  Very good        5.0    Yes            No        Yes  \n",
       "1                   Yes  Very good        7.0     No            No         No  \n",
       "2                   Yes       Fair        8.0    Yes            No         No  \n",
       "3                    No       Good        6.0     No            No        Yes  \n",
       "4                   Yes  Very good        8.0     No            No         No  \n",
       "...                 ...        ...        ...    ...           ...        ...  \n",
       "319790               No       Fair        6.0    Yes            No         No  \n",
       "319791              Yes  Very good        5.0    Yes            No         No  \n",
       "319792              Yes       Good        6.0     No            No         No  \n",
       "319793               No       Good       12.0     No            No         No  \n",
       "319794              Yes       Good        8.0     No            No         No  \n",
       "\n",
       "[319795 rows x 18 columns]>"
      ]
     },
     "execution_count": 215,
     "metadata": {},
     "output_type": "execute_result"
    }
   ],
   "source": [
    "df.info"
   ]
  },
  {
   "cell_type": "code",
   "execution_count": 216,
   "id": "3552ce3f",
   "metadata": {},
   "outputs": [
    {
     "data": {
      "text/plain": [
       "Text(0.5, 1.0, 'Heatmap of Numerical Variables')"
      ]
     },
     "execution_count": 216,
     "metadata": {},
     "output_type": "execute_result"
    },
    {
     "data": {
      "image/png": "[encoded data removed]",
      "text/plain": [
       "<Figure size 1080x576 with 2 Axes>"
      ]
     },
     "metadata": {
      "needs_background": "light"
     },
     "output_type": "display_data"
    }
   ],
   "source": [
    "#correlation between all numerical columns\n",
    "\n",
    "plt.figure(figsize=(15,8))\n",
    "sns.heatmap(df.corr(),annot=True)\n",
    "plt.title('Heatmap of Numerical Variables')"
   ]
  },
  {
   "cell_type": "code",
   "execution_count": 217,
   "id": "1a02b825",
   "metadata": {},
   "outputs": [
    {
     "data": {
      "text/html": [
       "<div>\n",
       "<style scoped>\n",
       "    .dataframe tbody tr th:only-of-type {\n",
       "        vertical-align: middle;\n",
       "    }\n",
       "\n",
       "    .dataframe tbody tr th {\n",
       "        vertical-align: top;\n",
       "    }\n",
       "\n",
       "    .dataframe thead th {\n",
       "        text-align: right;\n",
       "    }\n",
       "</style>\n",
       "<table border=\"1\" class=\"dataframe\">\n",
       "  <thead>\n",
       "    <tr style=\"text-align: right;\">\n",
       "      <th></th>\n",
       "      <th>BMI</th>\n",
       "      <th>PhysicalHealth</th>\n",
       "      <th>MentalHealth</th>\n",
       "      <th>SleepTime</th>\n",
       "    </tr>\n",
       "  </thead>\n",
       "  <tbody>\n",
       "    <tr>\n",
       "      <th>count</th>\n",
       "      <td>319795.000000</td>\n",
       "      <td>319795.00000</td>\n",
       "      <td>319795.000000</td>\n",
       "      <td>319795.000000</td>\n",
       "    </tr>\n",
       "    <tr>\n",
       "      <th>mean</th>\n",
       "      <td>28.325399</td>\n",
       "      <td>3.37171</td>\n",
       "      <td>3.898366</td>\n",
       "      <td>7.097075</td>\n",
       "    </tr>\n",
       "    <tr>\n",
       "      <th>std</th>\n",
       "      <td>6.356100</td>\n",
       "      <td>7.95085</td>\n",
       "      <td>7.955235</td>\n",
       "      <td>1.436007</td>\n",
       "    </tr>\n",
       "    <tr>\n",
       "      <th>min</th>\n",
       "      <td>12.020000</td>\n",
       "      <td>0.00000</td>\n",
       "      <td>0.000000</td>\n",
       "      <td>1.000000</td>\n",
       "    </tr>\n",
       "    <tr>\n",
       "      <th>25%</th>\n",
       "      <td>24.030000</td>\n",
       "      <td>0.00000</td>\n",
       "      <td>0.000000</td>\n",
       "      <td>6.000000</td>\n",
       "    </tr>\n",
       "    <tr>\n",
       "      <th>50%</th>\n",
       "      <td>27.340000</td>\n",
       "      <td>0.00000</td>\n",
       "      <td>0.000000</td>\n",
       "      <td>7.000000</td>\n",
       "    </tr>\n",
       "    <tr>\n",
       "      <th>75%</th>\n",
       "      <td>31.420000</td>\n",
       "      <td>2.00000</td>\n",
       "      <td>3.000000</td>\n",
       "      <td>8.000000</td>\n",
       "    </tr>\n",
       "    <tr>\n",
       "      <th>max</th>\n",
       "      <td>94.850000</td>\n",
       "      <td>30.00000</td>\n",
       "      <td>30.000000</td>\n",
       "      <td>24.000000</td>\n",
       "    </tr>\n",
       "  </tbody>\n",
       "</table>\n",
       "</div>"
      ],
      "text/plain": [
       "                 BMI  PhysicalHealth   MentalHealth      SleepTime\n",
       "count  319795.000000    319795.00000  319795.000000  319795.000000\n",
       "mean       28.325399         3.37171       3.898366       7.097075\n",
       "std         6.356100         7.95085       7.955235       1.436007\n",
       "min        12.020000         0.00000       0.000000       1.000000\n",
       "25%        24.030000         0.00000       0.000000       6.000000\n",
       "50%        27.340000         0.00000       0.000000       7.000000\n",
       "75%        31.420000         2.00000       3.000000       8.000000\n",
       "max        94.850000        30.00000      30.000000      24.000000"
      ]
     },
     "execution_count": 217,
     "metadata": {},
     "output_type": "execute_result"
    }
   ],
   "source": [
    "df.describe(include='number')"
   ]
  },
  {
   "cell_type": "code",
   "execution_count": 218,
   "id": "3431c08a",
   "metadata": {},
   "outputs": [
    {
     "data": {
      "text/plain": [
       "Text(0.5, 1.0, 'Boxplot of BMI')"
      ]
     },
     "execution_count": 218,
     "metadata": {},
     "output_type": "execute_result"
    },
    {
     "data": {
      "image/png": "[encoded data removed]",
      "text/plain": [
       "<Figure size 864x360 with 1 Axes>"
      ]
     },
     "metadata": {
      "needs_background": "light"
     },
     "output_type": "display_data"
    }
   ],
   "source": [
    "# plotting boxplot on numerical columns to see outliers\n",
    "\n",
    "plt.figure(figsize=(12,5))\n",
    "sns.boxplot(df['BMI'])\n",
    "plt.title('Boxplot of BMI')"
   ]
  },
  {
   "cell_type": "markdown",
   "id": "b6ad05e3",
   "metadata": {},
   "source": [
    "##### Outliers are visible on both sides "
   ]
  },
  {
   "cell_type": "code",
   "execution_count": 219,
   "id": "d840de9f",
   "metadata": {},
   "outputs": [
    {
     "data": {
      "text/plain": [
       "Text(0.5, 1.0, 'Boxplot of Physical Health')"
      ]
     },
     "execution_count": 219,
     "metadata": {},
     "output_type": "execute_result"
    },
    {
     "data": {
      "image/png": "[encoded data removed]",
      "text/plain": [
       "<Figure size 864x432 with 1 Axes>"
      ]
     },
     "metadata": {
      "needs_background": "light"
     },
     "output_type": "display_data"
    }
   ],
   "source": [
    "plt.figure(figsize=(12,6))\n",
    "sns.boxplot(df['PhysicalHealth'])\n",
    "plt.title('Boxplot of Physical Health')"
   ]
  },
  {
   "cell_type": "markdown",
   "id": "fc734c20",
   "metadata": {},
   "source": [
    "##### Outliers visible on the right side (i.e. above the upper bound)"
   ]
  },
  {
   "cell_type": "code",
   "execution_count": 220,
   "id": "8e4b83aa",
   "metadata": {},
   "outputs": [
    {
     "data": {
      "text/plain": [
       "Text(0.5, 1.0, 'Boxplot of Mental Health')"
      ]
     },
     "execution_count": 220,
     "metadata": {},
     "output_type": "execute_result"
    },
    {
     "data": {
      "image/png": "[encoded data removed]",
      "text/plain": [
       "<Figure size 864x432 with 1 Axes>"
      ]
     },
     "metadata": {
      "needs_background": "light"
     },
     "output_type": "display_data"
    }
   ],
   "source": [
    "plt.figure(figsize=(12,6))\n",
    "sns.boxplot(df['MentalHealth'])\n",
    "plt.title('Boxplot of Mental Health')"
   ]
  },
  {
   "cell_type": "markdown",
   "id": "62a41ffe",
   "metadata": {},
   "source": [
    "##### Outliers visible on the right side"
   ]
  },
  {
   "cell_type": "code",
   "execution_count": 221,
   "id": "be6c7d9e",
   "metadata": {},
   "outputs": [
    {
     "data": {
      "text/plain": [
       "Text(0.5, 1.0, 'Boxplot of Sleep Time')"
      ]
     },
     "execution_count": 221,
     "metadata": {},
     "output_type": "execute_result"
    },
    {
     "data": {
      "image/png": "[encoded data removed]",
      "text/plain": [
       "<Figure size 864x432 with 1 Axes>"
      ]
     },
     "metadata": {
      "needs_background": "light"
     },
     "output_type": "display_data"
    }
   ],
   "source": [
    "plt.figure(figsize=(12,6))\n",
    "sns.boxplot(df['SleepTime'])\n",
    "plt.title('Boxplot of Sleep Time')"
   ]
  },
  {
   "cell_type": "markdown",
   "id": "201d41f0",
   "metadata": {},
   "source": [
    "##### Outliers on both right and left side"
   ]
  },
  {
   "cell_type": "code",
   "execution_count": 222,
   "id": "d1ba684b",
   "metadata": {},
   "outputs": [],
   "source": [
    "# As seen in all the plots above, outliers are evident in each and every one of them\n",
    "\n",
    "# Hence we move forward to Data Preprocessing"
   ]
  },
  {
   "cell_type": "code",
   "execution_count": 223,
   "id": "bf808074",
   "metadata": {},
   "outputs": [
    {
     "data": {
      "text/html": [
       "<div>\n",
       "<style scoped>\n",
       "    .dataframe tbody tr th:only-of-type {\n",
       "        vertical-align: middle;\n",
       "    }\n",
       "\n",
       "    .dataframe tbody tr th {\n",
       "        vertical-align: top;\n",
       "    }\n",
       "\n",
       "    .dataframe thead th {\n",
       "        text-align: right;\n",
       "    }\n",
       "</style>\n",
       "<table border=\"1\" class=\"dataframe\">\n",
       "  <thead>\n",
       "    <tr style=\"text-align: right;\">\n",
       "      <th></th>\n",
       "      <th>BMI</th>\n",
       "      <th>PhysicalHealth</th>\n",
       "      <th>MentalHealth</th>\n",
       "      <th>SleepTime</th>\n",
       "    </tr>\n",
       "  </thead>\n",
       "  <tbody>\n",
       "    <tr>\n",
       "      <th>0</th>\n",
       "      <td>16.60</td>\n",
       "      <td>3.0</td>\n",
       "      <td>30.0</td>\n",
       "      <td>5.0</td>\n",
       "    </tr>\n",
       "    <tr>\n",
       "      <th>1</th>\n",
       "      <td>20.34</td>\n",
       "      <td>0.0</td>\n",
       "      <td>0.0</td>\n",
       "      <td>7.0</td>\n",
       "    </tr>\n",
       "    <tr>\n",
       "      <th>2</th>\n",
       "      <td>26.58</td>\n",
       "      <td>20.0</td>\n",
       "      <td>30.0</td>\n",
       "      <td>8.0</td>\n",
       "    </tr>\n",
       "    <tr>\n",
       "      <th>3</th>\n",
       "      <td>24.21</td>\n",
       "      <td>0.0</td>\n",
       "      <td>0.0</td>\n",
       "      <td>6.0</td>\n",
       "    </tr>\n",
       "    <tr>\n",
       "      <th>4</th>\n",
       "      <td>23.71</td>\n",
       "      <td>28.0</td>\n",
       "      <td>0.0</td>\n",
       "      <td>8.0</td>\n",
       "    </tr>\n",
       "  </tbody>\n",
       "</table>\n",
       "</div>"
      ],
      "text/plain": [
       "     BMI  PhysicalHealth  MentalHealth  SleepTime\n",
       "0  16.60             3.0          30.0        5.0\n",
       "1  20.34             0.0           0.0        7.0\n",
       "2  26.58            20.0          30.0        8.0\n",
       "3  24.21             0.0           0.0        6.0\n",
       "4  23.71            28.0           0.0        8.0"
      ]
     },
     "execution_count": 223,
     "metadata": {},
     "output_type": "execute_result"
    }
   ],
   "source": [
    "# seperating the numerical columns first\n",
    "\n",
    "df_num=df.select_dtypes(include='number')\n",
    "df_num.head()"
   ]
  },
  {
   "cell_type": "code",
   "execution_count": 224,
   "id": "22a2d714",
   "metadata": {},
   "outputs": [],
   "source": [
    "# calculating first and third quartiles and then calculating interqurtile range\n",
    "\n",
    "Q1=df_num.quantile(0.25)\n",
    "Q3=df_num.quantile(0.75)\n",
    "IQR=Q3-Q1\n",
    "lb=Q1-(1.5*IQR)\n",
    "ub=Q3+(1.5*IQR)"
   ]
  },
  {
   "cell_type": "code",
   "execution_count": 225,
   "id": "74dd2b1b",
   "metadata": {},
   "outputs": [
    {
     "name": "stdout",
     "output_type": "stream",
     "text": [
      "lower bound for all the columns are:\n",
      "BMI               12.945\n",
      "PhysicalHealth    -3.000\n",
      "MentalHealth      -4.500\n",
      "SleepTime          3.000\n",
      "dtype: float64\n"
     ]
    }
   ],
   "source": [
    "print(f\"lower bound for all the columns are:\\n{lb}\")"
   ]
  },
  {
   "cell_type": "code",
   "execution_count": 226,
   "id": "2a26ca2c",
   "metadata": {},
   "outputs": [
    {
     "name": "stdout",
     "output_type": "stream",
     "text": [
      "upper bound for all the columns are:\n",
      "BMI               42.505\n",
      "PhysicalHealth     5.000\n",
      "MentalHealth       7.500\n",
      "SleepTime         11.000\n",
      "dtype: float64\n"
     ]
    }
   ],
   "source": [
    "print(f\"upper bound for all the columns are:\\n{ub}\")"
   ]
  },
  {
   "cell_type": "code",
   "execution_count": 227,
   "id": "1babcd8f",
   "metadata": {},
   "outputs": [],
   "source": [
    "df = df[~((df_num<lb)|(df_num>ub)).any(axis=1)]"
   ]
  },
  {
   "cell_type": "code",
   "execution_count": 228,
   "id": "c2bc6ee1",
   "metadata": {},
   "outputs": [
    {
     "data": {
      "text/plain": [
       "(231020, 18)"
      ]
     },
     "execution_count": 228,
     "metadata": {},
     "output_type": "execute_result"
    }
   ],
   "source": [
    "df.shape"
   ]
  },
  {
   "cell_type": "code",
   "execution_count": 229,
   "id": "833fe270",
   "metadata": {},
   "outputs": [],
   "source": [
    "# previously we had 319K rows and it just got reduced to 231K"
   ]
  },
  {
   "cell_type": "code",
   "execution_count": 230,
   "id": "efd9defa",
   "metadata": {},
   "outputs": [],
   "source": [
    "# plotting a boxplot to see how much outliers are still there (if any)"
   ]
  },
  {
   "cell_type": "code",
   "execution_count": 231,
   "id": "3101c21e",
   "metadata": {},
   "outputs": [
    {
     "data": {
      "text/plain": [
       "Text(0.5, 1.0, 'Boxplot of BMI')"
      ]
     },
     "execution_count": 231,
     "metadata": {},
     "output_type": "execute_result"
    },
    {
     "data": {
      "image/png": "[encoded data removed]",
      "text/plain": [
       "<Figure size 864x432 with 1 Axes>"
      ]
     },
     "metadata": {
      "needs_background": "light"
     },
     "output_type": "display_data"
    }
   ],
   "source": [
    "plt.figure(figsize=(12,6))\n",
    "sns.boxplot(df['BMI'])\n",
    "plt.title('Boxplot of BMI')"
   ]
  },
  {
   "cell_type": "markdown",
   "id": "94b77301",
   "metadata": {},
   "source": [
    "##### Compared to the previous boxplot, this one has improvised alot as the number of outliers have reduced drastically"
   ]
  },
  {
   "cell_type": "code",
   "execution_count": 232,
   "id": "0016f545",
   "metadata": {},
   "outputs": [
    {
     "data": {
      "text/plain": [
       "Text(0.5, 1.0, 'Boxplot of Physical Health')"
      ]
     },
     "execution_count": 232,
     "metadata": {},
     "output_type": "execute_result"
    },
    {
     "data": {
      "image/png": "[encoded data removed]",
      "text/plain": [
       "<Figure size 864x432 with 1 Axes>"
      ]
     },
     "metadata": {
      "needs_background": "light"
     },
     "output_type": "display_data"
    }
   ],
   "source": [
    "plt.figure(figsize=(12,6))\n",
    "sns.boxplot(df['PhysicalHealth'])\n",
    "plt.title('Boxplot of Physical Health')"
   ]
  },
  {
   "cell_type": "code",
   "execution_count": 233,
   "id": "fc651fee",
   "metadata": {},
   "outputs": [
    {
     "data": {
      "text/plain": [
       "<AxesSubplot:xlabel='MentalHealth'>"
      ]
     },
     "execution_count": 233,
     "metadata": {},
     "output_type": "execute_result"
    },
    {
     "data": {
      "image/png": "[encoded data removed]",
      "text/plain": [
       "<Figure size 432x288 with 1 Axes>"
      ]
     },
     "metadata": {
      "needs_background": "light"
     },
     "output_type": "display_data"
    }
   ],
   "source": [
    "sns.boxplot(df['MentalHealth'])"
   ]
  },
  {
   "cell_type": "code",
   "execution_count": 234,
   "id": "5dca157b",
   "metadata": {},
   "outputs": [
    {
     "data": {
      "text/plain": [
       "Text(0.5, 1.0, 'Boxplot of Sleep Time')"
      ]
     },
     "execution_count": 234,
     "metadata": {},
     "output_type": "execute_result"
    },
    {
     "data": {
      "image/png": "[encoded data removed]",
      "text/plain": [
       "<Figure size 864x432 with 1 Axes>"
      ]
     },
     "metadata": {
      "needs_background": "light"
     },
     "output_type": "display_data"
    }
   ],
   "source": [
    "plt.figure(figsize=(12,6))\n",
    "sns.boxplot(df['SleepTime'])\n",
    "plt.title('Boxplot of Sleep Time')"
   ]
  },
  {
   "cell_type": "markdown",
   "id": "033324e3",
   "metadata": {},
   "source": [
    "### Exploratory Data Analysis of Categorical Columns"
   ]
  },
  {
   "cell_type": "code",
   "execution_count": 235,
   "id": "b6985ccb",
   "metadata": {},
   "outputs": [
    {
     "data": {
      "text/html": [
       "<div>\n",
       "<style scoped>\n",
       "    .dataframe tbody tr th:only-of-type {\n",
       "        vertical-align: middle;\n",
       "    }\n",
       "\n",
       "    .dataframe tbody tr th {\n",
       "        vertical-align: top;\n",
       "    }\n",
       "\n",
       "    .dataframe thead th {\n",
       "        text-align: right;\n",
       "    }\n",
       "</style>\n",
       "<table border=\"1\" class=\"dataframe\">\n",
       "  <thead>\n",
       "    <tr style=\"text-align: right;\">\n",
       "      <th></th>\n",
       "      <th>HeartDisease</th>\n",
       "      <th>Smoking</th>\n",
       "      <th>AlcoholDrinking</th>\n",
       "      <th>Stroke</th>\n",
       "      <th>DiffWalking</th>\n",
       "      <th>Sex</th>\n",
       "      <th>AgeCategory</th>\n",
       "      <th>Race</th>\n",
       "      <th>Diabetic</th>\n",
       "      <th>PhysicalActivity</th>\n",
       "      <th>GenHealth</th>\n",
       "      <th>Asthma</th>\n",
       "      <th>KidneyDisease</th>\n",
       "      <th>SkinCancer</th>\n",
       "    </tr>\n",
       "  </thead>\n",
       "  <tbody>\n",
       "    <tr>\n",
       "      <th>count</th>\n",
       "      <td>231020</td>\n",
       "      <td>231020</td>\n",
       "      <td>231020</td>\n",
       "      <td>231020</td>\n",
       "      <td>231020</td>\n",
       "      <td>231020</td>\n",
       "      <td>231020</td>\n",
       "      <td>231020</td>\n",
       "      <td>231020</td>\n",
       "      <td>231020</td>\n",
       "      <td>231020</td>\n",
       "      <td>231020</td>\n",
       "      <td>231020</td>\n",
       "      <td>231020</td>\n",
       "    </tr>\n",
       "    <tr>\n",
       "      <th>unique</th>\n",
       "      <td>2</td>\n",
       "      <td>2</td>\n",
       "      <td>2</td>\n",
       "      <td>2</td>\n",
       "      <td>2</td>\n",
       "      <td>2</td>\n",
       "      <td>13</td>\n",
       "      <td>6</td>\n",
       "      <td>4</td>\n",
       "      <td>2</td>\n",
       "      <td>5</td>\n",
       "      <td>2</td>\n",
       "      <td>2</td>\n",
       "      <td>2</td>\n",
       "    </tr>\n",
       "    <tr>\n",
       "      <th>top</th>\n",
       "      <td>No</td>\n",
       "      <td>No</td>\n",
       "      <td>No</td>\n",
       "      <td>No</td>\n",
       "      <td>No</td>\n",
       "      <td>Male</td>\n",
       "      <td>65-69</td>\n",
       "      <td>White</td>\n",
       "      <td>No</td>\n",
       "      <td>Yes</td>\n",
       "      <td>Very good</td>\n",
       "      <td>No</td>\n",
       "      <td>No</td>\n",
       "      <td>No</td>\n",
       "    </tr>\n",
       "    <tr>\n",
       "      <th>freq</th>\n",
       "      <td>215159</td>\n",
       "      <td>142839</td>\n",
       "      <td>216052</td>\n",
       "      <td>224702</td>\n",
       "      <td>213528</td>\n",
       "      <td>116391</td>\n",
       "      <td>25514</td>\n",
       "      <td>179011</td>\n",
       "      <td>200439</td>\n",
       "      <td>189597</td>\n",
       "      <td>92966</td>\n",
       "      <td>206534</td>\n",
       "      <td>224943</td>\n",
       "      <td>209190</td>\n",
       "    </tr>\n",
       "  </tbody>\n",
       "</table>\n",
       "</div>"
      ],
      "text/plain": [
       "       HeartDisease Smoking AlcoholDrinking  Stroke DiffWalking     Sex  \\\n",
       "count        231020  231020          231020  231020      231020  231020   \n",
       "unique            2       2               2       2           2       2   \n",
       "top              No      No              No      No          No    Male   \n",
       "freq         215159  142839          216052  224702      213528  116391   \n",
       "\n",
       "       AgeCategory    Race Diabetic PhysicalActivity  GenHealth  Asthma  \\\n",
       "count       231020  231020   231020           231020     231020  231020   \n",
       "unique          13       6        4                2          5       2   \n",
       "top          65-69   White       No              Yes  Very good      No   \n",
       "freq         25514  179011   200439           189597      92966  206534   \n",
       "\n",
       "       KidneyDisease SkinCancer  \n",
       "count         231020     231020  \n",
       "unique             2          2  \n",
       "top               No         No  \n",
       "freq          224943     209190  "
      ]
     },
     "execution_count": 235,
     "metadata": {},
     "output_type": "execute_result"
    }
   ],
   "source": [
    "df.describe(include='object')"
   ]
  },
  {
   "cell_type": "code",
   "execution_count": 236,
   "id": "e14c2846",
   "metadata": {},
   "outputs": [],
   "source": [
    "# next we will plot countplot for all the binary columns having output as yes or no"
   ]
  },
  {
   "cell_type": "code",
   "execution_count": 237,
   "id": "49f13b04",
   "metadata": {},
   "outputs": [
    {
     "data": {
      "text/plain": [
       "<AxesSubplot:xlabel='AlcoholDrinking', ylabel='count'>"
      ]
     },
     "execution_count": 237,
     "metadata": {},
     "output_type": "execute_result"
    },
    {
     "data": {
      "image/png": "[encoded data removed]",
      "text/plain": [
       "<Figure size 1080x432 with 2 Axes>"
      ]
     },
     "metadata": {
      "needs_background": "light"
     },
     "output_type": "display_data"
    }
   ],
   "source": [
    "plt.figure(figsize=(15,6))\n",
    "plt.subplot(1,2,1)\n",
    "sns.countplot('Smoking',hue='HeartDisease',data=df)\n",
    "\n",
    "# plt.figure(figsize=(10,5))\n",
    "plt.subplot(1,2,2)\n",
    "sns.countplot('AlcoholDrinking',hue='HeartDisease',data=df)"
   ]
  },
  {
   "cell_type": "code",
   "execution_count": 238,
   "id": "0bd52a1a",
   "metadata": {},
   "outputs": [
    {
     "data": {
      "text/plain": [
       "<AxesSubplot:xlabel='DiffWalking', ylabel='count'>"
      ]
     },
     "execution_count": 238,
     "metadata": {},
     "output_type": "execute_result"
    },
    {
     "data": {
      "image/png": "[encoded data removed]",
      "text/plain": [
       "<Figure size 1080x432 with 2 Axes>"
      ]
     },
     "metadata": {
      "needs_background": "light"
     },
     "output_type": "display_data"
    }
   ],
   "source": [
    "plt.figure(figsize=(15,6))\n",
    "plt.subplot(1,2,1)\n",
    "sns.countplot('Stroke',hue='HeartDisease',data=df)\n",
    "\n",
    "plt.subplot(1,2,2)\n",
    "sns.countplot('DiffWalking',hue='HeartDisease',data=df)"
   ]
  },
  {
   "cell_type": "code",
   "execution_count": 239,
   "id": "01229f2d",
   "metadata": {},
   "outputs": [
    {
     "data": {
      "text/plain": [
       "<AxesSubplot:xlabel='Diabetic', ylabel='count'>"
      ]
     },
     "execution_count": 239,
     "metadata": {},
     "output_type": "execute_result"
    },
    {
     "data": {
      "image/png": "[encoded data removed]",
      "text/plain": [
       "<Figure size 1080x432 with 1 Axes>"
      ]
     },
     "metadata": {
      "needs_background": "light"
     },
     "output_type": "display_data"
    }
   ],
   "source": [
    "plt.figure(figsize=(15,6))\n",
    "sns.countplot('Diabetic',hue='HeartDisease',data=df)"
   ]
  },
  {
   "cell_type": "code",
   "execution_count": 240,
   "id": "26f4a054",
   "metadata": {},
   "outputs": [
    {
     "data": {
      "text/plain": [
       "<AxesSubplot:xlabel='Race', ylabel='count'>"
      ]
     },
     "execution_count": 240,
     "metadata": {},
     "output_type": "execute_result"
    },
    {
     "data": {
      "image/png": "[encoded data removed]",
      "text/plain": [
       "<Figure size 1080x432 with 1 Axes>"
      ]
     },
     "metadata": {
      "needs_background": "light"
     },
     "output_type": "display_data"
    }
   ],
   "source": [
    "plt.figure(figsize=(15,6))\n",
    "sns.countplot('Race',hue='HeartDisease',data=df)"
   ]
  },
  {
   "cell_type": "code",
   "execution_count": 241,
   "id": "059af7a7",
   "metadata": {},
   "outputs": [
    {
     "data": {
      "image/png": "[encoded data removed]",
      "text/plain": [
       "<Figure size 1080x1080 with 1 Axes>"
      ]
     },
     "metadata": {},
     "output_type": "display_data"
    }
   ],
   "source": [
    "plt.figure(figsize=(15,15))\n",
    "df.groupby('HeartDisease')['AgeCategory'].value_counts().nlargest(10).plot(kind='pie',autopct='%1.1f%%')\n",
    "plt.title('Heart Disease by top 10 age categories')\n",
    "plt.ylabel('Age Categories not having Heart Disease')\n",
    "plt.xlabel('Count of Patients')\n",
    "plt.show()"
   ]
  },
  {
   "cell_type": "code",
   "execution_count": 242,
   "id": "856968ee",
   "metadata": {},
   "outputs": [
    {
     "data": {
      "image/png": "[encoded data removed]",
      "text/plain": [
       "<Figure size 864x576 with 1 Axes>"
      ]
     },
     "metadata": {
      "needs_background": "light"
     },
     "output_type": "display_data"
    }
   ],
   "source": [
    "plt.figure(figsize=(12,8))\n",
    "df.groupby('HeartDisease')['AgeCategory'].value_counts().nlargest(10).plot(kind='barh')\n",
    "plt.title('Heart Disease by top 10 age categories')\n",
    "plt.ylabel('Age Categories not having Heart Disease')\n",
    "plt.xlabel('Count of Patients')\n",
    "plt.show()"
   ]
  },
  {
   "cell_type": "code",
   "execution_count": 243,
   "id": "6d5cc5c4",
   "metadata": {},
   "outputs": [
    {
     "data": {
      "text/plain": [
       "<AxesSubplot:ylabel='PhysicalActivity'>"
      ]
     },
     "execution_count": 243,
     "metadata": {},
     "output_type": "execute_result"
    },
    {
     "data": {
      "image/png": "[encoded data removed]",
      "text/plain": [
       "<Figure size 864x576 with 1 Axes>"
      ]
     },
     "metadata": {},
     "output_type": "display_data"
    }
   ],
   "source": [
    "# plotting last few binary columns using pie chart\n",
    "\n",
    "plt.figure(figsize=(12,8))\n",
    "df['PhysicalActivity'].value_counts().plot(kind='pie',autopct='%1.1f%%',colors=sns.color_palette('pastel'),explode=[0,0.1])"
   ]
  },
  {
   "cell_type": "markdown",
   "id": "2a1705ba",
   "metadata": {},
   "source": [
    "##### Out of all the patients, 82% do regular physical activity"
   ]
  },
  {
   "cell_type": "code",
   "execution_count": 244,
   "id": "50fa9ac5",
   "metadata": {},
   "outputs": [
    {
     "data": {
      "text/plain": [
       "<AxesSubplot:ylabel='Asthma'>"
      ]
     },
     "execution_count": 244,
     "metadata": {},
     "output_type": "execute_result"
    },
    {
     "data": {
      "image/png": "[encoded data removed]",
      "text/plain": [
       "<Figure size 864x576 with 1 Axes>"
      ]
     },
     "metadata": {},
     "output_type": "display_data"
    }
   ],
   "source": [
    "plt.figure(figsize=(12,8))\n",
    "df['Asthma'].value_counts().plot(kind='pie',autopct='%1.1f%%',colors=sns.color_palette('pastel'),explode=[0,0.1])"
   ]
  },
  {
   "cell_type": "markdown",
   "id": "c480cfb3",
   "metadata": {},
   "source": [
    "##### Out of all the patients 89.4% have no history of Asthma"
   ]
  },
  {
   "cell_type": "code",
   "execution_count": 245,
   "id": "ccd7a019",
   "metadata": {},
   "outputs": [
    {
     "data": {
      "text/plain": [
       "<AxesSubplot:ylabel='KidneyDisease'>"
      ]
     },
     "execution_count": 245,
     "metadata": {},
     "output_type": "execute_result"
    },
    {
     "data": {
      "image/png": "[encoded data removed]",
      "text/plain": [
       "<Figure size 864x576 with 1 Axes>"
      ]
     },
     "metadata": {},
     "output_type": "display_data"
    }
   ],
   "source": [
    "plt.figure(figsize=(12,8))\n",
    "df['KidneyDisease'].value_counts().plot(kind='pie',autopct='%1.1f%%',colors=sns.color_palette('pastel'),explode=[0,0.1])"
   ]
  },
  {
   "cell_type": "markdown",
   "id": "81268f45",
   "metadata": {},
   "source": [
    "##### Out of all the patients, almost 97.4% dont have any Kidney disease"
   ]
  },
  {
   "cell_type": "code",
   "execution_count": 246,
   "id": "aa9eae42",
   "metadata": {},
   "outputs": [
    {
     "data": {
      "text/plain": [
       "<AxesSubplot:ylabel='SkinCancer'>"
      ]
     },
     "execution_count": 246,
     "metadata": {},
     "output_type": "execute_result"
    },
    {
     "data": {
      "image/png": "[encoded data removed]",
      "text/plain": [
       "<Figure size 864x576 with 1 Axes>"
      ]
     },
     "metadata": {},
     "output_type": "display_data"
    }
   ],
   "source": [
    "plt.figure(figsize=(12,8))\n",
    "df['SkinCancer'].value_counts().plot(kind='pie',autopct='%1.1f%%',colors=sns.color_palette('pastel'),explode=[0,0.1])"
   ]
  },
  {
   "cell_type": "markdown",
   "id": "57ab329b",
   "metadata": {},
   "source": [
    "##### Out of all the patients, 90.6% dont have Skin Cancer"
   ]
  },
  {
   "cell_type": "markdown",
   "id": "eec5fec3",
   "metadata": {},
   "source": [
    "### Exploratory Data Analysis of Numerical Columns"
   ]
  },
  {
   "cell_type": "code",
   "execution_count": 247,
   "id": "a845ce9c",
   "metadata": {},
   "outputs": [
    {
     "data": {
      "text/html": [
       "<div>\n",
       "<style scoped>\n",
       "    .dataframe tbody tr th:only-of-type {\n",
       "        vertical-align: middle;\n",
       "    }\n",
       "\n",
       "    .dataframe tbody tr th {\n",
       "        vertical-align: top;\n",
       "    }\n",
       "\n",
       "    .dataframe thead th {\n",
       "        text-align: right;\n",
       "    }\n",
       "</style>\n",
       "<table border=\"1\" class=\"dataframe\">\n",
       "  <thead>\n",
       "    <tr style=\"text-align: right;\">\n",
       "      <th></th>\n",
       "      <th>BMI</th>\n",
       "      <th>PhysicalHealth</th>\n",
       "      <th>MentalHealth</th>\n",
       "      <th>SleepTime</th>\n",
       "    </tr>\n",
       "  </thead>\n",
       "  <tbody>\n",
       "    <tr>\n",
       "      <th>count</th>\n",
       "      <td>231020.000000</td>\n",
       "      <td>231020.000000</td>\n",
       "      <td>231020.000000</td>\n",
       "      <td>231020.000000</td>\n",
       "    </tr>\n",
       "    <tr>\n",
       "      <th>mean</th>\n",
       "      <td>27.498405</td>\n",
       "      <td>0.388265</td>\n",
       "      <td>0.755787</td>\n",
       "      <td>7.159748</td>\n",
       "    </tr>\n",
       "    <tr>\n",
       "      <th>std</th>\n",
       "      <td>5.032603</td>\n",
       "      <td>1.060739</td>\n",
       "      <td>1.641221</td>\n",
       "      <td>1.122396</td>\n",
       "    </tr>\n",
       "    <tr>\n",
       "      <th>min</th>\n",
       "      <td>12.970000</td>\n",
       "      <td>0.000000</td>\n",
       "      <td>0.000000</td>\n",
       "      <td>3.000000</td>\n",
       "    </tr>\n",
       "    <tr>\n",
       "      <th>25%</th>\n",
       "      <td>23.780000</td>\n",
       "      <td>0.000000</td>\n",
       "      <td>0.000000</td>\n",
       "      <td>6.000000</td>\n",
       "    </tr>\n",
       "    <tr>\n",
       "      <th>50%</th>\n",
       "      <td>26.880000</td>\n",
       "      <td>0.000000</td>\n",
       "      <td>0.000000</td>\n",
       "      <td>7.000000</td>\n",
       "    </tr>\n",
       "    <tr>\n",
       "      <th>75%</th>\n",
       "      <td>30.550000</td>\n",
       "      <td>0.000000</td>\n",
       "      <td>0.000000</td>\n",
       "      <td>8.000000</td>\n",
       "    </tr>\n",
       "    <tr>\n",
       "      <th>max</th>\n",
       "      <td>42.500000</td>\n",
       "      <td>5.000000</td>\n",
       "      <td>7.000000</td>\n",
       "      <td>11.000000</td>\n",
       "    </tr>\n",
       "  </tbody>\n",
       "</table>\n",
       "</div>"
      ],
      "text/plain": [
       "                 BMI  PhysicalHealth   MentalHealth      SleepTime\n",
       "count  231020.000000   231020.000000  231020.000000  231020.000000\n",
       "mean       27.498405        0.388265       0.755787       7.159748\n",
       "std         5.032603        1.060739       1.641221       1.122396\n",
       "min        12.970000        0.000000       0.000000       3.000000\n",
       "25%        23.780000        0.000000       0.000000       6.000000\n",
       "50%        26.880000        0.000000       0.000000       7.000000\n",
       "75%        30.550000        0.000000       0.000000       8.000000\n",
       "max        42.500000        5.000000       7.000000      11.000000"
      ]
     },
     "execution_count": 247,
     "metadata": {},
     "output_type": "execute_result"
    }
   ],
   "source": [
    "df.describe(include='number')"
   ]
  },
  {
   "cell_type": "code",
   "execution_count": 248,
   "id": "c9a3ecae",
   "metadata": {},
   "outputs": [
    {
     "data": {
      "image/png": "[encoded data removed]",
      "text/plain": [
       "<Figure size 864x432 with 1 Axes>"
      ]
     },
     "metadata": {
      "needs_background": "light"
     },
     "output_type": "display_data"
    },
    {
     "name": "stdout",
     "output_type": "stream",
     "text": [
      "skewness of the graph is 0.509719686902701\n"
     ]
    }
   ],
   "source": [
    "plt.figure(figsize=(12,6))\n",
    "sns.histplot(df['BMI'],bins=20,kde=True)\n",
    "plt.title('Histogram of BMI')\n",
    "plt.ylabel('Frequency')\n",
    "plt.xlabel('Body Mass Index')\n",
    "plt.axvline(df.BMI.mean(),color='red')\n",
    "plt.axvline(df.BMI.median(),color='black')\n",
    "plt.show()\n",
    "\n",
    "print(f\"skewness of the graph is {df.BMI.skew()}\")"
   ]
  },
  {
   "cell_type": "markdown",
   "id": "3355adae",
   "metadata": {},
   "source": [
    "##### BMI is derived by mass and height of a person. It is given by body mass divided by the square of height."
   ]
  },
  {
   "cell_type": "code",
   "execution_count": 249,
   "id": "8dfc3a93",
   "metadata": {},
   "outputs": [
    {
     "data": {
      "text/html": [
       "<div>\n",
       "<style scoped>\n",
       "    .dataframe tbody tr th:only-of-type {\n",
       "        vertical-align: middle;\n",
       "    }\n",
       "\n",
       "    .dataframe tbody tr th {\n",
       "        vertical-align: top;\n",
       "    }\n",
       "\n",
       "    .dataframe thead th {\n",
       "        text-align: right;\n",
       "    }\n",
       "</style>\n",
       "<table border=\"1\" class=\"dataframe\">\n",
       "  <thead>\n",
       "    <tr style=\"text-align: right;\">\n",
       "      <th></th>\n",
       "      <th>BMI</th>\n",
       "      <th>Condition</th>\n",
       "    </tr>\n",
       "  </thead>\n",
       "  <tbody>\n",
       "    <tr>\n",
       "      <th>0</th>\n",
       "      <td>Less than 18.5</td>\n",
       "      <td>Underweight</td>\n",
       "    </tr>\n",
       "    <tr>\n",
       "      <th>1</th>\n",
       "      <td>18.5 to 24.9</td>\n",
       "      <td>Normal Weight</td>\n",
       "    </tr>\n",
       "    <tr>\n",
       "      <th>2</th>\n",
       "      <td>25 to 29.9</td>\n",
       "      <td>Over Weight</td>\n",
       "    </tr>\n",
       "    <tr>\n",
       "      <th>3</th>\n",
       "      <td>Above 30</td>\n",
       "      <td>Obese</td>\n",
       "    </tr>\n",
       "  </tbody>\n",
       "</table>\n",
       "</div>"
      ],
      "text/plain": [
       "              BMI      Condition\n",
       "0  Less than 18.5    Underweight\n",
       "1    18.5 to 24.9  Normal Weight\n",
       "2      25 to 29.9    Over Weight\n",
       "3        Above 30          Obese"
      ]
     },
     "execution_count": 249,
     "metadata": {},
     "output_type": "execute_result"
    }
   ],
   "source": [
    "x=pd.DataFrame({'BMI':['Less than 18.5','18.5 to 24.9','25 to 29.9','Above 30'],\n",
    "               'Condition':['Underweight','Normal Weight','Over Weight','Obese']})\n",
    "x"
   ]
  },
  {
   "cell_type": "code",
   "execution_count": 250,
   "id": "1cc3ae82",
   "metadata": {},
   "outputs": [
    {
     "data": {
      "image/png": "[encoded data removed]",
      "text/plain": [
       "<Figure size 1080x432 with 1 Axes>"
      ]
     },
     "metadata": {
      "needs_background": "light"
     },
     "output_type": "display_data"
    }
   ],
   "source": [
    "plt.figure(figsize=(15,6))\n",
    "df['SleepTime'].value_counts().plot(kind='barh')\n",
    "plt.title('Barplot of patients with their respective sleep time')\n",
    "plt.xlabel('Frequency of patients')\n",
    "plt.ylabel('Sleep time in hours')\n",
    "plt.show()"
   ]
  },
  {
   "cell_type": "markdown",
   "id": "217b8ede",
   "metadata": {},
   "source": [
    "##### Patients having sleep time of 6, 7 and 8 hours are less likely to have Heart Disease, whereas all others are more likely to have Heart problems due to lack of sleep or due to oversleeping in cases of those having sleep time of 10 and 11 hours"
   ]
  },
  {
   "cell_type": "code",
   "execution_count": 251,
   "id": "df1de805",
   "metadata": {},
   "outputs": [],
   "source": [
    "# seperating the target variable from the rest of the dataset\n",
    "\n",
    "X=df.drop(columns='HeartDisease',axis=1)\n",
    "y=df.HeartDisease"
   ]
  },
  {
   "cell_type": "code",
   "execution_count": 252,
   "id": "ddb5e6a3",
   "metadata": {},
   "outputs": [
    {
     "data": {
      "text/html": [
       "<div>\n",
       "<style scoped>\n",
       "    .dataframe tbody tr th:only-of-type {\n",
       "        vertical-align: middle;\n",
       "    }\n",
       "\n",
       "    .dataframe tbody tr th {\n",
       "        vertical-align: top;\n",
       "    }\n",
       "\n",
       "    .dataframe thead th {\n",
       "        text-align: right;\n",
       "    }\n",
       "</style>\n",
       "<table border=\"1\" class=\"dataframe\">\n",
       "  <thead>\n",
       "    <tr style=\"text-align: right;\">\n",
       "      <th></th>\n",
       "      <th>BMI</th>\n",
       "      <th>Smoking</th>\n",
       "      <th>AlcoholDrinking</th>\n",
       "      <th>Stroke</th>\n",
       "      <th>PhysicalHealth</th>\n",
       "      <th>MentalHealth</th>\n",
       "      <th>DiffWalking</th>\n",
       "      <th>Sex</th>\n",
       "      <th>AgeCategory</th>\n",
       "      <th>Race</th>\n",
       "      <th>Diabetic</th>\n",
       "      <th>PhysicalActivity</th>\n",
       "      <th>GenHealth</th>\n",
       "      <th>SleepTime</th>\n",
       "      <th>Asthma</th>\n",
       "      <th>KidneyDisease</th>\n",
       "      <th>SkinCancer</th>\n",
       "    </tr>\n",
       "  </thead>\n",
       "  <tbody>\n",
       "    <tr>\n",
       "      <th>1</th>\n",
       "      <td>20.34</td>\n",
       "      <td>No</td>\n",
       "      <td>No</td>\n",
       "      <td>Yes</td>\n",
       "      <td>0.0</td>\n",
       "      <td>0.0</td>\n",
       "      <td>No</td>\n",
       "      <td>Female</td>\n",
       "      <td>80 or older</td>\n",
       "      <td>White</td>\n",
       "      <td>No</td>\n",
       "      <td>Yes</td>\n",
       "      <td>Very good</td>\n",
       "      <td>7.0</td>\n",
       "      <td>No</td>\n",
       "      <td>No</td>\n",
       "      <td>No</td>\n",
       "    </tr>\n",
       "    <tr>\n",
       "      <th>3</th>\n",
       "      <td>24.21</td>\n",
       "      <td>No</td>\n",
       "      <td>No</td>\n",
       "      <td>No</td>\n",
       "      <td>0.0</td>\n",
       "      <td>0.0</td>\n",
       "      <td>No</td>\n",
       "      <td>Female</td>\n",
       "      <td>75-79</td>\n",
       "      <td>White</td>\n",
       "      <td>No</td>\n",
       "      <td>No</td>\n",
       "      <td>Good</td>\n",
       "      <td>6.0</td>\n",
       "      <td>No</td>\n",
       "      <td>No</td>\n",
       "      <td>Yes</td>\n",
       "    </tr>\n",
       "    <tr>\n",
       "      <th>7</th>\n",
       "      <td>31.64</td>\n",
       "      <td>Yes</td>\n",
       "      <td>No</td>\n",
       "      <td>No</td>\n",
       "      <td>5.0</td>\n",
       "      <td>0.0</td>\n",
       "      <td>Yes</td>\n",
       "      <td>Female</td>\n",
       "      <td>80 or older</td>\n",
       "      <td>White</td>\n",
       "      <td>Yes</td>\n",
       "      <td>No</td>\n",
       "      <td>Good</td>\n",
       "      <td>9.0</td>\n",
       "      <td>Yes</td>\n",
       "      <td>No</td>\n",
       "      <td>No</td>\n",
       "    </tr>\n",
       "    <tr>\n",
       "      <th>8</th>\n",
       "      <td>26.45</td>\n",
       "      <td>No</td>\n",
       "      <td>No</td>\n",
       "      <td>No</td>\n",
       "      <td>0.0</td>\n",
       "      <td>0.0</td>\n",
       "      <td>No</td>\n",
       "      <td>Female</td>\n",
       "      <td>80 or older</td>\n",
       "      <td>White</td>\n",
       "      <td>No, borderline diabetes</td>\n",
       "      <td>No</td>\n",
       "      <td>Fair</td>\n",
       "      <td>5.0</td>\n",
       "      <td>No</td>\n",
       "      <td>Yes</td>\n",
       "      <td>No</td>\n",
       "    </tr>\n",
       "    <tr>\n",
       "      <th>9</th>\n",
       "      <td>40.69</td>\n",
       "      <td>No</td>\n",
       "      <td>No</td>\n",
       "      <td>No</td>\n",
       "      <td>0.0</td>\n",
       "      <td>0.0</td>\n",
       "      <td>Yes</td>\n",
       "      <td>Male</td>\n",
       "      <td>65-69</td>\n",
       "      <td>White</td>\n",
       "      <td>No</td>\n",
       "      <td>Yes</td>\n",
       "      <td>Good</td>\n",
       "      <td>10.0</td>\n",
       "      <td>No</td>\n",
       "      <td>No</td>\n",
       "      <td>No</td>\n",
       "    </tr>\n",
       "  </tbody>\n",
       "</table>\n",
       "</div>"
      ],
      "text/plain": [
       "     BMI Smoking AlcoholDrinking Stroke  PhysicalHealth  MentalHealth  \\\n",
       "1  20.34      No              No    Yes             0.0           0.0   \n",
       "3  24.21      No              No     No             0.0           0.0   \n",
       "7  31.64     Yes              No     No             5.0           0.0   \n",
       "8  26.45      No              No     No             0.0           0.0   \n",
       "9  40.69      No              No     No             0.0           0.0   \n",
       "\n",
       "  DiffWalking     Sex  AgeCategory   Race                 Diabetic  \\\n",
       "1          No  Female  80 or older  White                       No   \n",
       "3          No  Female        75-79  White                       No   \n",
       "7         Yes  Female  80 or older  White                      Yes   \n",
       "8          No  Female  80 or older  White  No, borderline diabetes   \n",
       "9         Yes    Male        65-69  White                       No   \n",
       "\n",
       "  PhysicalActivity  GenHealth  SleepTime Asthma KidneyDisease SkinCancer  \n",
       "1              Yes  Very good        7.0     No            No         No  \n",
       "3               No       Good        6.0     No            No        Yes  \n",
       "7               No       Good        9.0    Yes            No         No  \n",
       "8               No       Fair        5.0     No           Yes         No  \n",
       "9              Yes       Good       10.0     No            No         No  "
      ]
     },
     "execution_count": 252,
     "metadata": {},
     "output_type": "execute_result"
    }
   ],
   "source": [
    "X.head()"
   ]
  },
  {
   "cell_type": "code",
   "execution_count": 253,
   "id": "7e7b0ef0",
   "metadata": {},
   "outputs": [
    {
     "data": {
      "text/html": [
       "<div>\n",
       "<style scoped>\n",
       "    .dataframe tbody tr th:only-of-type {\n",
       "        vertical-align: middle;\n",
       "    }\n",
       "\n",
       "    .dataframe tbody tr th {\n",
       "        vertical-align: top;\n",
       "    }\n",
       "\n",
       "    .dataframe thead th {\n",
       "        text-align: right;\n",
       "    }\n",
       "</style>\n",
       "<table border=\"1\" class=\"dataframe\">\n",
       "  <thead>\n",
       "    <tr style=\"text-align: right;\">\n",
       "      <th></th>\n",
       "      <th>BMI</th>\n",
       "      <th>PhysicalHealth</th>\n",
       "      <th>MentalHealth</th>\n",
       "      <th>SleepTime</th>\n",
       "    </tr>\n",
       "  </thead>\n",
       "  <tbody>\n",
       "    <tr>\n",
       "      <th>1</th>\n",
       "      <td>20.34</td>\n",
       "      <td>0.0</td>\n",
       "      <td>0.0</td>\n",
       "      <td>7.0</td>\n",
       "    </tr>\n",
       "    <tr>\n",
       "      <th>3</th>\n",
       "      <td>24.21</td>\n",
       "      <td>0.0</td>\n",
       "      <td>0.0</td>\n",
       "      <td>6.0</td>\n",
       "    </tr>\n",
       "    <tr>\n",
       "      <th>7</th>\n",
       "      <td>31.64</td>\n",
       "      <td>5.0</td>\n",
       "      <td>0.0</td>\n",
       "      <td>9.0</td>\n",
       "    </tr>\n",
       "    <tr>\n",
       "      <th>8</th>\n",
       "      <td>26.45</td>\n",
       "      <td>0.0</td>\n",
       "      <td>0.0</td>\n",
       "      <td>5.0</td>\n",
       "    </tr>\n",
       "    <tr>\n",
       "      <th>9</th>\n",
       "      <td>40.69</td>\n",
       "      <td>0.0</td>\n",
       "      <td>0.0</td>\n",
       "      <td>10.0</td>\n",
       "    </tr>\n",
       "    <tr>\n",
       "      <th>11</th>\n",
       "      <td>28.71</td>\n",
       "      <td>0.0</td>\n",
       "      <td>0.0</td>\n",
       "      <td>5.0</td>\n",
       "    </tr>\n",
       "    <tr>\n",
       "      <th>12</th>\n",
       "      <td>28.37</td>\n",
       "      <td>0.0</td>\n",
       "      <td>0.0</td>\n",
       "      <td>8.0</td>\n",
       "    </tr>\n",
       "    <tr>\n",
       "      <th>15</th>\n",
       "      <td>29.18</td>\n",
       "      <td>1.0</td>\n",
       "      <td>0.0</td>\n",
       "      <td>6.0</td>\n",
       "    </tr>\n",
       "    <tr>\n",
       "      <th>16</th>\n",
       "      <td>26.26</td>\n",
       "      <td>5.0</td>\n",
       "      <td>2.0</td>\n",
       "      <td>10.0</td>\n",
       "    </tr>\n",
       "    <tr>\n",
       "      <th>18</th>\n",
       "      <td>29.86</td>\n",
       "      <td>0.0</td>\n",
       "      <td>0.0</td>\n",
       "      <td>5.0</td>\n",
       "    </tr>\n",
       "  </tbody>\n",
       "</table>\n",
       "</div>"
      ],
      "text/plain": [
       "      BMI  PhysicalHealth  MentalHealth  SleepTime\n",
       "1   20.34             0.0           0.0        7.0\n",
       "3   24.21             0.0           0.0        6.0\n",
       "7   31.64             5.0           0.0        9.0\n",
       "8   26.45             0.0           0.0        5.0\n",
       "9   40.69             0.0           0.0       10.0\n",
       "11  28.71             0.0           0.0        5.0\n",
       "12  28.37             0.0           0.0        8.0\n",
       "15  29.18             1.0           0.0        6.0\n",
       "16  26.26             5.0           2.0       10.0\n",
       "18  29.86             0.0           0.0        5.0"
      ]
     },
     "execution_count": 253,
     "metadata": {},
     "output_type": "execute_result"
    }
   ],
   "source": [
    "# within X, seperating numerical and categorical columns\n",
    "\n",
    "X_num = X.select_dtypes(include='number')\n",
    "X_num.head(10)"
   ]
  },
  {
   "cell_type": "code",
   "execution_count": 254,
   "id": "e2f50a24",
   "metadata": {},
   "outputs": [],
   "source": [
    "# Standardizing X_num using MinMaxscaler\n",
    "\n",
    "ss=MinMaxScaler()"
   ]
  },
  {
   "cell_type": "code",
   "execution_count": 255,
   "id": "e5aba849",
   "metadata": {},
   "outputs": [],
   "source": [
    "X_num_scaled = ss.fit_transform(X_num)"
   ]
  },
  {
   "cell_type": "code",
   "execution_count": 256,
   "id": "e4f52ab4",
   "metadata": {},
   "outputs": [
    {
     "data": {
      "text/plain": [
       "numpy.ndarray"
      ]
     },
     "execution_count": 256,
     "metadata": {},
     "output_type": "execute_result"
    }
   ],
   "source": [
    "type(X_num_scaled)"
   ]
  },
  {
   "cell_type": "code",
   "execution_count": 257,
   "id": "3494ca98",
   "metadata": {},
   "outputs": [],
   "source": [
    "# to verify our results, we will transform X_num_scaled from numpy array to pandas dataframe\n",
    "\n",
    "X_num_scaled=pd.DataFrame(X_num_scaled,columns=X_num.columns,index=X_num.index)"
   ]
  },
  {
   "cell_type": "code",
   "execution_count": 258,
   "id": "39b7876f",
   "metadata": {},
   "outputs": [
    {
     "data": {
      "text/html": [
       "<div>\n",
       "<style scoped>\n",
       "    .dataframe tbody tr th:only-of-type {\n",
       "        vertical-align: middle;\n",
       "    }\n",
       "\n",
       "    .dataframe tbody tr th {\n",
       "        vertical-align: top;\n",
       "    }\n",
       "\n",
       "    .dataframe thead th {\n",
       "        text-align: right;\n",
       "    }\n",
       "</style>\n",
       "<table border=\"1\" class=\"dataframe\">\n",
       "  <thead>\n",
       "    <tr style=\"text-align: right;\">\n",
       "      <th></th>\n",
       "      <th>BMI</th>\n",
       "      <th>PhysicalHealth</th>\n",
       "      <th>MentalHealth</th>\n",
       "      <th>SleepTime</th>\n",
       "    </tr>\n",
       "  </thead>\n",
       "  <tbody>\n",
       "    <tr>\n",
       "      <th>count</th>\n",
       "      <td>231020.000000</td>\n",
       "      <td>231020.000000</td>\n",
       "      <td>231020.00000</td>\n",
       "      <td>231020.000000</td>\n",
       "    </tr>\n",
       "    <tr>\n",
       "      <th>mean</th>\n",
       "      <td>0.491988</td>\n",
       "      <td>0.077653</td>\n",
       "      <td>0.10797</td>\n",
       "      <td>0.519969</td>\n",
       "    </tr>\n",
       "    <tr>\n",
       "      <th>std</th>\n",
       "      <td>0.170423</td>\n",
       "      <td>0.212148</td>\n",
       "      <td>0.23446</td>\n",
       "      <td>0.140300</td>\n",
       "    </tr>\n",
       "    <tr>\n",
       "      <th>min</th>\n",
       "      <td>0.000000</td>\n",
       "      <td>0.000000</td>\n",
       "      <td>0.00000</td>\n",
       "      <td>0.000000</td>\n",
       "    </tr>\n",
       "    <tr>\n",
       "      <th>25%</th>\n",
       "      <td>0.366068</td>\n",
       "      <td>0.000000</td>\n",
       "      <td>0.00000</td>\n",
       "      <td>0.375000</td>\n",
       "    </tr>\n",
       "    <tr>\n",
       "      <th>50%</th>\n",
       "      <td>0.471046</td>\n",
       "      <td>0.000000</td>\n",
       "      <td>0.00000</td>\n",
       "      <td>0.500000</td>\n",
       "    </tr>\n",
       "    <tr>\n",
       "      <th>75%</th>\n",
       "      <td>0.595327</td>\n",
       "      <td>0.000000</td>\n",
       "      <td>0.00000</td>\n",
       "      <td>0.625000</td>\n",
       "    </tr>\n",
       "    <tr>\n",
       "      <th>max</th>\n",
       "      <td>1.000000</td>\n",
       "      <td>1.000000</td>\n",
       "      <td>1.00000</td>\n",
       "      <td>1.000000</td>\n",
       "    </tr>\n",
       "  </tbody>\n",
       "</table>\n",
       "</div>"
      ],
      "text/plain": [
       "                 BMI  PhysicalHealth  MentalHealth      SleepTime\n",
       "count  231020.000000   231020.000000  231020.00000  231020.000000\n",
       "mean        0.491988        0.077653       0.10797       0.519969\n",
       "std         0.170423        0.212148       0.23446       0.140300\n",
       "min         0.000000        0.000000       0.00000       0.000000\n",
       "25%         0.366068        0.000000       0.00000       0.375000\n",
       "50%         0.471046        0.000000       0.00000       0.500000\n",
       "75%         0.595327        0.000000       0.00000       0.625000\n",
       "max         1.000000        1.000000       1.00000       1.000000"
      ]
     },
     "execution_count": 258,
     "metadata": {},
     "output_type": "execute_result"
    }
   ],
   "source": [
    "# here we can see, min=0 and max=1 for all columns\n",
    "\n",
    "X_num_scaled.describe()"
   ]
  },
  {
   "cell_type": "code",
   "execution_count": 259,
   "id": "985c49f1",
   "metadata": {},
   "outputs": [],
   "source": [
    "# now we will do One Hot Encoding on all the categorical columns\n",
    "\n",
    "X_cat = X.select_dtypes(include='object')"
   ]
  },
  {
   "cell_type": "code",
   "execution_count": 260,
   "id": "98bbf1d7",
   "metadata": {},
   "outputs": [],
   "source": [
    "# drop_first is used to avoid multicollinearity\n",
    "\n",
    "X_cat_encoded = pd.get_dummies(X_cat,drop_first=False,dtype=int)"
   ]
  },
  {
   "cell_type": "code",
   "execution_count": 261,
   "id": "9389bc20",
   "metadata": {},
   "outputs": [
    {
     "data": {
      "text/html": [
       "<div>\n",
       "<style scoped>\n",
       "    .dataframe tbody tr th:only-of-type {\n",
       "        vertical-align: middle;\n",
       "    }\n",
       "\n",
       "    .dataframe tbody tr th {\n",
       "        vertical-align: top;\n",
       "    }\n",
       "\n",
       "    .dataframe thead th {\n",
       "        text-align: right;\n",
       "    }\n",
       "</style>\n",
       "<table border=\"1\" class=\"dataframe\">\n",
       "  <thead>\n",
       "    <tr style=\"text-align: right;\">\n",
       "      <th></th>\n",
       "      <th>Smoking_No</th>\n",
       "      <th>Smoking_Yes</th>\n",
       "      <th>AlcoholDrinking_No</th>\n",
       "      <th>AlcoholDrinking_Yes</th>\n",
       "      <th>Stroke_No</th>\n",
       "      <th>Stroke_Yes</th>\n",
       "      <th>DiffWalking_No</th>\n",
       "      <th>DiffWalking_Yes</th>\n",
       "      <th>Sex_Female</th>\n",
       "      <th>Sex_Male</th>\n",
       "      <th>...</th>\n",
       "      <th>GenHealth_Fair</th>\n",
       "      <th>GenHealth_Good</th>\n",
       "      <th>GenHealth_Poor</th>\n",
       "      <th>GenHealth_Very good</th>\n",
       "      <th>Asthma_No</th>\n",
       "      <th>Asthma_Yes</th>\n",
       "      <th>KidneyDisease_No</th>\n",
       "      <th>KidneyDisease_Yes</th>\n",
       "      <th>SkinCancer_No</th>\n",
       "      <th>SkinCancer_Yes</th>\n",
       "    </tr>\n",
       "  </thead>\n",
       "  <tbody>\n",
       "    <tr>\n",
       "      <th>1</th>\n",
       "      <td>1</td>\n",
       "      <td>0</td>\n",
       "      <td>1</td>\n",
       "      <td>0</td>\n",
       "      <td>0</td>\n",
       "      <td>1</td>\n",
       "      <td>1</td>\n",
       "      <td>0</td>\n",
       "      <td>1</td>\n",
       "      <td>0</td>\n",
       "      <td>...</td>\n",
       "      <td>0</td>\n",
       "      <td>0</td>\n",
       "      <td>0</td>\n",
       "      <td>1</td>\n",
       "      <td>1</td>\n",
       "      <td>0</td>\n",
       "      <td>1</td>\n",
       "      <td>0</td>\n",
       "      <td>1</td>\n",
       "      <td>0</td>\n",
       "    </tr>\n",
       "    <tr>\n",
       "      <th>3</th>\n",
       "      <td>1</td>\n",
       "      <td>0</td>\n",
       "      <td>1</td>\n",
       "      <td>0</td>\n",
       "      <td>1</td>\n",
       "      <td>0</td>\n",
       "      <td>1</td>\n",
       "      <td>0</td>\n",
       "      <td>1</td>\n",
       "      <td>0</td>\n",
       "      <td>...</td>\n",
       "      <td>0</td>\n",
       "      <td>1</td>\n",
       "      <td>0</td>\n",
       "      <td>0</td>\n",
       "      <td>1</td>\n",
       "      <td>0</td>\n",
       "      <td>1</td>\n",
       "      <td>0</td>\n",
       "      <td>0</td>\n",
       "      <td>1</td>\n",
       "    </tr>\n",
       "    <tr>\n",
       "      <th>7</th>\n",
       "      <td>0</td>\n",
       "      <td>1</td>\n",
       "      <td>1</td>\n",
       "      <td>0</td>\n",
       "      <td>1</td>\n",
       "      <td>0</td>\n",
       "      <td>0</td>\n",
       "      <td>1</td>\n",
       "      <td>1</td>\n",
       "      <td>0</td>\n",
       "      <td>...</td>\n",
       "      <td>0</td>\n",
       "      <td>1</td>\n",
       "      <td>0</td>\n",
       "      <td>0</td>\n",
       "      <td>0</td>\n",
       "      <td>1</td>\n",
       "      <td>1</td>\n",
       "      <td>0</td>\n",
       "      <td>1</td>\n",
       "      <td>0</td>\n",
       "    </tr>\n",
       "    <tr>\n",
       "      <th>8</th>\n",
       "      <td>1</td>\n",
       "      <td>0</td>\n",
       "      <td>1</td>\n",
       "      <td>0</td>\n",
       "      <td>1</td>\n",
       "      <td>0</td>\n",
       "      <td>1</td>\n",
       "      <td>0</td>\n",
       "      <td>1</td>\n",
       "      <td>0</td>\n",
       "      <td>...</td>\n",
       "      <td>1</td>\n",
       "      <td>0</td>\n",
       "      <td>0</td>\n",
       "      <td>0</td>\n",
       "      <td>1</td>\n",
       "      <td>0</td>\n",
       "      <td>0</td>\n",
       "      <td>1</td>\n",
       "      <td>1</td>\n",
       "      <td>0</td>\n",
       "    </tr>\n",
       "    <tr>\n",
       "      <th>9</th>\n",
       "      <td>1</td>\n",
       "      <td>0</td>\n",
       "      <td>1</td>\n",
       "      <td>0</td>\n",
       "      <td>1</td>\n",
       "      <td>0</td>\n",
       "      <td>0</td>\n",
       "      <td>1</td>\n",
       "      <td>0</td>\n",
       "      <td>1</td>\n",
       "      <td>...</td>\n",
       "      <td>0</td>\n",
       "      <td>1</td>\n",
       "      <td>0</td>\n",
       "      <td>0</td>\n",
       "      <td>1</td>\n",
       "      <td>0</td>\n",
       "      <td>1</td>\n",
       "      <td>0</td>\n",
       "      <td>1</td>\n",
       "      <td>0</td>\n",
       "    </tr>\n",
       "    <tr>\n",
       "      <th>...</th>\n",
       "      <td>...</td>\n",
       "      <td>...</td>\n",
       "      <td>...</td>\n",
       "      <td>...</td>\n",
       "      <td>...</td>\n",
       "      <td>...</td>\n",
       "      <td>...</td>\n",
       "      <td>...</td>\n",
       "      <td>...</td>\n",
       "      <td>...</td>\n",
       "      <td>...</td>\n",
       "      <td>...</td>\n",
       "      <td>...</td>\n",
       "      <td>...</td>\n",
       "      <td>...</td>\n",
       "      <td>...</td>\n",
       "      <td>...</td>\n",
       "      <td>...</td>\n",
       "      <td>...</td>\n",
       "      <td>...</td>\n",
       "      <td>...</td>\n",
       "    </tr>\n",
       "    <tr>\n",
       "      <th>319786</th>\n",
       "      <td>0</td>\n",
       "      <td>1</td>\n",
       "      <td>1</td>\n",
       "      <td>0</td>\n",
       "      <td>1</td>\n",
       "      <td>0</td>\n",
       "      <td>1</td>\n",
       "      <td>0</td>\n",
       "      <td>1</td>\n",
       "      <td>0</td>\n",
       "      <td>...</td>\n",
       "      <td>0</td>\n",
       "      <td>0</td>\n",
       "      <td>0</td>\n",
       "      <td>1</td>\n",
       "      <td>0</td>\n",
       "      <td>1</td>\n",
       "      <td>1</td>\n",
       "      <td>0</td>\n",
       "      <td>1</td>\n",
       "      <td>0</td>\n",
       "    </tr>\n",
       "    <tr>\n",
       "      <th>319788</th>\n",
       "      <td>1</td>\n",
       "      <td>0</td>\n",
       "      <td>1</td>\n",
       "      <td>0</td>\n",
       "      <td>1</td>\n",
       "      <td>0</td>\n",
       "      <td>1</td>\n",
       "      <td>0</td>\n",
       "      <td>1</td>\n",
       "      <td>0</td>\n",
       "      <td>...</td>\n",
       "      <td>0</td>\n",
       "      <td>0</td>\n",
       "      <td>0</td>\n",
       "      <td>0</td>\n",
       "      <td>1</td>\n",
       "      <td>0</td>\n",
       "      <td>1</td>\n",
       "      <td>0</td>\n",
       "      <td>1</td>\n",
       "      <td>0</td>\n",
       "    </tr>\n",
       "    <tr>\n",
       "      <th>319789</th>\n",
       "      <td>1</td>\n",
       "      <td>0</td>\n",
       "      <td>1</td>\n",
       "      <td>0</td>\n",
       "      <td>1</td>\n",
       "      <td>0</td>\n",
       "      <td>1</td>\n",
       "      <td>0</td>\n",
       "      <td>1</td>\n",
       "      <td>0</td>\n",
       "      <td>...</td>\n",
       "      <td>0</td>\n",
       "      <td>0</td>\n",
       "      <td>0</td>\n",
       "      <td>0</td>\n",
       "      <td>1</td>\n",
       "      <td>0</td>\n",
       "      <td>1</td>\n",
       "      <td>0</td>\n",
       "      <td>1</td>\n",
       "      <td>0</td>\n",
       "    </tr>\n",
       "    <tr>\n",
       "      <th>319791</th>\n",
       "      <td>0</td>\n",
       "      <td>1</td>\n",
       "      <td>1</td>\n",
       "      <td>0</td>\n",
       "      <td>1</td>\n",
       "      <td>0</td>\n",
       "      <td>1</td>\n",
       "      <td>0</td>\n",
       "      <td>0</td>\n",
       "      <td>1</td>\n",
       "      <td>...</td>\n",
       "      <td>0</td>\n",
       "      <td>0</td>\n",
       "      <td>0</td>\n",
       "      <td>1</td>\n",
       "      <td>0</td>\n",
       "      <td>1</td>\n",
       "      <td>1</td>\n",
       "      <td>0</td>\n",
       "      <td>1</td>\n",
       "      <td>0</td>\n",
       "    </tr>\n",
       "    <tr>\n",
       "      <th>319792</th>\n",
       "      <td>1</td>\n",
       "      <td>0</td>\n",
       "      <td>1</td>\n",
       "      <td>0</td>\n",
       "      <td>1</td>\n",
       "      <td>0</td>\n",
       "      <td>1</td>\n",
       "      <td>0</td>\n",
       "      <td>1</td>\n",
       "      <td>0</td>\n",
       "      <td>...</td>\n",
       "      <td>0</td>\n",
       "      <td>1</td>\n",
       "      <td>0</td>\n",
       "      <td>0</td>\n",
       "      <td>1</td>\n",
       "      <td>0</td>\n",
       "      <td>1</td>\n",
       "      <td>0</td>\n",
       "      <td>1</td>\n",
       "      <td>0</td>\n",
       "    </tr>\n",
       "  </tbody>\n",
       "</table>\n",
       "<p>231020 rows × 46 columns</p>\n",
       "</div>"
      ],
      "text/plain": [
       "        Smoking_No  Smoking_Yes  AlcoholDrinking_No  AlcoholDrinking_Yes  \\\n",
       "1                1            0                   1                    0   \n",
       "3                1            0                   1                    0   \n",
       "7                0            1                   1                    0   \n",
       "8                1            0                   1                    0   \n",
       "9                1            0                   1                    0   \n",
       "...            ...          ...                 ...                  ...   \n",
       "319786           0            1                   1                    0   \n",
       "319788           1            0                   1                    0   \n",
       "319789           1            0                   1                    0   \n",
       "319791           0            1                   1                    0   \n",
       "319792           1            0                   1                    0   \n",
       "\n",
       "        Stroke_No  Stroke_Yes  DiffWalking_No  DiffWalking_Yes  Sex_Female  \\\n",
       "1               0           1               1                0           1   \n",
       "3               1           0               1                0           1   \n",
       "7               1           0               0                1           1   \n",
       "8               1           0               1                0           1   \n",
       "9               1           0               0                1           0   \n",
       "...           ...         ...             ...              ...         ...   \n",
       "319786          1           0               1                0           1   \n",
       "319788          1           0               1                0           1   \n",
       "319789          1           0               1                0           1   \n",
       "319791          1           0               1                0           0   \n",
       "319792          1           0               1                0           1   \n",
       "\n",
       "        Sex_Male  ...  GenHealth_Fair  GenHealth_Good  GenHealth_Poor  \\\n",
       "1              0  ...               0               0               0   \n",
       "3              0  ...               0               1               0   \n",
       "7              0  ...               0               1               0   \n",
       "8              0  ...               1               0               0   \n",
       "9              1  ...               0               1               0   \n",
       "...          ...  ...             ...             ...             ...   \n",
       "319786         0  ...               0               0               0   \n",
       "319788         0  ...               0               0               0   \n",
       "319789         0  ...               0               0               0   \n",
       "319791         1  ...               0               0               0   \n",
       "319792         0  ...               0               1               0   \n",
       "\n",
       "        GenHealth_Very good  Asthma_No  Asthma_Yes  KidneyDisease_No  \\\n",
       "1                         1          1           0                 1   \n",
       "3                         0          1           0                 1   \n",
       "7                         0          0           1                 1   \n",
       "8                         0          1           0                 0   \n",
       "9                         0          1           0                 1   \n",
       "...                     ...        ...         ...               ...   \n",
       "319786                    1          0           1                 1   \n",
       "319788                    0          1           0                 1   \n",
       "319789                    0          1           0                 1   \n",
       "319791                    1          0           1                 1   \n",
       "319792                    0          1           0                 1   \n",
       "\n",
       "        KidneyDisease_Yes  SkinCancer_No  SkinCancer_Yes  \n",
       "1                       0              1               0  \n",
       "3                       0              0               1  \n",
       "7                       0              1               0  \n",
       "8                       1              1               0  \n",
       "9                       0              1               0  \n",
       "...                   ...            ...             ...  \n",
       "319786                  0              1               0  \n",
       "319788                  0              1               0  \n",
       "319789                  0              1               0  \n",
       "319791                  0              1               0  \n",
       "319792                  0              1               0  \n",
       "\n",
       "[231020 rows x 46 columns]"
      ]
     },
     "execution_count": 261,
     "metadata": {},
     "output_type": "execute_result"
    }
   ],
   "source": [
    "X_cat_encoded"
   ]
  },
  {
   "cell_type": "code",
   "execution_count": 262,
   "id": "672034f9",
   "metadata": {},
   "outputs": [
    {
     "data": {
      "text/html": [
       "<div>\n",
       "<style scoped>\n",
       "    .dataframe tbody tr th:only-of-type {\n",
       "        vertical-align: middle;\n",
       "    }\n",
       "\n",
       "    .dataframe tbody tr th {\n",
       "        vertical-align: top;\n",
       "    }\n",
       "\n",
       "    .dataframe thead th {\n",
       "        text-align: right;\n",
       "    }\n",
       "</style>\n",
       "<table border=\"1\" class=\"dataframe\">\n",
       "  <thead>\n",
       "    <tr style=\"text-align: right;\">\n",
       "      <th></th>\n",
       "      <th>BMI</th>\n",
       "      <th>PhysicalHealth</th>\n",
       "      <th>MentalHealth</th>\n",
       "      <th>SleepTime</th>\n",
       "      <th>Smoking_No</th>\n",
       "      <th>Smoking_Yes</th>\n",
       "      <th>AlcoholDrinking_No</th>\n",
       "      <th>AlcoholDrinking_Yes</th>\n",
       "      <th>Stroke_No</th>\n",
       "      <th>Stroke_Yes</th>\n",
       "      <th>...</th>\n",
       "      <th>GenHealth_Fair</th>\n",
       "      <th>GenHealth_Good</th>\n",
       "      <th>GenHealth_Poor</th>\n",
       "      <th>GenHealth_Very good</th>\n",
       "      <th>Asthma_No</th>\n",
       "      <th>Asthma_Yes</th>\n",
       "      <th>KidneyDisease_No</th>\n",
       "      <th>KidneyDisease_Yes</th>\n",
       "      <th>SkinCancer_No</th>\n",
       "      <th>SkinCancer_Yes</th>\n",
       "    </tr>\n",
       "  </thead>\n",
       "  <tbody>\n",
       "    <tr>\n",
       "      <th>1</th>\n",
       "      <td>0.249577</td>\n",
       "      <td>0.0</td>\n",
       "      <td>0.0</td>\n",
       "      <td>0.500</td>\n",
       "      <td>1</td>\n",
       "      <td>0</td>\n",
       "      <td>1</td>\n",
       "      <td>0</td>\n",
       "      <td>0</td>\n",
       "      <td>1</td>\n",
       "      <td>...</td>\n",
       "      <td>0</td>\n",
       "      <td>0</td>\n",
       "      <td>0</td>\n",
       "      <td>1</td>\n",
       "      <td>1</td>\n",
       "      <td>0</td>\n",
       "      <td>1</td>\n",
       "      <td>0</td>\n",
       "      <td>1</td>\n",
       "      <td>0</td>\n",
       "    </tr>\n",
       "    <tr>\n",
       "      <th>3</th>\n",
       "      <td>0.380630</td>\n",
       "      <td>0.0</td>\n",
       "      <td>0.0</td>\n",
       "      <td>0.375</td>\n",
       "      <td>1</td>\n",
       "      <td>0</td>\n",
       "      <td>1</td>\n",
       "      <td>0</td>\n",
       "      <td>1</td>\n",
       "      <td>0</td>\n",
       "      <td>...</td>\n",
       "      <td>0</td>\n",
       "      <td>1</td>\n",
       "      <td>0</td>\n",
       "      <td>0</td>\n",
       "      <td>1</td>\n",
       "      <td>0</td>\n",
       "      <td>1</td>\n",
       "      <td>0</td>\n",
       "      <td>0</td>\n",
       "      <td>1</td>\n",
       "    </tr>\n",
       "    <tr>\n",
       "      <th>7</th>\n",
       "      <td>0.632238</td>\n",
       "      <td>1.0</td>\n",
       "      <td>0.0</td>\n",
       "      <td>0.750</td>\n",
       "      <td>0</td>\n",
       "      <td>1</td>\n",
       "      <td>1</td>\n",
       "      <td>0</td>\n",
       "      <td>1</td>\n",
       "      <td>0</td>\n",
       "      <td>...</td>\n",
       "      <td>0</td>\n",
       "      <td>1</td>\n",
       "      <td>0</td>\n",
       "      <td>0</td>\n",
       "      <td>0</td>\n",
       "      <td>1</td>\n",
       "      <td>1</td>\n",
       "      <td>0</td>\n",
       "      <td>1</td>\n",
       "      <td>0</td>\n",
       "    </tr>\n",
       "    <tr>\n",
       "      <th>8</th>\n",
       "      <td>0.456485</td>\n",
       "      <td>0.0</td>\n",
       "      <td>0.0</td>\n",
       "      <td>0.250</td>\n",
       "      <td>1</td>\n",
       "      <td>0</td>\n",
       "      <td>1</td>\n",
       "      <td>0</td>\n",
       "      <td>1</td>\n",
       "      <td>0</td>\n",
       "      <td>...</td>\n",
       "      <td>1</td>\n",
       "      <td>0</td>\n",
       "      <td>0</td>\n",
       "      <td>0</td>\n",
       "      <td>1</td>\n",
       "      <td>0</td>\n",
       "      <td>0</td>\n",
       "      <td>1</td>\n",
       "      <td>1</td>\n",
       "      <td>0</td>\n",
       "    </tr>\n",
       "    <tr>\n",
       "      <th>9</th>\n",
       "      <td>0.938706</td>\n",
       "      <td>0.0</td>\n",
       "      <td>0.0</td>\n",
       "      <td>0.875</td>\n",
       "      <td>1</td>\n",
       "      <td>0</td>\n",
       "      <td>1</td>\n",
       "      <td>0</td>\n",
       "      <td>1</td>\n",
       "      <td>0</td>\n",
       "      <td>...</td>\n",
       "      <td>0</td>\n",
       "      <td>1</td>\n",
       "      <td>0</td>\n",
       "      <td>0</td>\n",
       "      <td>1</td>\n",
       "      <td>0</td>\n",
       "      <td>1</td>\n",
       "      <td>0</td>\n",
       "      <td>1</td>\n",
       "      <td>0</td>\n",
       "    </tr>\n",
       "  </tbody>\n",
       "</table>\n",
       "<p>5 rows × 50 columns</p>\n",
       "</div>"
      ],
      "text/plain": [
       "        BMI  PhysicalHealth  MentalHealth  SleepTime  Smoking_No  Smoking_Yes  \\\n",
       "1  0.249577             0.0           0.0      0.500           1            0   \n",
       "3  0.380630             0.0           0.0      0.375           1            0   \n",
       "7  0.632238             1.0           0.0      0.750           0            1   \n",
       "8  0.456485             0.0           0.0      0.250           1            0   \n",
       "9  0.938706             0.0           0.0      0.875           1            0   \n",
       "\n",
       "   AlcoholDrinking_No  AlcoholDrinking_Yes  Stroke_No  Stroke_Yes  ...  \\\n",
       "1                   1                    0          0           1  ...   \n",
       "3                   1                    0          1           0  ...   \n",
       "7                   1                    0          1           0  ...   \n",
       "8                   1                    0          1           0  ...   \n",
       "9                   1                    0          1           0  ...   \n",
       "\n",
       "   GenHealth_Fair  GenHealth_Good  GenHealth_Poor  GenHealth_Very good  \\\n",
       "1               0               0               0                    1   \n",
       "3               0               1               0                    0   \n",
       "7               0               1               0                    0   \n",
       "8               1               0               0                    0   \n",
       "9               0               1               0                    0   \n",
       "\n",
       "   Asthma_No  Asthma_Yes  KidneyDisease_No  KidneyDisease_Yes  SkinCancer_No  \\\n",
       "1          1           0                 1                  0              1   \n",
       "3          1           0                 1                  0              0   \n",
       "7          0           1                 1                  0              1   \n",
       "8          1           0                 0                  1              1   \n",
       "9          1           0                 1                  0              1   \n",
       "\n",
       "   SkinCancer_Yes  \n",
       "1               0  \n",
       "3               1  \n",
       "7               0  \n",
       "8               0  \n",
       "9               0  \n",
       "\n",
       "[5 rows x 50 columns]"
      ]
     },
     "execution_count": 262,
     "metadata": {},
     "output_type": "execute_result"
    }
   ],
   "source": [
    "# conactenating standardized numerical columns and encoded categorical columns\n",
    "\n",
    "X=pd.concat([X_num_scaled,X_cat_encoded],axis=1)\n",
    "X.head()"
   ]
  },
  {
   "cell_type": "code",
   "execution_count": 263,
   "id": "3cb8b731",
   "metadata": {},
   "outputs": [],
   "source": [
    "# label encoding y to convert it from categorical to binary\n",
    "\n",
    "le = LabelEncoder()\n",
    "y_encoded=le.fit_transform(y)"
   ]
  },
  {
   "cell_type": "code",
   "execution_count": 264,
   "id": "61164aca",
   "metadata": {},
   "outputs": [
    {
     "data": {
      "text/plain": [
       "numpy.ndarray"
      ]
     },
     "execution_count": 264,
     "metadata": {},
     "output_type": "execute_result"
    }
   ],
   "source": [
    "type(y_encoded)"
   ]
  },
  {
   "cell_type": "code",
   "execution_count": 265,
   "id": "4bf80c6b",
   "metadata": {},
   "outputs": [
    {
     "data": {
      "text/html": [
       "<div>\n",
       "<style scoped>\n",
       "    .dataframe tbody tr th:only-of-type {\n",
       "        vertical-align: middle;\n",
       "    }\n",
       "\n",
       "    .dataframe tbody tr th {\n",
       "        vertical-align: top;\n",
       "    }\n",
       "\n",
       "    .dataframe thead th {\n",
       "        text-align: right;\n",
       "    }\n",
       "</style>\n",
       "<table border=\"1\" class=\"dataframe\">\n",
       "  <thead>\n",
       "    <tr style=\"text-align: right;\">\n",
       "      <th></th>\n",
       "      <th>0</th>\n",
       "    </tr>\n",
       "  </thead>\n",
       "  <tbody>\n",
       "    <tr>\n",
       "      <th>0</th>\n",
       "      <td>0</td>\n",
       "    </tr>\n",
       "    <tr>\n",
       "      <th>1</th>\n",
       "      <td>0</td>\n",
       "    </tr>\n",
       "    <tr>\n",
       "      <th>2</th>\n",
       "      <td>0</td>\n",
       "    </tr>\n",
       "    <tr>\n",
       "      <th>3</th>\n",
       "      <td>0</td>\n",
       "    </tr>\n",
       "    <tr>\n",
       "      <th>4</th>\n",
       "      <td>0</td>\n",
       "    </tr>\n",
       "  </tbody>\n",
       "</table>\n",
       "</div>"
      ],
      "text/plain": [
       "   0\n",
       "0  0\n",
       "1  0\n",
       "2  0\n",
       "3  0\n",
       "4  0"
      ]
     },
     "execution_count": 265,
     "metadata": {},
     "output_type": "execute_result"
    }
   ],
   "source": [
    "# converting y into dataframe\n",
    "\n",
    "y=pd.DataFrame(y_encoded)\n",
    "y.head()"
   ]
  },
  {
   "cell_type": "code",
   "execution_count": 266,
   "id": "c25afcc4",
   "metadata": {},
   "outputs": [],
   "source": [
    "# train test split\n",
    "\n",
    "# we will split the data into 75:25 ratio\n",
    "\n",
    "X_train,X_test,y_train,y_test=train_test_split(X,y,train_size=0.75,random_state=42)"
   ]
  },
  {
   "cell_type": "code",
   "execution_count": 267,
   "id": "1691ce87",
   "metadata": {},
   "outputs": [
    {
     "name": "stdout",
     "output_type": "stream",
     "text": [
      "(173265, 50)\n",
      "(57755, 50)\n",
      "(173265, 1)\n",
      "(57755, 1)\n"
     ]
    }
   ],
   "source": [
    "print(X_train.shape)\n",
    "print(X_test.shape)\n",
    "print(y_train.shape)\n",
    "print(y_test.shape)"
   ]
  },
  {
   "cell_type": "markdown",
   "id": "11e6a91c",
   "metadata": {},
   "source": [
    "### KNN Classifier"
   ]
  },
  {
   "cell_type": "code",
   "execution_count": 268,
   "id": "be0c7d12",
   "metadata": {},
   "outputs": [],
   "source": [
    "from sklearn.neighbors import KNeighborsClassifier"
   ]
  },
  {
   "cell_type": "code",
   "execution_count": 269,
   "id": "7defbaf4",
   "metadata": {},
   "outputs": [],
   "source": [
    "# setting random value for k as 5\n",
    "\n",
    "clf=KNeighborsClassifier(n_neighbors=5)"
   ]
  },
  {
   "cell_type": "code",
   "execution_count": 272,
   "id": "03bc68f3",
   "metadata": {},
   "outputs": [
    {
     "data": {
      "text/plain": [
       "KNeighborsClassifier()"
      ]
     },
     "execution_count": 272,
     "metadata": {},
     "output_type": "execute_result"
    }
   ],
   "source": [
    "# fitting the model on X_train and y_train\n",
    "\n",
    "clf.fit(X_train,y_train)"
   ]
  },
  {
   "cell_type": "code",
   "execution_count": 274,
   "id": "9f147d5b",
   "metadata": {},
   "outputs": [
    {
     "data": {
      "text/html": [
       "<div>\n",
       "<style scoped>\n",
       "    .dataframe tbody tr th:only-of-type {\n",
       "        vertical-align: middle;\n",
       "    }\n",
       "\n",
       "    .dataframe tbody tr th {\n",
       "        vertical-align: top;\n",
       "    }\n",
       "\n",
       "    .dataframe thead th {\n",
       "        text-align: right;\n",
       "    }\n",
       "</style>\n",
       "<table border=\"1\" class=\"dataframe\">\n",
       "  <thead>\n",
       "    <tr style=\"text-align: right;\">\n",
       "      <th></th>\n",
       "      <th>BMI</th>\n",
       "      <th>PhysicalHealth</th>\n",
       "      <th>MentalHealth</th>\n",
       "      <th>SleepTime</th>\n",
       "      <th>Smoking_No</th>\n",
       "      <th>Smoking_Yes</th>\n",
       "      <th>AlcoholDrinking_No</th>\n",
       "      <th>AlcoholDrinking_Yes</th>\n",
       "      <th>Stroke_No</th>\n",
       "      <th>Stroke_Yes</th>\n",
       "      <th>...</th>\n",
       "      <th>GenHealth_Good</th>\n",
       "      <th>GenHealth_Poor</th>\n",
       "      <th>GenHealth_Very good</th>\n",
       "      <th>Asthma_No</th>\n",
       "      <th>Asthma_Yes</th>\n",
       "      <th>KidneyDisease_No</th>\n",
       "      <th>KidneyDisease_Yes</th>\n",
       "      <th>SkinCancer_No</th>\n",
       "      <th>SkinCancer_Yes</th>\n",
       "      <th>prob</th>\n",
       "    </tr>\n",
       "  </thead>\n",
       "  <tbody>\n",
       "    <tr>\n",
       "      <th>73148</th>\n",
       "      <td>0.603454</td>\n",
       "      <td>0.0</td>\n",
       "      <td>1.0</td>\n",
       "      <td>0.500</td>\n",
       "      <td>0</td>\n",
       "      <td>1</td>\n",
       "      <td>1</td>\n",
       "      <td>0</td>\n",
       "      <td>1</td>\n",
       "      <td>0</td>\n",
       "      <td>...</td>\n",
       "      <td>0</td>\n",
       "      <td>0</td>\n",
       "      <td>1</td>\n",
       "      <td>1</td>\n",
       "      <td>0</td>\n",
       "      <td>1</td>\n",
       "      <td>0</td>\n",
       "      <td>1</td>\n",
       "      <td>0</td>\n",
       "      <td>0.0</td>\n",
       "    </tr>\n",
       "    <tr>\n",
       "      <th>311801</th>\n",
       "      <td>0.723332</td>\n",
       "      <td>0.0</td>\n",
       "      <td>0.0</td>\n",
       "      <td>0.625</td>\n",
       "      <td>0</td>\n",
       "      <td>1</td>\n",
       "      <td>1</td>\n",
       "      <td>0</td>\n",
       "      <td>0</td>\n",
       "      <td>1</td>\n",
       "      <td>...</td>\n",
       "      <td>1</td>\n",
       "      <td>0</td>\n",
       "      <td>0</td>\n",
       "      <td>1</td>\n",
       "      <td>0</td>\n",
       "      <td>1</td>\n",
       "      <td>0</td>\n",
       "      <td>1</td>\n",
       "      <td>0</td>\n",
       "      <td>0.6</td>\n",
       "    </tr>\n",
       "    <tr>\n",
       "      <th>152340</th>\n",
       "      <td>0.847951</td>\n",
       "      <td>0.0</td>\n",
       "      <td>0.0</td>\n",
       "      <td>0.500</td>\n",
       "      <td>1</td>\n",
       "      <td>0</td>\n",
       "      <td>1</td>\n",
       "      <td>0</td>\n",
       "      <td>1</td>\n",
       "      <td>0</td>\n",
       "      <td>...</td>\n",
       "      <td>0</td>\n",
       "      <td>0</td>\n",
       "      <td>0</td>\n",
       "      <td>1</td>\n",
       "      <td>0</td>\n",
       "      <td>1</td>\n",
       "      <td>0</td>\n",
       "      <td>1</td>\n",
       "      <td>0</td>\n",
       "      <td>0.0</td>\n",
       "    </tr>\n",
       "    <tr>\n",
       "      <th>55296</th>\n",
       "      <td>0.551642</td>\n",
       "      <td>0.0</td>\n",
       "      <td>0.0</td>\n",
       "      <td>0.500</td>\n",
       "      <td>1</td>\n",
       "      <td>0</td>\n",
       "      <td>1</td>\n",
       "      <td>0</td>\n",
       "      <td>1</td>\n",
       "      <td>0</td>\n",
       "      <td>...</td>\n",
       "      <td>0</td>\n",
       "      <td>0</td>\n",
       "      <td>1</td>\n",
       "      <td>1</td>\n",
       "      <td>0</td>\n",
       "      <td>1</td>\n",
       "      <td>0</td>\n",
       "      <td>1</td>\n",
       "      <td>0</td>\n",
       "      <td>0.4</td>\n",
       "    </tr>\n",
       "    <tr>\n",
       "      <th>5177</th>\n",
       "      <td>0.168303</td>\n",
       "      <td>0.0</td>\n",
       "      <td>0.0</td>\n",
       "      <td>0.500</td>\n",
       "      <td>0</td>\n",
       "      <td>1</td>\n",
       "      <td>1</td>\n",
       "      <td>0</td>\n",
       "      <td>1</td>\n",
       "      <td>0</td>\n",
       "      <td>...</td>\n",
       "      <td>0</td>\n",
       "      <td>0</td>\n",
       "      <td>1</td>\n",
       "      <td>1</td>\n",
       "      <td>0</td>\n",
       "      <td>1</td>\n",
       "      <td>0</td>\n",
       "      <td>1</td>\n",
       "      <td>0</td>\n",
       "      <td>0.0</td>\n",
       "    </tr>\n",
       "  </tbody>\n",
       "</table>\n",
       "<p>5 rows × 51 columns</p>\n",
       "</div>"
      ],
      "text/plain": [
       "             BMI  PhysicalHealth  MentalHealth  SleepTime  Smoking_No  \\\n",
       "73148   0.603454             0.0           1.0      0.500           0   \n",
       "311801  0.723332             0.0           0.0      0.625           0   \n",
       "152340  0.847951             0.0           0.0      0.500           1   \n",
       "55296   0.551642             0.0           0.0      0.500           1   \n",
       "5177    0.168303             0.0           0.0      0.500           0   \n",
       "\n",
       "        Smoking_Yes  AlcoholDrinking_No  AlcoholDrinking_Yes  Stroke_No  \\\n",
       "73148             1                   1                    0          1   \n",
       "311801            1                   1                    0          0   \n",
       "152340            0                   1                    0          1   \n",
       "55296             0                   1                    0          1   \n",
       "5177              1                   1                    0          1   \n",
       "\n",
       "        Stroke_Yes  ...  GenHealth_Good  GenHealth_Poor  GenHealth_Very good  \\\n",
       "73148            0  ...               0               0                    1   \n",
       "311801           1  ...               1               0                    0   \n",
       "152340           0  ...               0               0                    0   \n",
       "55296            0  ...               0               0                    1   \n",
       "5177             0  ...               0               0                    1   \n",
       "\n",
       "        Asthma_No  Asthma_Yes  KidneyDisease_No  KidneyDisease_Yes  \\\n",
       "73148           1           0                 1                  0   \n",
       "311801          1           0                 1                  0   \n",
       "152340          1           0                 1                  0   \n",
       "55296           1           0                 1                  0   \n",
       "5177            1           0                 1                  0   \n",
       "\n",
       "        SkinCancer_No  SkinCancer_Yes  prob  \n",
       "73148               1               0   0.0  \n",
       "311801              1               0   0.6  \n",
       "152340              1               0   0.0  \n",
       "55296               1               0   0.4  \n",
       "5177                1               0   0.0  \n",
       "\n",
       "[5 rows x 51 columns]"
      ]
     },
     "execution_count": 274,
     "metadata": {},
     "output_type": "execute_result"
    }
   ],
   "source": [
    "# creating a new column in the dataframe and adding the values of p(y=1) in the columns for each row\n",
    "\n",
    "X_train['prob'] = clf.predict_proba(X_train)[:,1]\n",
    "X_train.head()"
   ]
  },
  {
   "cell_type": "code",
   "execution_count": 275,
   "id": "a6b60971",
   "metadata": {},
   "outputs": [
    {
     "data": {
      "text/html": [
       "<div>\n",
       "<style scoped>\n",
       "    .dataframe tbody tr th:only-of-type {\n",
       "        vertical-align: middle;\n",
       "    }\n",
       "\n",
       "    .dataframe tbody tr th {\n",
       "        vertical-align: top;\n",
       "    }\n",
       "\n",
       "    .dataframe thead th {\n",
       "        text-align: right;\n",
       "    }\n",
       "</style>\n",
       "<table border=\"1\" class=\"dataframe\">\n",
       "  <thead>\n",
       "    <tr style=\"text-align: right;\">\n",
       "      <th></th>\n",
       "      <th>Threshold</th>\n",
       "      <th>TP</th>\n",
       "      <th>TN</th>\n",
       "      <th>FP</th>\n",
       "      <th>FN</th>\n",
       "      <th>TPR</th>\n",
       "      <th>FPR</th>\n",
       "    </tr>\n",
       "  </thead>\n",
       "  <tbody>\n",
       "  </tbody>\n",
       "</table>\n",
       "</div>"
      ],
      "text/plain": [
       "Empty DataFrame\n",
       "Columns: [Threshold, TP, TN, FP, FN, TPR, FPR]\n",
       "Index: []"
      ]
     },
     "execution_count": 275,
     "metadata": {},
     "output_type": "execute_result"
    }
   ],
   "source": [
    "# creating a new dataframe to store all the True/False and Positive/Negative values\n",
    "\n",
    "df_roc = pd.DataFrame(columns=['Threshold','TP','TN','FP','FN','TPR','FPR'])\n",
    "df_roc"
   ]
  },
  {
   "cell_type": "code",
   "execution_count": 276,
   "id": "1bc27fd4",
   "metadata": {},
   "outputs": [],
   "source": [
    "from sklearn.metrics import classification_report, confusion_matrix, roc_auc_score"
   ]
  },
  {
   "cell_type": "code",
   "execution_count": 283,
   "id": "139116cf",
   "metadata": {},
   "outputs": [
    {
     "data": {
      "text/html": [
       "<div>\n",
       "<style scoped>\n",
       "    .dataframe tbody tr th:only-of-type {\n",
       "        vertical-align: middle;\n",
       "    }\n",
       "\n",
       "    .dataframe tbody tr th {\n",
       "        vertical-align: top;\n",
       "    }\n",
       "\n",
       "    .dataframe thead th {\n",
       "        text-align: right;\n",
       "    }\n",
       "</style>\n",
       "<table border=\"1\" class=\"dataframe\">\n",
       "  <thead>\n",
       "    <tr style=\"text-align: right;\">\n",
       "      <th></th>\n",
       "      <th>Threshold</th>\n",
       "      <th>TP</th>\n",
       "      <th>TN</th>\n",
       "      <th>FP</th>\n",
       "      <th>FN</th>\n",
       "      <th>TPR</th>\n",
       "      <th>FPR</th>\n",
       "    </tr>\n",
       "  </thead>\n",
       "  <tbody>\n",
       "    <tr>\n",
       "      <th>0</th>\n",
       "      <td>0.00</td>\n",
       "      <td>11861.0</td>\n",
       "      <td>132117.0</td>\n",
       "      <td>29284.0</td>\n",
       "      <td>3.0</td>\n",
       "      <td>0.999747</td>\n",
       "      <td>0.181436</td>\n",
       "    </tr>\n",
       "    <tr>\n",
       "      <th>1</th>\n",
       "      <td>0.05</td>\n",
       "      <td>11861.0</td>\n",
       "      <td>132117.0</td>\n",
       "      <td>29284.0</td>\n",
       "      <td>3.0</td>\n",
       "      <td>0.999747</td>\n",
       "      <td>0.181436</td>\n",
       "    </tr>\n",
       "    <tr>\n",
       "      <th>2</th>\n",
       "      <td>0.10</td>\n",
       "      <td>11861.0</td>\n",
       "      <td>132117.0</td>\n",
       "      <td>29284.0</td>\n",
       "      <td>3.0</td>\n",
       "      <td>0.999747</td>\n",
       "      <td>0.181436</td>\n",
       "    </tr>\n",
       "    <tr>\n",
       "      <th>3</th>\n",
       "      <td>0.15</td>\n",
       "      <td>11861.0</td>\n",
       "      <td>132117.0</td>\n",
       "      <td>29284.0</td>\n",
       "      <td>3.0</td>\n",
       "      <td>0.999747</td>\n",
       "      <td>0.181436</td>\n",
       "    </tr>\n",
       "    <tr>\n",
       "      <th>4</th>\n",
       "      <td>0.20</td>\n",
       "      <td>5988.0</td>\n",
       "      <td>154797.0</td>\n",
       "      <td>6604.0</td>\n",
       "      <td>5876.0</td>\n",
       "      <td>0.504720</td>\n",
       "      <td>0.040917</td>\n",
       "    </tr>\n",
       "    <tr>\n",
       "      <th>5</th>\n",
       "      <td>0.25</td>\n",
       "      <td>5988.0</td>\n",
       "      <td>154797.0</td>\n",
       "      <td>6604.0</td>\n",
       "      <td>5876.0</td>\n",
       "      <td>0.504720</td>\n",
       "      <td>0.040917</td>\n",
       "    </tr>\n",
       "    <tr>\n",
       "      <th>6</th>\n",
       "      <td>0.30</td>\n",
       "      <td>5988.0</td>\n",
       "      <td>154797.0</td>\n",
       "      <td>6604.0</td>\n",
       "      <td>5876.0</td>\n",
       "      <td>0.504720</td>\n",
       "      <td>0.040917</td>\n",
       "    </tr>\n",
       "    <tr>\n",
       "      <th>7</th>\n",
       "      <td>0.35</td>\n",
       "      <td>5988.0</td>\n",
       "      <td>154797.0</td>\n",
       "      <td>6604.0</td>\n",
       "      <td>5876.0</td>\n",
       "      <td>0.504720</td>\n",
       "      <td>0.040917</td>\n",
       "    </tr>\n",
       "    <tr>\n",
       "      <th>8</th>\n",
       "      <td>0.40</td>\n",
       "      <td>2270.0</td>\n",
       "      <td>160209.0</td>\n",
       "      <td>1192.0</td>\n",
       "      <td>9594.0</td>\n",
       "      <td>0.191335</td>\n",
       "      <td>0.007385</td>\n",
       "    </tr>\n",
       "    <tr>\n",
       "      <th>9</th>\n",
       "      <td>0.45</td>\n",
       "      <td>2270.0</td>\n",
       "      <td>160209.0</td>\n",
       "      <td>1192.0</td>\n",
       "      <td>9594.0</td>\n",
       "      <td>0.191335</td>\n",
       "      <td>0.007385</td>\n",
       "    </tr>\n",
       "    <tr>\n",
       "      <th>10</th>\n",
       "      <td>0.50</td>\n",
       "      <td>2270.0</td>\n",
       "      <td>160209.0</td>\n",
       "      <td>1192.0</td>\n",
       "      <td>9594.0</td>\n",
       "      <td>0.191335</td>\n",
       "      <td>0.007385</td>\n",
       "    </tr>\n",
       "    <tr>\n",
       "      <th>11</th>\n",
       "      <td>0.55</td>\n",
       "      <td>2270.0</td>\n",
       "      <td>160209.0</td>\n",
       "      <td>1192.0</td>\n",
       "      <td>9594.0</td>\n",
       "      <td>0.191335</td>\n",
       "      <td>0.007385</td>\n",
       "    </tr>\n",
       "    <tr>\n",
       "      <th>12</th>\n",
       "      <td>0.60</td>\n",
       "      <td>583.0</td>\n",
       "      <td>161295.0</td>\n",
       "      <td>106.0</td>\n",
       "      <td>11281.0</td>\n",
       "      <td>0.049140</td>\n",
       "      <td>0.000657</td>\n",
       "    </tr>\n",
       "    <tr>\n",
       "      <th>13</th>\n",
       "      <td>0.65</td>\n",
       "      <td>583.0</td>\n",
       "      <td>161295.0</td>\n",
       "      <td>106.0</td>\n",
       "      <td>11281.0</td>\n",
       "      <td>0.049140</td>\n",
       "      <td>0.000657</td>\n",
       "    </tr>\n",
       "    <tr>\n",
       "      <th>14</th>\n",
       "      <td>0.70</td>\n",
       "      <td>583.0</td>\n",
       "      <td>161295.0</td>\n",
       "      <td>106.0</td>\n",
       "      <td>11281.0</td>\n",
       "      <td>0.049140</td>\n",
       "      <td>0.000657</td>\n",
       "    </tr>\n",
       "    <tr>\n",
       "      <th>15</th>\n",
       "      <td>0.75</td>\n",
       "      <td>583.0</td>\n",
       "      <td>161295.0</td>\n",
       "      <td>106.0</td>\n",
       "      <td>11281.0</td>\n",
       "      <td>0.049140</td>\n",
       "      <td>0.000657</td>\n",
       "    </tr>\n",
       "    <tr>\n",
       "      <th>16</th>\n",
       "      <td>0.80</td>\n",
       "      <td>69.0</td>\n",
       "      <td>161401.0</td>\n",
       "      <td>0.0</td>\n",
       "      <td>11795.0</td>\n",
       "      <td>0.005816</td>\n",
       "      <td>0.000000</td>\n",
       "    </tr>\n",
       "    <tr>\n",
       "      <th>17</th>\n",
       "      <td>0.85</td>\n",
       "      <td>69.0</td>\n",
       "      <td>161401.0</td>\n",
       "      <td>0.0</td>\n",
       "      <td>11795.0</td>\n",
       "      <td>0.005816</td>\n",
       "      <td>0.000000</td>\n",
       "    </tr>\n",
       "    <tr>\n",
       "      <th>18</th>\n",
       "      <td>0.90</td>\n",
       "      <td>69.0</td>\n",
       "      <td>161401.0</td>\n",
       "      <td>0.0</td>\n",
       "      <td>11795.0</td>\n",
       "      <td>0.005816</td>\n",
       "      <td>0.000000</td>\n",
       "    </tr>\n",
       "    <tr>\n",
       "      <th>19</th>\n",
       "      <td>0.95</td>\n",
       "      <td>69.0</td>\n",
       "      <td>161401.0</td>\n",
       "      <td>0.0</td>\n",
       "      <td>11795.0</td>\n",
       "      <td>0.005816</td>\n",
       "      <td>0.000000</td>\n",
       "    </tr>\n",
       "  </tbody>\n",
       "</table>\n",
       "</div>"
      ],
      "text/plain": [
       "    Threshold       TP        TN       FP       FN       TPR       FPR\n",
       "0        0.00  11861.0  132117.0  29284.0      3.0  0.999747  0.181436\n",
       "1        0.05  11861.0  132117.0  29284.0      3.0  0.999747  0.181436\n",
       "2        0.10  11861.0  132117.0  29284.0      3.0  0.999747  0.181436\n",
       "3        0.15  11861.0  132117.0  29284.0      3.0  0.999747  0.181436\n",
       "4        0.20   5988.0  154797.0   6604.0   5876.0  0.504720  0.040917\n",
       "5        0.25   5988.0  154797.0   6604.0   5876.0  0.504720  0.040917\n",
       "6        0.30   5988.0  154797.0   6604.0   5876.0  0.504720  0.040917\n",
       "7        0.35   5988.0  154797.0   6604.0   5876.0  0.504720  0.040917\n",
       "8        0.40   2270.0  160209.0   1192.0   9594.0  0.191335  0.007385\n",
       "9        0.45   2270.0  160209.0   1192.0   9594.0  0.191335  0.007385\n",
       "10       0.50   2270.0  160209.0   1192.0   9594.0  0.191335  0.007385\n",
       "11       0.55   2270.0  160209.0   1192.0   9594.0  0.191335  0.007385\n",
       "12       0.60    583.0  161295.0    106.0  11281.0  0.049140  0.000657\n",
       "13       0.65    583.0  161295.0    106.0  11281.0  0.049140  0.000657\n",
       "14       0.70    583.0  161295.0    106.0  11281.0  0.049140  0.000657\n",
       "15       0.75    583.0  161295.0    106.0  11281.0  0.049140  0.000657\n",
       "16       0.80     69.0  161401.0      0.0  11795.0  0.005816  0.000000\n",
       "17       0.85     69.0  161401.0      0.0  11795.0  0.005816  0.000000\n",
       "18       0.90     69.0  161401.0      0.0  11795.0  0.005816  0.000000\n",
       "19       0.95     69.0  161401.0      0.0  11795.0  0.005816  0.000000"
      ]
     },
     "execution_count": 283,
     "metadata": {},
     "output_type": "execute_result"
    }
   ],
   "source": [
    "# run a for loop which iterates through different thresholds starting from 0 upto 1 with steps of 0.1\n",
    "\n",
    "for threshold in np.arange(0.0,1.1,0.05):\n",
    "    y_pred=(X_train['prob']>threshold).astype(int)\n",
    "    cm=confusion_matrix(y_train,y_pred)\n",
    "    \n",
    "    TP=cm[1,1]\n",
    "    TN=cm[0,0]\n",
    "    FP=cm[0,1]\n",
    "    FN=cm[1,0]\n",
    "    TPR=TP/(TP+FN)\n",
    "    FPR=FP/(FP+TN)\n",
    "    \n",
    "    df_roc.loc[len(df_roc)]=pd.Series({\n",
    "        'Threshold':threshold, 'TP':TP, 'TN':TN,\n",
    "        'FP':FP, 'FN':FN,\n",
    "        'TPR':TPR, 'FPR':FPR\n",
    "    })\n",
    "    \n",
    "df_roc.head(20)"
   ]
  },
  {
   "cell_type": "code",
   "execution_count": 284,
   "id": "97d9eda7",
   "metadata": {},
   "outputs": [
    {
     "name": "stdout",
     "output_type": "stream",
     "text": [
      "AUC is 0.94\n"
     ]
    }
   ],
   "source": [
    "# calculate auc for plotting the roc curve\n",
    "\n",
    "auc = roc_auc_score(y_train,X_train['prob'])\n",
    "\n",
    "print(f\"AUC is {auc:.2f}\")"
   ]
  },
  {
   "cell_type": "code",
   "execution_count": 285,
   "id": "cdec5f19",
   "metadata": {},
   "outputs": [
    {
     "data": {
      "image/png": "[encoded data removed]",
      "text/plain": [
       "<Figure size 1080x720 with 1 Axes>"
      ]
     },
     "metadata": {
      "needs_background": "light"
     },
     "output_type": "display_data"
    }
   ],
   "source": [
    "# plot the roc curve\n",
    "\n",
    "plt.figure(figsize=(15,10))\n",
    "plt.plot(df_roc['FPR'],df_roc['TPR'],label=f\"AUC: {auc:.2f}\")\n",
    "plt.title('ROC curve')\n",
    "plt.xlabel('False Positive Rate (FPR)')\n",
    "plt.ylabel('True Positive Rate (TPR)')\n",
    "plt.legend()\n",
    "plt.show()"
   ]
  },
  {
   "cell_type": "code",
   "execution_count": 324,
   "id": "788a0797",
   "metadata": {},
   "outputs": [],
   "source": [
    "# now we will calculate TPR - FPR and maximize it to find the best threshold\n",
    "\n",
    "df_roc['TPR-FPR'] = df_roc['TPR'] - df_roc['FPR']"
   ]
  },
  {
   "cell_type": "code",
   "execution_count": 325,
   "id": "bbbb5ee0",
   "metadata": {},
   "outputs": [
    {
     "data": {
      "text/html": [
       "<div>\n",
       "<style scoped>\n",
       "    .dataframe tbody tr th:only-of-type {\n",
       "        vertical-align: middle;\n",
       "    }\n",
       "\n",
       "    .dataframe tbody tr th {\n",
       "        vertical-align: top;\n",
       "    }\n",
       "\n",
       "    .dataframe thead th {\n",
       "        text-align: right;\n",
       "    }\n",
       "</style>\n",
       "<table border=\"1\" class=\"dataframe\">\n",
       "  <thead>\n",
       "    <tr style=\"text-align: right;\">\n",
       "      <th></th>\n",
       "      <th>Threshold</th>\n",
       "      <th>TP</th>\n",
       "      <th>TN</th>\n",
       "      <th>FP</th>\n",
       "      <th>FN</th>\n",
       "      <th>TPR</th>\n",
       "      <th>FPR</th>\n",
       "      <th>TPR-FPR</th>\n",
       "    </tr>\n",
       "  </thead>\n",
       "  <tbody>\n",
       "    <tr>\n",
       "      <th>0</th>\n",
       "      <td>0.00</td>\n",
       "      <td>11861.0</td>\n",
       "      <td>132117.0</td>\n",
       "      <td>29284.0</td>\n",
       "      <td>3.0</td>\n",
       "      <td>0.999747</td>\n",
       "      <td>0.181436</td>\n",
       "      <td>0.818311</td>\n",
       "    </tr>\n",
       "    <tr>\n",
       "      <th>1</th>\n",
       "      <td>0.05</td>\n",
       "      <td>11861.0</td>\n",
       "      <td>132117.0</td>\n",
       "      <td>29284.0</td>\n",
       "      <td>3.0</td>\n",
       "      <td>0.999747</td>\n",
       "      <td>0.181436</td>\n",
       "      <td>0.818311</td>\n",
       "    </tr>\n",
       "    <tr>\n",
       "      <th>2</th>\n",
       "      <td>0.10</td>\n",
       "      <td>11861.0</td>\n",
       "      <td>132117.0</td>\n",
       "      <td>29284.0</td>\n",
       "      <td>3.0</td>\n",
       "      <td>0.999747</td>\n",
       "      <td>0.181436</td>\n",
       "      <td>0.818311</td>\n",
       "    </tr>\n",
       "    <tr>\n",
       "      <th>3</th>\n",
       "      <td>0.15</td>\n",
       "      <td>11861.0</td>\n",
       "      <td>132117.0</td>\n",
       "      <td>29284.0</td>\n",
       "      <td>3.0</td>\n",
       "      <td>0.999747</td>\n",
       "      <td>0.181436</td>\n",
       "      <td>0.818311</td>\n",
       "    </tr>\n",
       "    <tr>\n",
       "      <th>4</th>\n",
       "      <td>0.20</td>\n",
       "      <td>5988.0</td>\n",
       "      <td>154797.0</td>\n",
       "      <td>6604.0</td>\n",
       "      <td>5876.0</td>\n",
       "      <td>0.504720</td>\n",
       "      <td>0.040917</td>\n",
       "      <td>0.463803</td>\n",
       "    </tr>\n",
       "    <tr>\n",
       "      <th>5</th>\n",
       "      <td>0.25</td>\n",
       "      <td>5988.0</td>\n",
       "      <td>154797.0</td>\n",
       "      <td>6604.0</td>\n",
       "      <td>5876.0</td>\n",
       "      <td>0.504720</td>\n",
       "      <td>0.040917</td>\n",
       "      <td>0.463803</td>\n",
       "    </tr>\n",
       "    <tr>\n",
       "      <th>6</th>\n",
       "      <td>0.30</td>\n",
       "      <td>5988.0</td>\n",
       "      <td>154797.0</td>\n",
       "      <td>6604.0</td>\n",
       "      <td>5876.0</td>\n",
       "      <td>0.504720</td>\n",
       "      <td>0.040917</td>\n",
       "      <td>0.463803</td>\n",
       "    </tr>\n",
       "    <tr>\n",
       "      <th>7</th>\n",
       "      <td>0.35</td>\n",
       "      <td>5988.0</td>\n",
       "      <td>154797.0</td>\n",
       "      <td>6604.0</td>\n",
       "      <td>5876.0</td>\n",
       "      <td>0.504720</td>\n",
       "      <td>0.040917</td>\n",
       "      <td>0.463803</td>\n",
       "    </tr>\n",
       "    <tr>\n",
       "      <th>8</th>\n",
       "      <td>0.40</td>\n",
       "      <td>2270.0</td>\n",
       "      <td>160209.0</td>\n",
       "      <td>1192.0</td>\n",
       "      <td>9594.0</td>\n",
       "      <td>0.191335</td>\n",
       "      <td>0.007385</td>\n",
       "      <td>0.183950</td>\n",
       "    </tr>\n",
       "    <tr>\n",
       "      <th>9</th>\n",
       "      <td>0.45</td>\n",
       "      <td>2270.0</td>\n",
       "      <td>160209.0</td>\n",
       "      <td>1192.0</td>\n",
       "      <td>9594.0</td>\n",
       "      <td>0.191335</td>\n",
       "      <td>0.007385</td>\n",
       "      <td>0.183950</td>\n",
       "    </tr>\n",
       "    <tr>\n",
       "      <th>10</th>\n",
       "      <td>0.50</td>\n",
       "      <td>2270.0</td>\n",
       "      <td>160209.0</td>\n",
       "      <td>1192.0</td>\n",
       "      <td>9594.0</td>\n",
       "      <td>0.191335</td>\n",
       "      <td>0.007385</td>\n",
       "      <td>0.183950</td>\n",
       "    </tr>\n",
       "    <tr>\n",
       "      <th>11</th>\n",
       "      <td>0.55</td>\n",
       "      <td>2270.0</td>\n",
       "      <td>160209.0</td>\n",
       "      <td>1192.0</td>\n",
       "      <td>9594.0</td>\n",
       "      <td>0.191335</td>\n",
       "      <td>0.007385</td>\n",
       "      <td>0.183950</td>\n",
       "    </tr>\n",
       "    <tr>\n",
       "      <th>12</th>\n",
       "      <td>0.60</td>\n",
       "      <td>583.0</td>\n",
       "      <td>161295.0</td>\n",
       "      <td>106.0</td>\n",
       "      <td>11281.0</td>\n",
       "      <td>0.049140</td>\n",
       "      <td>0.000657</td>\n",
       "      <td>0.048484</td>\n",
       "    </tr>\n",
       "    <tr>\n",
       "      <th>13</th>\n",
       "      <td>0.65</td>\n",
       "      <td>583.0</td>\n",
       "      <td>161295.0</td>\n",
       "      <td>106.0</td>\n",
       "      <td>11281.0</td>\n",
       "      <td>0.049140</td>\n",
       "      <td>0.000657</td>\n",
       "      <td>0.048484</td>\n",
       "    </tr>\n",
       "    <tr>\n",
       "      <th>14</th>\n",
       "      <td>0.70</td>\n",
       "      <td>583.0</td>\n",
       "      <td>161295.0</td>\n",
       "      <td>106.0</td>\n",
       "      <td>11281.0</td>\n",
       "      <td>0.049140</td>\n",
       "      <td>0.000657</td>\n",
       "      <td>0.048484</td>\n",
       "    </tr>\n",
       "    <tr>\n",
       "      <th>15</th>\n",
       "      <td>0.75</td>\n",
       "      <td>583.0</td>\n",
       "      <td>161295.0</td>\n",
       "      <td>106.0</td>\n",
       "      <td>11281.0</td>\n",
       "      <td>0.049140</td>\n",
       "      <td>0.000657</td>\n",
       "      <td>0.048484</td>\n",
       "    </tr>\n",
       "    <tr>\n",
       "      <th>16</th>\n",
       "      <td>0.80</td>\n",
       "      <td>69.0</td>\n",
       "      <td>161401.0</td>\n",
       "      <td>0.0</td>\n",
       "      <td>11795.0</td>\n",
       "      <td>0.005816</td>\n",
       "      <td>0.000000</td>\n",
       "      <td>0.005816</td>\n",
       "    </tr>\n",
       "    <tr>\n",
       "      <th>17</th>\n",
       "      <td>0.85</td>\n",
       "      <td>69.0</td>\n",
       "      <td>161401.0</td>\n",
       "      <td>0.0</td>\n",
       "      <td>11795.0</td>\n",
       "      <td>0.005816</td>\n",
       "      <td>0.000000</td>\n",
       "      <td>0.005816</td>\n",
       "    </tr>\n",
       "    <tr>\n",
       "      <th>18</th>\n",
       "      <td>0.90</td>\n",
       "      <td>69.0</td>\n",
       "      <td>161401.0</td>\n",
       "      <td>0.0</td>\n",
       "      <td>11795.0</td>\n",
       "      <td>0.005816</td>\n",
       "      <td>0.000000</td>\n",
       "      <td>0.005816</td>\n",
       "    </tr>\n",
       "    <tr>\n",
       "      <th>19</th>\n",
       "      <td>0.95</td>\n",
       "      <td>69.0</td>\n",
       "      <td>161401.0</td>\n",
       "      <td>0.0</td>\n",
       "      <td>11795.0</td>\n",
       "      <td>0.005816</td>\n",
       "      <td>0.000000</td>\n",
       "      <td>0.005816</td>\n",
       "    </tr>\n",
       "  </tbody>\n",
       "</table>\n",
       "</div>"
      ],
      "text/plain": [
       "    Threshold       TP        TN       FP       FN       TPR       FPR  \\\n",
       "0        0.00  11861.0  132117.0  29284.0      3.0  0.999747  0.181436   \n",
       "1        0.05  11861.0  132117.0  29284.0      3.0  0.999747  0.181436   \n",
       "2        0.10  11861.0  132117.0  29284.0      3.0  0.999747  0.181436   \n",
       "3        0.15  11861.0  132117.0  29284.0      3.0  0.999747  0.181436   \n",
       "4        0.20   5988.0  154797.0   6604.0   5876.0  0.504720  0.040917   \n",
       "5        0.25   5988.0  154797.0   6604.0   5876.0  0.504720  0.040917   \n",
       "6        0.30   5988.0  154797.0   6604.0   5876.0  0.504720  0.040917   \n",
       "7        0.35   5988.0  154797.0   6604.0   5876.0  0.504720  0.040917   \n",
       "8        0.40   2270.0  160209.0   1192.0   9594.0  0.191335  0.007385   \n",
       "9        0.45   2270.0  160209.0   1192.0   9594.0  0.191335  0.007385   \n",
       "10       0.50   2270.0  160209.0   1192.0   9594.0  0.191335  0.007385   \n",
       "11       0.55   2270.0  160209.0   1192.0   9594.0  0.191335  0.007385   \n",
       "12       0.60    583.0  161295.0    106.0  11281.0  0.049140  0.000657   \n",
       "13       0.65    583.0  161295.0    106.0  11281.0  0.049140  0.000657   \n",
       "14       0.70    583.0  161295.0    106.0  11281.0  0.049140  0.000657   \n",
       "15       0.75    583.0  161295.0    106.0  11281.0  0.049140  0.000657   \n",
       "16       0.80     69.0  161401.0      0.0  11795.0  0.005816  0.000000   \n",
       "17       0.85     69.0  161401.0      0.0  11795.0  0.005816  0.000000   \n",
       "18       0.90     69.0  161401.0      0.0  11795.0  0.005816  0.000000   \n",
       "19       0.95     69.0  161401.0      0.0  11795.0  0.005816  0.000000   \n",
       "\n",
       "     TPR-FPR  \n",
       "0   0.818311  \n",
       "1   0.818311  \n",
       "2   0.818311  \n",
       "3   0.818311  \n",
       "4   0.463803  \n",
       "5   0.463803  \n",
       "6   0.463803  \n",
       "7   0.463803  \n",
       "8   0.183950  \n",
       "9   0.183950  \n",
       "10  0.183950  \n",
       "11  0.183950  \n",
       "12  0.048484  \n",
       "13  0.048484  \n",
       "14  0.048484  \n",
       "15  0.048484  \n",
       "16  0.005816  \n",
       "17  0.005816  \n",
       "18  0.005816  \n",
       "19  0.005816  "
      ]
     },
     "execution_count": 325,
     "metadata": {},
     "output_type": "execute_result"
    }
   ],
   "source": [
    "df_roc.head(20)"
   ]
  },
  {
   "cell_type": "markdown",
   "id": "465431fc",
   "metadata": {},
   "source": [
    "#### Selecting threshold value of 0.15 which is recommended by the formula of max(tpr-fpr)"
   ]
  },
  {
   "cell_type": "code",
   "execution_count": 326,
   "id": "e828eb58",
   "metadata": {},
   "outputs": [
    {
     "name": "stdout",
     "output_type": "stream",
     "text": [
      "best threshold is 0.15000000000000002\n"
     ]
    }
   ],
   "source": [
    "# select max value of tpr - fpr\n",
    "\n",
    "max_tpr_fpr_diff = df_roc['TPR-FPR'].max()\n",
    "\n",
    "selected_threshold = df_roc[df_roc['TPR-FPR']==max_tpr_fpr_diff]['Threshold'].values[3]\n",
    "\n",
    "print(f\"best threshold is {selected_threshold}\")"
   ]
  },
  {
   "cell_type": "code",
   "execution_count": 327,
   "id": "db6223ec",
   "metadata": {},
   "outputs": [
    {
     "data": {
      "text/plain": [
       "array([[132117,  29284],\n",
       "       [     3,  11861]], dtype=int64)"
      ]
     },
     "execution_count": 327,
     "metadata": {},
     "output_type": "execute_result"
    }
   ],
   "source": [
    "# compute confusion matrix for this threshold\n",
    "\n",
    "y_hat_selected_threshold = (X_train['prob']>selected_threshold).astype(int)\n",
    "\n",
    "cm_max_diff = confusion_matrix(y_train,y_hat_selected_threshold)\n",
    "cm_max_diff"
   ]
  },
  {
   "cell_type": "code",
   "execution_count": 328,
   "id": "2044516d",
   "metadata": {},
   "outputs": [
    {
     "name": "stdout",
     "output_type": "stream",
     "text": [
      "                 Predicted Negative  Predicted Positive\n",
      "Actual Negative              132117               29284\n",
      "Actual Positive                   3               11861\n"
     ]
    }
   ],
   "source": [
    "# creating a neat confusion matrix with labels\n",
    "\n",
    "cm_df = pd.DataFrame(cm_max_diff,\n",
    "                    columns=['Predicted Negative','Predicted Positive'],\n",
    "                    index=['Actual Negative','Actual Positive'])\n",
    "\n",
    "print(cm_df,sep='')"
   ]
  },
  {
   "cell_type": "code",
   "execution_count": 329,
   "id": "9a279cf1",
   "metadata": {},
   "outputs": [],
   "source": [
    "# compute metrics from confusion matrix\n",
    "\n",
    "TN = cm_max_diff[0,0]\n",
    "TP = cm_max_diff[1,1]\n",
    "FP = cm_max_diff[0,1]\n",
    "FN = cm_max_diff[1,0]\n",
    "\n",
    "accuracy = (TP+TN)/(TP+TN+FP+FN)\n",
    "misaccuracy = 1 - accuracy\n",
    "recall = TP/(TP+FN)\n",
    "precision = TP/(TP+FP)\n",
    "f1_score = (2*precision*recall)/(precision+recall)"
   ]
  },
  {
   "cell_type": "code",
   "execution_count": 330,
   "id": "a26769cc",
   "metadata": {},
   "outputs": [
    {
     "name": "stdout",
     "output_type": "stream",
     "text": [
      "accuracy: 0.83\n",
      "misaccuracy: 0.17\n",
      "recall: 1.00\n",
      "precision: 0.29\n",
      "F1 score: 0.45\n"
     ]
    }
   ],
   "source": [
    "print(f\"accuracy: {accuracy:.2f}\")\n",
    "print(f\"misaccuracy: {misaccuracy:.2f}\")\n",
    "print(f\"recall: {recall:.2f}\")\n",
    "print(f\"precision: {precision:.2f}\")\n",
    "print(f\"F1 score: {f1_score:.2f}\")"
   ]
  },
  {
   "cell_type": "markdown",
   "id": "6f67c1fe",
   "metadata": {},
   "source": [
    "#### Selecting the next best threshold value of 0.35 which we can see from the df_roc table above"
   ]
  },
  {
   "cell_type": "code",
   "execution_count": 331,
   "id": "7eb3b4d0",
   "metadata": {},
   "outputs": [],
   "source": [
    "selected_threshold_2 = 0.35"
   ]
  },
  {
   "cell_type": "code",
   "execution_count": 332,
   "id": "3e478bb4",
   "metadata": {},
   "outputs": [
    {
     "data": {
      "text/plain": [
       "array([[154797,   6604],\n",
       "       [  5876,   5988]], dtype=int64)"
      ]
     },
     "execution_count": 332,
     "metadata": {},
     "output_type": "execute_result"
    }
   ],
   "source": [
    "# compute confusion matrix for this threshold\n",
    "\n",
    "y_hat_selected_threshold_2 = (X_train['prob']>selected_threshold_2).astype(int)\n",
    "\n",
    "cm_max_diff = confusion_matrix(y_train,y_hat_selected_threshold_2)\n",
    "cm_max_diff"
   ]
  },
  {
   "cell_type": "code",
   "execution_count": 333,
   "id": "2044516d",
   "metadata": {},
   "outputs": [
    {
     "name": "stdout",
     "output_type": "stream",
     "text": [
      "                 Predicted Negative  Predicted Positive\n",
      "Actual Negative              154797                6604\n",
      "Actual Positive                5876                5988\n"
     ]
    }
   ],
   "source": [
    "# creating a neat confusion matrix with labels\n",
    "\n",
    "cm_df = pd.DataFrame(cm_max_diff,\n",
    "                    columns=['Predicted Negative','Predicted Positive'],\n",
    "                    index=['Actual Negative','Actual Positive'])\n",
    "\n",
    "print(cm_df,sep='')"
   ]
  },
  {
   "cell_type": "code",
   "execution_count": 334,
   "id": "9a279cf1",
   "metadata": {},
   "outputs": [],
   "source": [
    "# compute metrics from confusion matrix\n",
    "\n",
    "TN = cm_max_diff[0,0]\n",
    "TP = cm_max_diff[1,1]\n",
    "FP = cm_max_diff[0,1]\n",
    "FN = cm_max_diff[1,0]\n",
    "\n",
    "accuracy_2 = (TP+TN)/(TP+TN+FP+FN)\n",
    "misaccuracy_2 = 1 - accuracy\n",
    "recall_2 = TP/(TP+FN)\n",
    "precision_2 = TP/(TP+FP)\n",
    "f1_score_2 = (2*precision*recall)/(precision+recall)"
   ]
  },
  {
   "cell_type": "code",
   "execution_count": 335,
   "id": "a26769cc",
   "metadata": {},
   "outputs": [
    {
     "name": "stdout",
     "output_type": "stream",
     "text": [
      "accuracy: 0.93\n",
      "misaccuracy: 0.17\n",
      "recall: 0.50\n",
      "precision: 0.48\n",
      "F1 score: 0.45\n"
     ]
    }
   ],
   "source": [
    "print(f\"accuracy: {accuracy_2:.2f}\")\n",
    "print(f\"misaccuracy: {misaccuracy_2:.2f}\")\n",
    "print(f\"recall: {recall_2:.2f}\")\n",
    "print(f\"precision: {precision_2:.2f}\")\n",
    "print(f\"F1 score: {f1_score_2:.2f}\")"
   ]
  },
  {
   "cell_type": "code",
   "execution_count": 336,
   "id": "ddddaa79",
   "metadata": {},
   "outputs": [
    {
     "data": {
      "text/html": [
       "<div>\n",
       "<style scoped>\n",
       "    .dataframe tbody tr th:only-of-type {\n",
       "        vertical-align: middle;\n",
       "    }\n",
       "\n",
       "    .dataframe tbody tr th {\n",
       "        vertical-align: top;\n",
       "    }\n",
       "\n",
       "    .dataframe thead th {\n",
       "        text-align: right;\n",
       "    }\n",
       "</style>\n",
       "<table border=\"1\" class=\"dataframe\">\n",
       "  <thead>\n",
       "    <tr style=\"text-align: right;\">\n",
       "      <th></th>\n",
       "      <th>Threshold</th>\n",
       "      <th>accuracy</th>\n",
       "      <th>recall</th>\n",
       "      <th>precision</th>\n",
       "      <th>F1 score</th>\n",
       "    </tr>\n",
       "  </thead>\n",
       "  <tbody>\n",
       "    <tr>\n",
       "      <th>0</th>\n",
       "      <td>0.15</td>\n",
       "      <td>0.830970</td>\n",
       "      <td>0.999747</td>\n",
       "      <td>0.288273</td>\n",
       "      <td>0.447509</td>\n",
       "    </tr>\n",
       "    <tr>\n",
       "      <th>1</th>\n",
       "      <td>0.35</td>\n",
       "      <td>0.927972</td>\n",
       "      <td>0.504720</td>\n",
       "      <td>0.475540</td>\n",
       "      <td>0.447509</td>\n",
       "    </tr>\n",
       "  </tbody>\n",
       "</table>\n",
       "</div>"
      ],
      "text/plain": [
       "   Threshold  accuracy    recall  precision  F1 score\n",
       "0       0.15  0.830970  0.999747   0.288273  0.447509\n",
       "1       0.35  0.927972  0.504720   0.475540  0.447509"
      ]
     },
     "execution_count": 336,
     "metadata": {},
     "output_type": "execute_result"
    }
   ],
   "source": [
    "pd.DataFrame({\n",
    "    'Threshold':[selected_threshold,selected_threshold_2],\n",
    "    'accuracy':[accuracy,accuracy_2],\n",
    "    'recall':[recall,recall_2],\n",
    "    'precision':[precision,precision_2],\n",
    "    'F1 score':[f1_score,f1_score_2]\n",
    "})"
   ]
  },
  {
   "cell_type": "raw",
   "id": "953e8434",
   "metadata": {},
   "source": [
    "For the later selected threshold,\n",
    "\n",
    "1. Accuracy is Improving, indicating that model is performing better at threshold of 0.35.\n",
    "\n",
    "2. Recall is decreasing significantly by almost 50% but that wasnt the only evaluation metric which was our concern hence we move on to further metrics. Recall of 0.5 indicates that out of all positives instances in the dataset, our model was able to correctly identify 50% of them.\n",
    "\n",
    "3. Precision is increasing which indicates that model is able to correctly predict the true positive classes out of all positive predictions. A precision score of ~0.5 indicates that out of all instances predicted as positive by classifier only 50% of the instances were true positives.\n",
    "\n",
    "4. F1 score is constant at both the thresholds. A score of 0.44 might indicate that the model's precision and recall are moderate, but there is room for improvement, especially if higher precision and recall are desired."
   ]
  },
  {
   "cell_type": "markdown",
   "id": "2a04e617",
   "metadata": {},
   "source": [
    "### Decision Tree Classifier"
   ]
  },
  {
   "cell_type": "code",
   "execution_count": 395,
   "id": "c315b9fc",
   "metadata": {},
   "outputs": [],
   "source": [
    "from sklearn.tree import DecisionTreeClassifier, plot_tree"
   ]
  },
  {
   "cell_type": "code",
   "execution_count": 396,
   "id": "d82734cc",
   "metadata": {},
   "outputs": [],
   "source": [
    "dtr = DecisionTreeClassifier(criterion='gini',max_depth=3)"
   ]
  },
  {
   "cell_type": "code",
   "execution_count": 397,
   "id": "2fa76554",
   "metadata": {},
   "outputs": [],
   "source": [
    "model=dtr.fit(X_train,y_train)"
   ]
  },
  {
   "cell_type": "code",
   "execution_count": 398,
   "id": "30763fce",
   "metadata": {},
   "outputs": [
    {
     "data": {
      "image/png": "[encoded data removed]",
      "text/plain": [
       "<Figure size 1500x1200 with 1 Axes>"
      ]
     },
     "metadata": {
      "needs_background": "light"
     },
     "output_type": "display_data"
    }
   ],
   "source": [
    "plt.figure(figsize=(10,8), dpi=150)\n",
    "plot_tree(model, feature_names=X_train.columns);"
   ]
  },
  {
   "cell_type": "code",
   "execution_count": 399,
   "id": "b4fe846d",
   "metadata": {},
   "outputs": [
    {
     "data": {
      "text/html": [
       "<div>\n",
       "<style scoped>\n",
       "    .dataframe tbody tr th:only-of-type {\n",
       "        vertical-align: middle;\n",
       "    }\n",
       "\n",
       "    .dataframe tbody tr th {\n",
       "        vertical-align: top;\n",
       "    }\n",
       "\n",
       "    .dataframe thead th {\n",
       "        text-align: right;\n",
       "    }\n",
       "</style>\n",
       "<table border=\"1\" class=\"dataframe\">\n",
       "  <thead>\n",
       "    <tr style=\"text-align: right;\">\n",
       "      <th></th>\n",
       "      <th>BMI</th>\n",
       "      <th>PhysicalHealth</th>\n",
       "      <th>MentalHealth</th>\n",
       "      <th>SleepTime</th>\n",
       "      <th>Smoking_No</th>\n",
       "      <th>Smoking_Yes</th>\n",
       "      <th>AlcoholDrinking_No</th>\n",
       "      <th>AlcoholDrinking_Yes</th>\n",
       "      <th>Stroke_No</th>\n",
       "      <th>Stroke_Yes</th>\n",
       "      <th>...</th>\n",
       "      <th>GenHealth_Poor</th>\n",
       "      <th>GenHealth_Very good</th>\n",
       "      <th>Asthma_No</th>\n",
       "      <th>Asthma_Yes</th>\n",
       "      <th>KidneyDisease_No</th>\n",
       "      <th>KidneyDisease_Yes</th>\n",
       "      <th>SkinCancer_No</th>\n",
       "      <th>SkinCancer_Yes</th>\n",
       "      <th>prob</th>\n",
       "      <th>prob_dt</th>\n",
       "    </tr>\n",
       "  </thead>\n",
       "  <tbody>\n",
       "    <tr>\n",
       "      <th>73148</th>\n",
       "      <td>0.603454</td>\n",
       "      <td>0.0</td>\n",
       "      <td>1.0</td>\n",
       "      <td>0.500</td>\n",
       "      <td>0</td>\n",
       "      <td>1</td>\n",
       "      <td>1</td>\n",
       "      <td>0</td>\n",
       "      <td>1</td>\n",
       "      <td>0</td>\n",
       "      <td>...</td>\n",
       "      <td>0</td>\n",
       "      <td>1</td>\n",
       "      <td>1</td>\n",
       "      <td>0</td>\n",
       "      <td>1</td>\n",
       "      <td>0</td>\n",
       "      <td>1</td>\n",
       "      <td>0</td>\n",
       "      <td>0.0</td>\n",
       "      <td>0.000008</td>\n",
       "    </tr>\n",
       "    <tr>\n",
       "      <th>311801</th>\n",
       "      <td>0.723332</td>\n",
       "      <td>0.0</td>\n",
       "      <td>0.0</td>\n",
       "      <td>0.625</td>\n",
       "      <td>0</td>\n",
       "      <td>1</td>\n",
       "      <td>1</td>\n",
       "      <td>0</td>\n",
       "      <td>0</td>\n",
       "      <td>1</td>\n",
       "      <td>...</td>\n",
       "      <td>0</td>\n",
       "      <td>0</td>\n",
       "      <td>1</td>\n",
       "      <td>0</td>\n",
       "      <td>1</td>\n",
       "      <td>0</td>\n",
       "      <td>1</td>\n",
       "      <td>0</td>\n",
       "      <td>0.6</td>\n",
       "      <td>0.655690</td>\n",
       "    </tr>\n",
       "    <tr>\n",
       "      <th>152340</th>\n",
       "      <td>0.847951</td>\n",
       "      <td>0.0</td>\n",
       "      <td>0.0</td>\n",
       "      <td>0.500</td>\n",
       "      <td>1</td>\n",
       "      <td>0</td>\n",
       "      <td>1</td>\n",
       "      <td>0</td>\n",
       "      <td>1</td>\n",
       "      <td>0</td>\n",
       "      <td>...</td>\n",
       "      <td>0</td>\n",
       "      <td>0</td>\n",
       "      <td>1</td>\n",
       "      <td>0</td>\n",
       "      <td>1</td>\n",
       "      <td>0</td>\n",
       "      <td>1</td>\n",
       "      <td>0</td>\n",
       "      <td>0.0</td>\n",
       "      <td>0.000008</td>\n",
       "    </tr>\n",
       "    <tr>\n",
       "      <th>55296</th>\n",
       "      <td>0.551642</td>\n",
       "      <td>0.0</td>\n",
       "      <td>0.0</td>\n",
       "      <td>0.500</td>\n",
       "      <td>1</td>\n",
       "      <td>0</td>\n",
       "      <td>1</td>\n",
       "      <td>0</td>\n",
       "      <td>1</td>\n",
       "      <td>0</td>\n",
       "      <td>...</td>\n",
       "      <td>0</td>\n",
       "      <td>1</td>\n",
       "      <td>1</td>\n",
       "      <td>0</td>\n",
       "      <td>1</td>\n",
       "      <td>0</td>\n",
       "      <td>1</td>\n",
       "      <td>0</td>\n",
       "      <td>0.4</td>\n",
       "      <td>0.407229</td>\n",
       "    </tr>\n",
       "    <tr>\n",
       "      <th>5177</th>\n",
       "      <td>0.168303</td>\n",
       "      <td>0.0</td>\n",
       "      <td>0.0</td>\n",
       "      <td>0.500</td>\n",
       "      <td>0</td>\n",
       "      <td>1</td>\n",
       "      <td>1</td>\n",
       "      <td>0</td>\n",
       "      <td>1</td>\n",
       "      <td>0</td>\n",
       "      <td>...</td>\n",
       "      <td>0</td>\n",
       "      <td>1</td>\n",
       "      <td>1</td>\n",
       "      <td>0</td>\n",
       "      <td>1</td>\n",
       "      <td>0</td>\n",
       "      <td>1</td>\n",
       "      <td>0</td>\n",
       "      <td>0.0</td>\n",
       "      <td>0.000008</td>\n",
       "    </tr>\n",
       "  </tbody>\n",
       "</table>\n",
       "<p>5 rows × 52 columns</p>\n",
       "</div>"
      ],
      "text/plain": [
       "             BMI  PhysicalHealth  MentalHealth  SleepTime  Smoking_No  \\\n",
       "73148   0.603454             0.0           1.0      0.500           0   \n",
       "311801  0.723332             0.0           0.0      0.625           0   \n",
       "152340  0.847951             0.0           0.0      0.500           1   \n",
       "55296   0.551642             0.0           0.0      0.500           1   \n",
       "5177    0.168303             0.0           0.0      0.500           0   \n",
       "\n",
       "        Smoking_Yes  AlcoholDrinking_No  AlcoholDrinking_Yes  Stroke_No  \\\n",
       "73148             1                   1                    0          1   \n",
       "311801            1                   1                    0          0   \n",
       "152340            0                   1                    0          1   \n",
       "55296             0                   1                    0          1   \n",
       "5177              1                   1                    0          1   \n",
       "\n",
       "        Stroke_Yes  ...  GenHealth_Poor  GenHealth_Very good  Asthma_No  \\\n",
       "73148            0  ...               0                    1          1   \n",
       "311801           1  ...               0                    0          1   \n",
       "152340           0  ...               0                    0          1   \n",
       "55296            0  ...               0                    1          1   \n",
       "5177             0  ...               0                    1          1   \n",
       "\n",
       "        Asthma_Yes  KidneyDisease_No  KidneyDisease_Yes  SkinCancer_No  \\\n",
       "73148            0                 1                  0              1   \n",
       "311801           0                 1                  0              1   \n",
       "152340           0                 1                  0              1   \n",
       "55296            0                 1                  0              1   \n",
       "5177             0                 1                  0              1   \n",
       "\n",
       "        SkinCancer_Yes  prob   prob_dt  \n",
       "73148                0   0.0  0.000008  \n",
       "311801               0   0.6  0.655690  \n",
       "152340               0   0.0  0.000008  \n",
       "55296                0   0.4  0.407229  \n",
       "5177                 0   0.0  0.000008  \n",
       "\n",
       "[5 rows x 52 columns]"
      ]
     },
     "execution_count": 399,
     "metadata": {},
     "output_type": "execute_result"
    }
   ],
   "source": [
    "# creating a new column in the dataframe and adding the values of p(y=1) in the columns for each row\n",
    "\n",
    "X_train['prob_dt'] = dtr.predict_proba(X_train)[:,1]\n",
    "X_train.head()"
   ]
  },
  {
   "cell_type": "code",
   "execution_count": 400,
   "id": "25617c3d",
   "metadata": {},
   "outputs": [
    {
     "data": {
      "text/html": [
       "<div>\n",
       "<style scoped>\n",
       "    .dataframe tbody tr th:only-of-type {\n",
       "        vertical-align: middle;\n",
       "    }\n",
       "\n",
       "    .dataframe tbody tr th {\n",
       "        vertical-align: top;\n",
       "    }\n",
       "\n",
       "    .dataframe thead th {\n",
       "        text-align: right;\n",
       "    }\n",
       "</style>\n",
       "<table border=\"1\" class=\"dataframe\">\n",
       "  <thead>\n",
       "    <tr style=\"text-align: right;\">\n",
       "      <th></th>\n",
       "      <th>Threshold</th>\n",
       "      <th>TP</th>\n",
       "      <th>TN</th>\n",
       "      <th>FP</th>\n",
       "      <th>FN</th>\n",
       "      <th>TPR</th>\n",
       "      <th>FPR</th>\n",
       "    </tr>\n",
       "  </thead>\n",
       "  <tbody>\n",
       "  </tbody>\n",
       "</table>\n",
       "</div>"
      ],
      "text/plain": [
       "Empty DataFrame\n",
       "Columns: [Threshold, TP, TN, FP, FN, TPR, FPR]\n",
       "Index: []"
      ]
     },
     "execution_count": 400,
     "metadata": {},
     "output_type": "execute_result"
    }
   ],
   "source": [
    "# creating a new dataframe to store all the True/False and Positive/Negative values\n",
    "\n",
    "df_roc2 = pd.DataFrame(columns=['Threshold','TP','TN','FP','FN','TPR','FPR'])\n",
    "df_roc2"
   ]
  },
  {
   "cell_type": "code",
   "execution_count": 401,
   "id": "1bc27fd4",
   "metadata": {},
   "outputs": [],
   "source": [
    "from sklearn.metrics import classification_report, confusion_matrix, roc_auc_score"
   ]
  },
  {
   "cell_type": "code",
   "execution_count": 402,
   "id": "139116cf",
   "metadata": {},
   "outputs": [
    {
     "data": {
      "text/html": [
       "<div>\n",
       "<style scoped>\n",
       "    .dataframe tbody tr th:only-of-type {\n",
       "        vertical-align: middle;\n",
       "    }\n",
       "\n",
       "    .dataframe tbody tr th {\n",
       "        vertical-align: top;\n",
       "    }\n",
       "\n",
       "    .dataframe thead th {\n",
       "        text-align: right;\n",
       "    }\n",
       "</style>\n",
       "<table border=\"1\" class=\"dataframe\">\n",
       "  <thead>\n",
       "    <tr style=\"text-align: right;\">\n",
       "      <th></th>\n",
       "      <th>Threshold</th>\n",
       "      <th>TP</th>\n",
       "      <th>TN</th>\n",
       "      <th>FP</th>\n",
       "      <th>FN</th>\n",
       "      <th>TPR</th>\n",
       "      <th>FPR</th>\n",
       "    </tr>\n",
       "  </thead>\n",
       "  <tbody>\n",
       "    <tr>\n",
       "      <th>0</th>\n",
       "      <td>0.00</td>\n",
       "      <td>11864.0</td>\n",
       "      <td>2154.0</td>\n",
       "      <td>159247.0</td>\n",
       "      <td>0.0</td>\n",
       "      <td>1.000000</td>\n",
       "      <td>0.986654</td>\n",
       "    </tr>\n",
       "    <tr>\n",
       "      <th>1</th>\n",
       "      <td>0.05</td>\n",
       "      <td>11861.0</td>\n",
       "      <td>132117.0</td>\n",
       "      <td>29284.0</td>\n",
       "      <td>3.0</td>\n",
       "      <td>0.999747</td>\n",
       "      <td>0.181436</td>\n",
       "    </tr>\n",
       "    <tr>\n",
       "      <th>2</th>\n",
       "      <td>0.10</td>\n",
       "      <td>11861.0</td>\n",
       "      <td>132117.0</td>\n",
       "      <td>29284.0</td>\n",
       "      <td>3.0</td>\n",
       "      <td>0.999747</td>\n",
       "      <td>0.181436</td>\n",
       "    </tr>\n",
       "    <tr>\n",
       "      <th>3</th>\n",
       "      <td>0.15</td>\n",
       "      <td>11861.0</td>\n",
       "      <td>132117.0</td>\n",
       "      <td>29284.0</td>\n",
       "      <td>3.0</td>\n",
       "      <td>0.999747</td>\n",
       "      <td>0.181436</td>\n",
       "    </tr>\n",
       "    <tr>\n",
       "      <th>4</th>\n",
       "      <td>0.20</td>\n",
       "      <td>11861.0</td>\n",
       "      <td>132117.0</td>\n",
       "      <td>29284.0</td>\n",
       "      <td>3.0</td>\n",
       "      <td>0.999747</td>\n",
       "      <td>0.181436</td>\n",
       "    </tr>\n",
       "    <tr>\n",
       "      <th>5</th>\n",
       "      <td>0.25</td>\n",
       "      <td>6388.0</td>\n",
       "      <td>153672.0</td>\n",
       "      <td>7729.0</td>\n",
       "      <td>5476.0</td>\n",
       "      <td>0.538436</td>\n",
       "      <td>0.047887</td>\n",
       "    </tr>\n",
       "    <tr>\n",
       "      <th>6</th>\n",
       "      <td>0.30</td>\n",
       "      <td>5988.0</td>\n",
       "      <td>154797.0</td>\n",
       "      <td>6604.0</td>\n",
       "      <td>5876.0</td>\n",
       "      <td>0.504720</td>\n",
       "      <td>0.040917</td>\n",
       "    </tr>\n",
       "    <tr>\n",
       "      <th>7</th>\n",
       "      <td>0.35</td>\n",
       "      <td>5988.0</td>\n",
       "      <td>154797.0</td>\n",
       "      <td>6604.0</td>\n",
       "      <td>5876.0</td>\n",
       "      <td>0.504720</td>\n",
       "      <td>0.040917</td>\n",
       "    </tr>\n",
       "    <tr>\n",
       "      <th>8</th>\n",
       "      <td>0.40</td>\n",
       "      <td>5988.0</td>\n",
       "      <td>154797.0</td>\n",
       "      <td>6604.0</td>\n",
       "      <td>5876.0</td>\n",
       "      <td>0.504720</td>\n",
       "      <td>0.040917</td>\n",
       "    </tr>\n",
       "    <tr>\n",
       "      <th>9</th>\n",
       "      <td>0.45</td>\n",
       "      <td>2270.0</td>\n",
       "      <td>160209.0</td>\n",
       "      <td>1192.0</td>\n",
       "      <td>9594.0</td>\n",
       "      <td>0.191335</td>\n",
       "      <td>0.007385</td>\n",
       "    </tr>\n",
       "    <tr>\n",
       "      <th>10</th>\n",
       "      <td>0.50</td>\n",
       "      <td>2270.0</td>\n",
       "      <td>160209.0</td>\n",
       "      <td>1192.0</td>\n",
       "      <td>9594.0</td>\n",
       "      <td>0.191335</td>\n",
       "      <td>0.007385</td>\n",
       "    </tr>\n",
       "    <tr>\n",
       "      <th>11</th>\n",
       "      <td>0.55</td>\n",
       "      <td>2270.0</td>\n",
       "      <td>160209.0</td>\n",
       "      <td>1192.0</td>\n",
       "      <td>9594.0</td>\n",
       "      <td>0.191335</td>\n",
       "      <td>0.007385</td>\n",
       "    </tr>\n",
       "    <tr>\n",
       "      <th>12</th>\n",
       "      <td>0.60</td>\n",
       "      <td>2270.0</td>\n",
       "      <td>160209.0</td>\n",
       "      <td>1192.0</td>\n",
       "      <td>9594.0</td>\n",
       "      <td>0.191335</td>\n",
       "      <td>0.007385</td>\n",
       "    </tr>\n",
       "    <tr>\n",
       "      <th>13</th>\n",
       "      <td>0.65</td>\n",
       "      <td>2270.0</td>\n",
       "      <td>160209.0</td>\n",
       "      <td>1192.0</td>\n",
       "      <td>9594.0</td>\n",
       "      <td>0.191335</td>\n",
       "      <td>0.007385</td>\n",
       "    </tr>\n",
       "    <tr>\n",
       "      <th>14</th>\n",
       "      <td>0.70</td>\n",
       "      <td>0.0</td>\n",
       "      <td>161401.0</td>\n",
       "      <td>0.0</td>\n",
       "      <td>11864.0</td>\n",
       "      <td>0.000000</td>\n",
       "      <td>0.000000</td>\n",
       "    </tr>\n",
       "    <tr>\n",
       "      <th>15</th>\n",
       "      <td>0.75</td>\n",
       "      <td>0.0</td>\n",
       "      <td>161401.0</td>\n",
       "      <td>0.0</td>\n",
       "      <td>11864.0</td>\n",
       "      <td>0.000000</td>\n",
       "      <td>0.000000</td>\n",
       "    </tr>\n",
       "    <tr>\n",
       "      <th>16</th>\n",
       "      <td>0.80</td>\n",
       "      <td>0.0</td>\n",
       "      <td>161401.0</td>\n",
       "      <td>0.0</td>\n",
       "      <td>11864.0</td>\n",
       "      <td>0.000000</td>\n",
       "      <td>0.000000</td>\n",
       "    </tr>\n",
       "    <tr>\n",
       "      <th>17</th>\n",
       "      <td>0.85</td>\n",
       "      <td>0.0</td>\n",
       "      <td>161401.0</td>\n",
       "      <td>0.0</td>\n",
       "      <td>11864.0</td>\n",
       "      <td>0.000000</td>\n",
       "      <td>0.000000</td>\n",
       "    </tr>\n",
       "    <tr>\n",
       "      <th>18</th>\n",
       "      <td>0.90</td>\n",
       "      <td>0.0</td>\n",
       "      <td>161401.0</td>\n",
       "      <td>0.0</td>\n",
       "      <td>11864.0</td>\n",
       "      <td>0.000000</td>\n",
       "      <td>0.000000</td>\n",
       "    </tr>\n",
       "    <tr>\n",
       "      <th>19</th>\n",
       "      <td>0.95</td>\n",
       "      <td>0.0</td>\n",
       "      <td>161401.0</td>\n",
       "      <td>0.0</td>\n",
       "      <td>11864.0</td>\n",
       "      <td>0.000000</td>\n",
       "      <td>0.000000</td>\n",
       "    </tr>\n",
       "  </tbody>\n",
       "</table>\n",
       "</div>"
      ],
      "text/plain": [
       "    Threshold       TP        TN        FP       FN       TPR       FPR\n",
       "0        0.00  11864.0    2154.0  159247.0      0.0  1.000000  0.986654\n",
       "1        0.05  11861.0  132117.0   29284.0      3.0  0.999747  0.181436\n",
       "2        0.10  11861.0  132117.0   29284.0      3.0  0.999747  0.181436\n",
       "3        0.15  11861.0  132117.0   29284.0      3.0  0.999747  0.181436\n",
       "4        0.20  11861.0  132117.0   29284.0      3.0  0.999747  0.181436\n",
       "5        0.25   6388.0  153672.0    7729.0   5476.0  0.538436  0.047887\n",
       "6        0.30   5988.0  154797.0    6604.0   5876.0  0.504720  0.040917\n",
       "7        0.35   5988.0  154797.0    6604.0   5876.0  0.504720  0.040917\n",
       "8        0.40   5988.0  154797.0    6604.0   5876.0  0.504720  0.040917\n",
       "9        0.45   2270.0  160209.0    1192.0   9594.0  0.191335  0.007385\n",
       "10       0.50   2270.0  160209.0    1192.0   9594.0  0.191335  0.007385\n",
       "11       0.55   2270.0  160209.0    1192.0   9594.0  0.191335  0.007385\n",
       "12       0.60   2270.0  160209.0    1192.0   9594.0  0.191335  0.007385\n",
       "13       0.65   2270.0  160209.0    1192.0   9594.0  0.191335  0.007385\n",
       "14       0.70      0.0  161401.0       0.0  11864.0  0.000000  0.000000\n",
       "15       0.75      0.0  161401.0       0.0  11864.0  0.000000  0.000000\n",
       "16       0.80      0.0  161401.0       0.0  11864.0  0.000000  0.000000\n",
       "17       0.85      0.0  161401.0       0.0  11864.0  0.000000  0.000000\n",
       "18       0.90      0.0  161401.0       0.0  11864.0  0.000000  0.000000\n",
       "19       0.95      0.0  161401.0       0.0  11864.0  0.000000  0.000000"
      ]
     },
     "execution_count": 402,
     "metadata": {},
     "output_type": "execute_result"
    }
   ],
   "source": [
    "# run a for loop which iterates through different thresholds starting from 0 upto 1 with steps of 0.1\n",
    "\n",
    "for threshold in np.arange(0.0,1.1,0.05):\n",
    "    y_pred=(X_train['prob_dt']>threshold).astype(int)\n",
    "    cm=confusion_matrix(y_train,y_pred)\n",
    "    \n",
    "    TP=cm[1,1]\n",
    "    TN=cm[0,0]\n",
    "    FP=cm[0,1]\n",
    "    FN=cm[1,0]\n",
    "    TPR=TP/(TP+FN)\n",
    "    FPR=FP/(FP+TN)\n",
    "    \n",
    "    df_roc2.loc[len(df_roc2)]=pd.Series({\n",
    "        'Threshold':threshold, 'TP':TP, 'TN':TN,\n",
    "        'FP':FP, 'FN':FN,\n",
    "        'TPR':TPR, 'FPR':FPR\n",
    "    })\n",
    "    \n",
    "df_roc2.head(20)"
   ]
  },
  {
   "cell_type": "code",
   "execution_count": 403,
   "id": "97d9eda7",
   "metadata": {},
   "outputs": [
    {
     "name": "stdout",
     "output_type": "stream",
     "text": [
      "AUC is 0.94\n"
     ]
    }
   ],
   "source": [
    "# calculate auc for plotting the roc curve\n",
    "\n",
    "auc = roc_auc_score(y_train,X_train['prob_dt'])\n",
    "\n",
    "print(f\"AUC is {auc:.2f}\")"
   ]
  },
  {
   "cell_type": "code",
   "execution_count": 404,
   "id": "cdec5f19",
   "metadata": {},
   "outputs": [
    {
     "data": {
      "image/png": "[encoded data removed]",
      "text/plain": [
       "<Figure size 1080x720 with 1 Axes>"
      ]
     },
     "metadata": {
      "needs_background": "light"
     },
     "output_type": "display_data"
    }
   ],
   "source": [
    "# plot the roc curve\n",
    "\n",
    "plt.figure(figsize=(15,10))\n",
    "plt.plot(df_roc2['FPR'],df_roc2['TPR'],label=f\"AUC: {auc:.2f}\")\n",
    "plt.title('ROC curve')\n",
    "plt.xlabel('False Positive Rate (FPR)')\n",
    "plt.ylabel('True Positive Rate (TPR)')\n",
    "plt.legend()\n",
    "plt.show()"
   ]
  },
  {
   "cell_type": "code",
   "execution_count": 405,
   "id": "788a0797",
   "metadata": {},
   "outputs": [],
   "source": [
    "# now we will calculate TPR - FPR and maximize it to find the best threshold\n",
    "\n",
    "df_roc2['TPR-FPR'] = df_roc2['TPR'] - df_roc2['FPR']"
   ]
  },
  {
   "cell_type": "code",
   "execution_count": 406,
   "id": "01f8023b",
   "metadata": {},
   "outputs": [
    {
     "data": {
      "text/html": [
       "<div>\n",
       "<style scoped>\n",
       "    .dataframe tbody tr th:only-of-type {\n",
       "        vertical-align: middle;\n",
       "    }\n",
       "\n",
       "    .dataframe tbody tr th {\n",
       "        vertical-align: top;\n",
       "    }\n",
       "\n",
       "    .dataframe thead th {\n",
       "        text-align: right;\n",
       "    }\n",
       "</style>\n",
       "<table border=\"1\" class=\"dataframe\">\n",
       "  <thead>\n",
       "    <tr style=\"text-align: right;\">\n",
       "      <th></th>\n",
       "      <th>Threshold</th>\n",
       "      <th>TP</th>\n",
       "      <th>TN</th>\n",
       "      <th>FP</th>\n",
       "      <th>FN</th>\n",
       "      <th>TPR</th>\n",
       "      <th>FPR</th>\n",
       "      <th>TPR-FPR</th>\n",
       "    </tr>\n",
       "  </thead>\n",
       "  <tbody>\n",
       "    <tr>\n",
       "      <th>0</th>\n",
       "      <td>0.00</td>\n",
       "      <td>11864.0</td>\n",
       "      <td>2154.0</td>\n",
       "      <td>159247.0</td>\n",
       "      <td>0.0</td>\n",
       "      <td>1.000000</td>\n",
       "      <td>0.986654</td>\n",
       "      <td>0.013346</td>\n",
       "    </tr>\n",
       "    <tr>\n",
       "      <th>1</th>\n",
       "      <td>0.05</td>\n",
       "      <td>11861.0</td>\n",
       "      <td>132117.0</td>\n",
       "      <td>29284.0</td>\n",
       "      <td>3.0</td>\n",
       "      <td>0.999747</td>\n",
       "      <td>0.181436</td>\n",
       "      <td>0.818311</td>\n",
       "    </tr>\n",
       "    <tr>\n",
       "      <th>2</th>\n",
       "      <td>0.10</td>\n",
       "      <td>11861.0</td>\n",
       "      <td>132117.0</td>\n",
       "      <td>29284.0</td>\n",
       "      <td>3.0</td>\n",
       "      <td>0.999747</td>\n",
       "      <td>0.181436</td>\n",
       "      <td>0.818311</td>\n",
       "    </tr>\n",
       "    <tr>\n",
       "      <th>3</th>\n",
       "      <td>0.15</td>\n",
       "      <td>11861.0</td>\n",
       "      <td>132117.0</td>\n",
       "      <td>29284.0</td>\n",
       "      <td>3.0</td>\n",
       "      <td>0.999747</td>\n",
       "      <td>0.181436</td>\n",
       "      <td>0.818311</td>\n",
       "    </tr>\n",
       "    <tr>\n",
       "      <th>4</th>\n",
       "      <td>0.20</td>\n",
       "      <td>11861.0</td>\n",
       "      <td>132117.0</td>\n",
       "      <td>29284.0</td>\n",
       "      <td>3.0</td>\n",
       "      <td>0.999747</td>\n",
       "      <td>0.181436</td>\n",
       "      <td>0.818311</td>\n",
       "    </tr>\n",
       "    <tr>\n",
       "      <th>5</th>\n",
       "      <td>0.25</td>\n",
       "      <td>6388.0</td>\n",
       "      <td>153672.0</td>\n",
       "      <td>7729.0</td>\n",
       "      <td>5476.0</td>\n",
       "      <td>0.538436</td>\n",
       "      <td>0.047887</td>\n",
       "      <td>0.490549</td>\n",
       "    </tr>\n",
       "    <tr>\n",
       "      <th>6</th>\n",
       "      <td>0.30</td>\n",
       "      <td>5988.0</td>\n",
       "      <td>154797.0</td>\n",
       "      <td>6604.0</td>\n",
       "      <td>5876.0</td>\n",
       "      <td>0.504720</td>\n",
       "      <td>0.040917</td>\n",
       "      <td>0.463803</td>\n",
       "    </tr>\n",
       "    <tr>\n",
       "      <th>7</th>\n",
       "      <td>0.35</td>\n",
       "      <td>5988.0</td>\n",
       "      <td>154797.0</td>\n",
       "      <td>6604.0</td>\n",
       "      <td>5876.0</td>\n",
       "      <td>0.504720</td>\n",
       "      <td>0.040917</td>\n",
       "      <td>0.463803</td>\n",
       "    </tr>\n",
       "    <tr>\n",
       "      <th>8</th>\n",
       "      <td>0.40</td>\n",
       "      <td>5988.0</td>\n",
       "      <td>154797.0</td>\n",
       "      <td>6604.0</td>\n",
       "      <td>5876.0</td>\n",
       "      <td>0.504720</td>\n",
       "      <td>0.040917</td>\n",
       "      <td>0.463803</td>\n",
       "    </tr>\n",
       "    <tr>\n",
       "      <th>9</th>\n",
       "      <td>0.45</td>\n",
       "      <td>2270.0</td>\n",
       "      <td>160209.0</td>\n",
       "      <td>1192.0</td>\n",
       "      <td>9594.0</td>\n",
       "      <td>0.191335</td>\n",
       "      <td>0.007385</td>\n",
       "      <td>0.183950</td>\n",
       "    </tr>\n",
       "    <tr>\n",
       "      <th>10</th>\n",
       "      <td>0.50</td>\n",
       "      <td>2270.0</td>\n",
       "      <td>160209.0</td>\n",
       "      <td>1192.0</td>\n",
       "      <td>9594.0</td>\n",
       "      <td>0.191335</td>\n",
       "      <td>0.007385</td>\n",
       "      <td>0.183950</td>\n",
       "    </tr>\n",
       "    <tr>\n",
       "      <th>11</th>\n",
       "      <td>0.55</td>\n",
       "      <td>2270.0</td>\n",
       "      <td>160209.0</td>\n",
       "      <td>1192.0</td>\n",
       "      <td>9594.0</td>\n",
       "      <td>0.191335</td>\n",
       "      <td>0.007385</td>\n",
       "      <td>0.183950</td>\n",
       "    </tr>\n",
       "    <tr>\n",
       "      <th>12</th>\n",
       "      <td>0.60</td>\n",
       "      <td>2270.0</td>\n",
       "      <td>160209.0</td>\n",
       "      <td>1192.0</td>\n",
       "      <td>9594.0</td>\n",
       "      <td>0.191335</td>\n",
       "      <td>0.007385</td>\n",
       "      <td>0.183950</td>\n",
       "    </tr>\n",
       "    <tr>\n",
       "      <th>13</th>\n",
       "      <td>0.65</td>\n",
       "      <td>2270.0</td>\n",
       "      <td>160209.0</td>\n",
       "      <td>1192.0</td>\n",
       "      <td>9594.0</td>\n",
       "      <td>0.191335</td>\n",
       "      <td>0.007385</td>\n",
       "      <td>0.183950</td>\n",
       "    </tr>\n",
       "    <tr>\n",
       "      <th>14</th>\n",
       "      <td>0.70</td>\n",
       "      <td>0.0</td>\n",
       "      <td>161401.0</td>\n",
       "      <td>0.0</td>\n",
       "      <td>11864.0</td>\n",
       "      <td>0.000000</td>\n",
       "      <td>0.000000</td>\n",
       "      <td>0.000000</td>\n",
       "    </tr>\n",
       "    <tr>\n",
       "      <th>15</th>\n",
       "      <td>0.75</td>\n",
       "      <td>0.0</td>\n",
       "      <td>161401.0</td>\n",
       "      <td>0.0</td>\n",
       "      <td>11864.0</td>\n",
       "      <td>0.000000</td>\n",
       "      <td>0.000000</td>\n",
       "      <td>0.000000</td>\n",
       "    </tr>\n",
       "    <tr>\n",
       "      <th>16</th>\n",
       "      <td>0.80</td>\n",
       "      <td>0.0</td>\n",
       "      <td>161401.0</td>\n",
       "      <td>0.0</td>\n",
       "      <td>11864.0</td>\n",
       "      <td>0.000000</td>\n",
       "      <td>0.000000</td>\n",
       "      <td>0.000000</td>\n",
       "    </tr>\n",
       "    <tr>\n",
       "      <th>17</th>\n",
       "      <td>0.85</td>\n",
       "      <td>0.0</td>\n",
       "      <td>161401.0</td>\n",
       "      <td>0.0</td>\n",
       "      <td>11864.0</td>\n",
       "      <td>0.000000</td>\n",
       "      <td>0.000000</td>\n",
       "      <td>0.000000</td>\n",
       "    </tr>\n",
       "    <tr>\n",
       "      <th>18</th>\n",
       "      <td>0.90</td>\n",
       "      <td>0.0</td>\n",
       "      <td>161401.0</td>\n",
       "      <td>0.0</td>\n",
       "      <td>11864.0</td>\n",
       "      <td>0.000000</td>\n",
       "      <td>0.000000</td>\n",
       "      <td>0.000000</td>\n",
       "    </tr>\n",
       "    <tr>\n",
       "      <th>19</th>\n",
       "      <td>0.95</td>\n",
       "      <td>0.0</td>\n",
       "      <td>161401.0</td>\n",
       "      <td>0.0</td>\n",
       "      <td>11864.0</td>\n",
       "      <td>0.000000</td>\n",
       "      <td>0.000000</td>\n",
       "      <td>0.000000</td>\n",
       "    </tr>\n",
       "    <tr>\n",
       "      <th>20</th>\n",
       "      <td>1.00</td>\n",
       "      <td>0.0</td>\n",
       "      <td>161401.0</td>\n",
       "      <td>0.0</td>\n",
       "      <td>11864.0</td>\n",
       "      <td>0.000000</td>\n",
       "      <td>0.000000</td>\n",
       "      <td>0.000000</td>\n",
       "    </tr>\n",
       "    <tr>\n",
       "      <th>21</th>\n",
       "      <td>1.05</td>\n",
       "      <td>0.0</td>\n",
       "      <td>161401.0</td>\n",
       "      <td>0.0</td>\n",
       "      <td>11864.0</td>\n",
       "      <td>0.000000</td>\n",
       "      <td>0.000000</td>\n",
       "      <td>0.000000</td>\n",
       "    </tr>\n",
       "  </tbody>\n",
       "</table>\n",
       "</div>"
      ],
      "text/plain": [
       "    Threshold       TP        TN        FP       FN       TPR       FPR  \\\n",
       "0        0.00  11864.0    2154.0  159247.0      0.0  1.000000  0.986654   \n",
       "1        0.05  11861.0  132117.0   29284.0      3.0  0.999747  0.181436   \n",
       "2        0.10  11861.0  132117.0   29284.0      3.0  0.999747  0.181436   \n",
       "3        0.15  11861.0  132117.0   29284.0      3.0  0.999747  0.181436   \n",
       "4        0.20  11861.0  132117.0   29284.0      3.0  0.999747  0.181436   \n",
       "5        0.25   6388.0  153672.0    7729.0   5476.0  0.538436  0.047887   \n",
       "6        0.30   5988.0  154797.0    6604.0   5876.0  0.504720  0.040917   \n",
       "7        0.35   5988.0  154797.0    6604.0   5876.0  0.504720  0.040917   \n",
       "8        0.40   5988.0  154797.0    6604.0   5876.0  0.504720  0.040917   \n",
       "9        0.45   2270.0  160209.0    1192.0   9594.0  0.191335  0.007385   \n",
       "10       0.50   2270.0  160209.0    1192.0   9594.0  0.191335  0.007385   \n",
       "11       0.55   2270.0  160209.0    1192.0   9594.0  0.191335  0.007385   \n",
       "12       0.60   2270.0  160209.0    1192.0   9594.0  0.191335  0.007385   \n",
       "13       0.65   2270.0  160209.0    1192.0   9594.0  0.191335  0.007385   \n",
       "14       0.70      0.0  161401.0       0.0  11864.0  0.000000  0.000000   \n",
       "15       0.75      0.0  161401.0       0.0  11864.0  0.000000  0.000000   \n",
       "16       0.80      0.0  161401.0       0.0  11864.0  0.000000  0.000000   \n",
       "17       0.85      0.0  161401.0       0.0  11864.0  0.000000  0.000000   \n",
       "18       0.90      0.0  161401.0       0.0  11864.0  0.000000  0.000000   \n",
       "19       0.95      0.0  161401.0       0.0  11864.0  0.000000  0.000000   \n",
       "20       1.00      0.0  161401.0       0.0  11864.0  0.000000  0.000000   \n",
       "21       1.05      0.0  161401.0       0.0  11864.0  0.000000  0.000000   \n",
       "\n",
       "     TPR-FPR  \n",
       "0   0.013346  \n",
       "1   0.818311  \n",
       "2   0.818311  \n",
       "3   0.818311  \n",
       "4   0.818311  \n",
       "5   0.490549  \n",
       "6   0.463803  \n",
       "7   0.463803  \n",
       "8   0.463803  \n",
       "9   0.183950  \n",
       "10  0.183950  \n",
       "11  0.183950  \n",
       "12  0.183950  \n",
       "13  0.183950  \n",
       "14  0.000000  \n",
       "15  0.000000  \n",
       "16  0.000000  \n",
       "17  0.000000  \n",
       "18  0.000000  \n",
       "19  0.000000  \n",
       "20  0.000000  \n",
       "21  0.000000  "
      ]
     },
     "execution_count": 406,
     "metadata": {},
     "output_type": "execute_result"
    }
   ],
   "source": [
    "df_roc2"
   ]
  },
  {
   "cell_type": "code",
   "execution_count": 407,
   "id": "e828eb58",
   "metadata": {},
   "outputs": [
    {
     "name": "stdout",
     "output_type": "stream",
     "text": [
      "best threshold is 0.2\n"
     ]
    }
   ],
   "source": [
    "# select max value of tpr - fpr\n",
    "\n",
    "max_tpr_fpr_diff_dt = df_roc2['TPR-FPR'].max()\n",
    "\n",
    "selected_threshold_dt = df_roc2[df_roc2['TPR-FPR']==max_tpr_fpr_diff_dt]['Threshold'].values[3]\n",
    "\n",
    "print(f\"best threshold is {selected_threshold_dt}\")"
   ]
  },
  {
   "cell_type": "code",
   "execution_count": 408,
   "id": "db6223ec",
   "metadata": {},
   "outputs": [
    {
     "data": {
      "text/plain": [
       "array([[132117,  29284],\n",
       "       [     3,  11861]], dtype=int64)"
      ]
     },
     "execution_count": 408,
     "metadata": {},
     "output_type": "execute_result"
    }
   ],
   "source": [
    "# compute confusion matrix for this threshold\n",
    "\n",
    "y_hat_selected_threshold_dt = (X_train['prob_dt']>selected_threshold_dt).astype(int)\n",
    "\n",
    "cm_max_diff_dt = confusion_matrix(y_train,y_hat_selected_threshold_dt)\n",
    "cm_max_diff_dt"
   ]
  },
  {
   "cell_type": "code",
   "execution_count": 409,
   "id": "2044516d",
   "metadata": {},
   "outputs": [
    {
     "name": "stdout",
     "output_type": "stream",
     "text": [
      "                 Predicted Negative  Predicted Positive\n",
      "Actual Negative              132117               29284\n",
      "Actual Positive                   3               11861\n"
     ]
    }
   ],
   "source": [
    "# creating a neat confusion matrix with labels\n",
    "\n",
    "cm_df_dt = pd.DataFrame(cm_max_diff_dt,\n",
    "                    columns=['Predicted Negative','Predicted Positive'],\n",
    "                    index=['Actual Negative','Actual Positive'])\n",
    "\n",
    "print(cm_df_dt,sep='')"
   ]
  },
  {
   "cell_type": "code",
   "execution_count": 410,
   "id": "9a279cf1",
   "metadata": {},
   "outputs": [],
   "source": [
    "# compute metrics from confusion matrix\n",
    "\n",
    "TN = cm_max_diff_dt[0,0]\n",
    "TP = cm_max_diff_dt[1,1]\n",
    "FP = cm_max_diff_dt[0,1]\n",
    "FN = cm_max_diff_dt[1,0]\n",
    "\n",
    "accuracy_dt = (TP+TN)/(TP+TN+FP+FN)\n",
    "misaccuracy_dt = 1 - accuracy\n",
    "recall_dt = TP/(TP+FN)\n",
    "precision_dt = TP/(TP+FP)\n",
    "f1_score_dt = (2*precision*recall)/(precision+recall)"
   ]
  },
  {
   "cell_type": "code",
   "execution_count": 411,
   "id": "a26769cc",
   "metadata": {},
   "outputs": [
    {
     "name": "stdout",
     "output_type": "stream",
     "text": [
      "accuracy: 0.83\n",
      "misaccuracy: 0.17\n",
      "recall: 1.00\n",
      "precision: 0.29\n",
      "F1 score: 0.45\n"
     ]
    }
   ],
   "source": [
    "print(f\"accuracy: {accuracy_dt:.2f}\")\n",
    "print(f\"misaccuracy: {misaccuracy_dt:.2f}\")\n",
    "print(f\"recall: {recall_dt:.2f}\")\n",
    "print(f\"precision: {precision_dt:.2f}\")\n",
    "print(f\"F1 score: {f1_score_dt:.2f}\")"
   ]
  },
  {
   "cell_type": "markdown",
   "id": "fd017fac",
   "metadata": {},
   "source": [
    "#### Computing evaluation metrics at next best threshold"
   ]
  },
  {
   "cell_type": "code",
   "execution_count": 412,
   "id": "db6223ec",
   "metadata": {},
   "outputs": [
    {
     "data": {
      "text/plain": [
       "array([[153672,   7729],\n",
       "       [  5476,   6388]], dtype=int64)"
      ]
     },
     "execution_count": 412,
     "metadata": {},
     "output_type": "execute_result"
    }
   ],
   "source": [
    "# compute confusion matrix for this threshold\n",
    "selected_threshold_dt_2 =0.25\n",
    "y_hat_selected_threshold_dt_2 = (X_train['prob_dt']>selected_threshold_dt_2).astype(int)\n",
    "\n",
    "cm_max_diff_dt = confusion_matrix(y_train,y_hat_selected_threshold_dt_2)\n",
    "cm_max_diff_dt"
   ]
  },
  {
   "cell_type": "code",
   "execution_count": 413,
   "id": "2044516d",
   "metadata": {},
   "outputs": [
    {
     "name": "stdout",
     "output_type": "stream",
     "text": [
      "                 Predicted Negative  Predicted Positive\n",
      "Actual Negative              153672                7729\n",
      "Actual Positive                5476                6388\n"
     ]
    }
   ],
   "source": [
    "# creating a neat confusion matrix with labels\n",
    "\n",
    "cm_df_dt = pd.DataFrame(cm_max_diff_dt,\n",
    "                    columns=['Predicted Negative','Predicted Positive'],\n",
    "                    index=['Actual Negative','Actual Positive'])\n",
    "\n",
    "print(cm_df_dt,sep='')"
   ]
  },
  {
   "cell_type": "code",
   "execution_count": 414,
   "id": "9a279cf1",
   "metadata": {},
   "outputs": [],
   "source": [
    "# compute metrics from confusion matrix\n",
    "\n",
    "TN = cm_max_diff_dt[0,0]\n",
    "TP = cm_max_diff_dt[1,1]\n",
    "FP = cm_max_diff_dt[0,1]\n",
    "FN = cm_max_diff_dt[1,0]\n",
    "\n",
    "accuracy_dt_2 = (TP+TN)/(TP+TN+FP+FN)\n",
    "misaccuracy_dt_2 = 1 - accuracy\n",
    "recall_dt_2 = TP/(TP+FN)\n",
    "precision_dt_2 = TP/(TP+FP)\n",
    "f1_score_dt_2 = (2*precision*recall)/(precision+recall)"
   ]
  },
  {
   "cell_type": "code",
   "execution_count": 415,
   "id": "a26769cc",
   "metadata": {},
   "outputs": [
    {
     "name": "stdout",
     "output_type": "stream",
     "text": [
      "accuracy: 0.92\n",
      "misaccuracy: 0.17\n",
      "recall: 0.54\n",
      "precision: 0.45\n",
      "F1 score: 0.45\n"
     ]
    }
   ],
   "source": [
    "print(f\"accuracy: {accuracy_dt_2:.2f}\")\n",
    "print(f\"misaccuracy: {misaccuracy_dt_2:.2f}\")\n",
    "print(f\"recall: {recall_dt_2:.2f}\")\n",
    "print(f\"precision: {precision_dt_2:.2f}\")\n",
    "print(f\"F1 score: {f1_score_dt_2:.2f}\")"
   ]
  },
  {
   "cell_type": "code",
   "execution_count": 416,
   "id": "2ac6be38",
   "metadata": {},
   "outputs": [
    {
     "data": {
      "text/html": [
       "<div>\n",
       "<style scoped>\n",
       "    .dataframe tbody tr th:only-of-type {\n",
       "        vertical-align: middle;\n",
       "    }\n",
       "\n",
       "    .dataframe tbody tr th {\n",
       "        vertical-align: top;\n",
       "    }\n",
       "\n",
       "    .dataframe thead th {\n",
       "        text-align: right;\n",
       "    }\n",
       "</style>\n",
       "<table border=\"1\" class=\"dataframe\">\n",
       "  <thead>\n",
       "    <tr style=\"text-align: right;\">\n",
       "      <th></th>\n",
       "      <th>Threshold</th>\n",
       "      <th>Accuracy</th>\n",
       "      <th>Recall</th>\n",
       "      <th>Precision</th>\n",
       "      <th>F1 score</th>\n",
       "    </tr>\n",
       "  </thead>\n",
       "  <tbody>\n",
       "    <tr>\n",
       "      <th>0</th>\n",
       "      <td>0.20</td>\n",
       "      <td>0.830970</td>\n",
       "      <td>0.999747</td>\n",
       "      <td>0.288273</td>\n",
       "      <td>0.447509</td>\n",
       "    </tr>\n",
       "    <tr>\n",
       "      <th>1</th>\n",
       "      <td>0.25</td>\n",
       "      <td>0.923787</td>\n",
       "      <td>0.538436</td>\n",
       "      <td>0.452504</td>\n",
       "      <td>0.447509</td>\n",
       "    </tr>\n",
       "  </tbody>\n",
       "</table>\n",
       "</div>"
      ],
      "text/plain": [
       "   Threshold  Accuracy    Recall  Precision  F1 score\n",
       "0       0.20  0.830970  0.999747   0.288273  0.447509\n",
       "1       0.25  0.923787  0.538436   0.452504  0.447509"
      ]
     },
     "execution_count": 416,
     "metadata": {},
     "output_type": "execute_result"
    }
   ],
   "source": [
    "pd.DataFrame({\n",
    "    'Threshold':[selected_threshold_dt,selected_threshold_dt_2],\n",
    "    'Accuracy':[accuracy_dt,accuracy_dt_2],\n",
    "    'Recall':[recall_dt,recall_dt_2],\n",
    "    'Precision':[precision_dt,precision_dt_2],\n",
    "    'F1 score':[f1_score_dt,f1_score_dt_2]\n",
    "})"
   ]
  },
  {
   "cell_type": "code",
   "execution_count": null,
   "id": "2e4a9156",
   "metadata": {},
   "outputs": [],
   "source": []
  }
 ],
 "metadata": {
  "kernelspec": {
   "display_name": "Python 3 (ipykernel)",
   "language": "python",
   "name": "python3"
  },
  "language_info": {
   "codemirror_mode": {
    "name": "ipython",
    "version": 3
   },
   "file_extension": ".py",
   "mimetype": "text/x-python",
   "name": "python",
   "nbconvert_exporter": "python",
   "pygments_lexer": "ipython3",
   "version": "3.9.7"
  },
  "varInspector": {
   "cols": {
    "lenName": 16,
    "lenType": 16,
    "lenVar": 40
   },
   "kernels_config": {
    "python": {
     "delete_cmd_postfix": "",
     "delete_cmd_prefix": "del ",
     "library": "var_list.py",
     "varRefreshCmd": "print(var_dic_list())"
    },
    "r": {
     "delete_cmd_postfix": ") ",
     "delete_cmd_prefix": "rm(",
     "library": "var_list.r",
     "varRefreshCmd": "cat(var_dic_list()) "
    }
   },
   "types_to_exclude": [
    "module",
    "function",
    "builtin_function_or_method",
    "instance",
    "_Feature"
   ],
   "window_display": false
  }
 },
 "nbformat": 4,
 "nbformat_minor": 5
}
